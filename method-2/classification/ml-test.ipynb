{
 "cells": [
  {
   "cell_type": "code",
   "execution_count": 2,
   "metadata": {},
   "outputs": [],
   "source": [
    "import pandas as pd\n",
    "from sklearn import svm"
   ]
  },
  {
   "cell_type": "code",
   "execution_count": 3,
   "metadata": {},
   "outputs": [],
   "source": [
    "train = pd.read_csv('train.csv')\n",
    "test = pd.read_csv('test.csv')"
   ]
  },
  {
   "cell_type": "code",
   "execution_count": 4,
   "metadata": {},
   "outputs": [
    {
     "data": {
      "text/plain": [
       "image_file         False\n",
       "hand               False\n",
       "leg                False\n",
       "hip                False\n",
       "shoulder           False\n",
       "mixed              False\n",
       "label              False\n",
       "perimeter          False\n",
       "nm_lns             False\n",
       "mean_length        False\n",
       "std_length         False\n",
       "mean_slope         False\n",
       "std_slope          False\n",
       "max_acute_angle    False\n",
       "min_acute_angle    False\n",
       "area               False\n",
       "num_corners        False\n",
       "corner_ratio       False\n",
       "dtype: bool"
      ]
     },
     "execution_count": 4,
     "metadata": {},
     "output_type": "execute_result"
    }
   ],
   "source": [
    "train.drop(train[(train['mean_slope'] == \"--\") | (train['std_slope'] == \"--\")].index, inplace=True)\n",
    "train.isin([\"--\"]).any()\n"
   ]
  },
  {
   "cell_type": "code",
   "execution_count": 5,
   "metadata": {},
   "outputs": [
    {
     "data": {
      "text/plain": [
       "image_file         False\n",
       "hand               False\n",
       "leg                False\n",
       "hip                False\n",
       "shoulder           False\n",
       "mixed              False\n",
       "label              False\n",
       "perimeter          False\n",
       "nm_lns             False\n",
       "mean_length        False\n",
       "std_length         False\n",
       "mean_slope         False\n",
       "std_slope          False\n",
       "max_acute_angle    False\n",
       "min_acute_angle    False\n",
       "area               False\n",
       "num_corners        False\n",
       "corner_ratio       False\n",
       "dtype: bool"
      ]
     },
     "execution_count": 5,
     "metadata": {},
     "output_type": "execute_result"
    }
   ],
   "source": [
    "test.drop(test[(test['mean_slope'] == \"--\") | (test['std_slope'] == \"--\")].index, inplace=True)\n",
    "test.isin([\"--\"]).any()\n"
   ]
  },
  {
   "cell_type": "code",
   "execution_count": 6,
   "metadata": {},
   "outputs": [
    {
     "name": "stdout",
     "output_type": "stream",
     "text": [
      "Best: 0.298341 using {'class_weight': {0: 1, 1: 5}}\n",
      "0.024652 (0.026644) with: {'class_weight': {0: 1, 1: 2}}\n",
      "0.173845 (0.056971) with: {'class_weight': {0: 1, 1: 4}}\n",
      "0.298341 (0.049342) with: {'class_weight': {0: 1, 1: 5}}\n"
     ]
    }
   ],
   "source": [
    "from numpy import mean\n",
    "from sklearn.metrics import classification_report, confusion_matrix\n",
    "from sklearn.model_selection import GridSearchCV, RepeatedStratifiedKFold, cross_val_score\n",
    "X_train = train.drop(columns=['image_file', 'label'])\n",
    "y_train = train['label']\n",
    "\n",
    "X_test = test.drop(columns=['image_file', 'label'])\n",
    "y_test = test['label']\n",
    "\n",
    "\n",
    "model = svm.SVC(gamma='scale')\n",
    "\n",
    "balance = [{0:1, 1:2}, {0:1,1:4}, {0:1,1:5}]\n",
    "param_grid = dict(class_weight=balance)\n",
    "cv = RepeatedStratifiedKFold(n_splits=10, n_repeats=3, random_state=1)\n",
    "grid = GridSearchCV(estimator=model, param_grid=param_grid, n_jobs=-1, cv=cv, scoring='f1')\n",
    "\n",
    "grid_result = grid.fit(X_train, y_train)\n",
    "\n",
    "# report the best configuration\n",
    "print(\"Best: %f using %s\" % (grid_result.best_score_, grid_result.best_params_))\n",
    "# report all configurations\n",
    "means = grid_result.cv_results_['mean_test_score']\n",
    "stds = grid_result.cv_results_['std_test_score']\n",
    "params = grid_result.cv_results_['params']\n",
    "for mean, stdev, param in zip(means, stds, params):\n",
    "    print(\"%f (%f) with: %r\" % (mean, stdev, param))"
   ]
  },
  {
   "cell_type": "code",
   "execution_count": 7,
   "metadata": {},
   "outputs": [
    {
     "name": "stdout",
     "output_type": "stream",
     "text": [
      "Classification Report:\n",
      "              precision    recall  f1-score   support\n",
      "\n",
      "           0       0.84      0.80      0.82       674\n",
      "           1       0.23      0.30      0.26       142\n",
      "\n",
      "    accuracy                           0.71       816\n",
      "   macro avg       0.54      0.55      0.54       816\n",
      "weighted avg       0.74      0.71      0.72       816\n",
      "\n",
      "Confusion Matrix:\n",
      "[[536 138]\n",
      " [100  42]]\n"
     ]
    }
   ],
   "source": [
    "from sklearn.metrics import classification_report, confusion_matrix\n",
    "weigths = grid_result.best_params_['class_weight']\n",
    "model = svm.SVC(gamma='scale', class_weight=weigths)\n",
    "model.fit(X_train, y_train)\n",
    "y_pred = model.predict(X_test)\n",
    "\n",
    "print(\"Classification Report:\")\n",
    "print(classification_report(y_test, y_pred))\n",
    "\n",
    "print(\"Confusion Matrix:\")\n",
    "print(confusion_matrix(y_test, y_pred))\n"
   ]
  },
  {
   "cell_type": "code",
   "execution_count": 42,
   "metadata": {},
   "outputs": [
    {
     "name": "stdout",
     "output_type": "stream",
     "text": [
      "Epoch 1/30\n",
      "47/51 [==========================>...] - ETA: 0s - loss: 6.7358 - accuracy: 0.5974 - auc: 0.5277 - precision: 0.1950 - recall: 0.4121WARNING:tensorflow:Early stopping conditioned on metric `AUC` which is not available. Available metrics are: loss,accuracy,auc,precision,recall\n",
      "51/51 [==============================] - 1s 11ms/step - loss: 6.3304 - accuracy: 0.6082 - auc: 0.5351 - precision: 0.2005 - recall: 0.4108\n",
      "Epoch 2/30\n",
      "47/51 [==========================>...] - ETA: 0s - loss: 1.5206 - accuracy: 0.7035 - auc: 0.5554 - precision: 0.2395 - recall: 0.3126WARNING:tensorflow:Early stopping conditioned on metric `AUC` which is not available. Available metrics are: loss,accuracy,auc,precision,recall\n",
      "51/51 [==============================] - 0s 8ms/step - loss: 1.6109 - accuracy: 0.6916 - auc: 0.5572 - precision: 0.2316 - recall: 0.3252\n",
      "Epoch 3/30\n",
      "51/51 [==============================] - ETA: 0s - loss: 2.2747 - accuracy: 0.6676 - auc: 0.5526 - precision: 0.2249 - recall: 0.3636   WARNING:tensorflow:Early stopping conditioned on metric `AUC` which is not available. Available metrics are: loss,accuracy,auc,precision,recall\n",
      "51/51 [==============================] - 0s 7ms/step - loss: 2.2747 - accuracy: 0.6676 - auc: 0.5526 - precision: 0.2249 - recall: 0.3636\n",
      "Epoch 4/30\n",
      "50/51 [============================>.] - ETA: 0s - loss: 1.3604 - accuracy: 0.6966 - auc: 0.5670 - precision: 0.2354 - recall: 0.3209WARNING:tensorflow:Early stopping conditioned on metric `AUC` which is not available. Available metrics are: loss,accuracy,auc,precision,recall\n",
      "51/51 [==============================] - 0s 7ms/step - loss: 1.3755 - accuracy: 0.6937 - auc: 0.5664 - precision: 0.2330 - recall: 0.3234\n",
      "Epoch 5/30\n",
      "50/51 [============================>.] - ETA: 0s - loss: 2.1736 - accuracy: 0.6684 - auc: 0.5426 - precision: 0.2181 - recall: 0.3434WARNING:tensorflow:Early stopping conditioned on metric `AUC` which is not available. Available metrics are: loss,accuracy,auc,precision,recall\n",
      "51/51 [==============================] - 0s 7ms/step - loss: 2.1833 - accuracy: 0.6704 - auc: 0.5405 - precision: 0.2178 - recall: 0.3374\n",
      "Epoch 6/30\n",
      "45/51 [=========================>....] - ETA: 0s - loss: 1.6326 - accuracy: 0.6983 - auc: 0.5946 - precision: 0.2527 - recall: 0.3752WARNING:tensorflow:Early stopping conditioned on metric `AUC` which is not available. Available metrics are: loss,accuracy,auc,precision,recall\n",
      "51/51 [==============================] - 0s 6ms/step - loss: 1.6482 - accuracy: 0.6943 - auc: 0.5857 - precision: 0.2452 - recall: 0.3549\n",
      "Epoch 7/30\n",
      "49/51 [===========================>..] - ETA: 0s - loss: 1.8128 - accuracy: 0.6792 - auc: 0.5540 - precision: 0.2333 - recall: 0.3612WARNING:tensorflow:Early stopping conditioned on metric `AUC` which is not available. Available metrics are: loss,accuracy,auc,precision,recall\n",
      "51/51 [==============================] - 0s 7ms/step - loss: 1.8303 - accuracy: 0.6694 - auc: 0.5569 - precision: 0.2327 - recall: 0.3829\n",
      "Epoch 8/30\n",
      "45/51 [=========================>....] - ETA: 0s - loss: 1.8168 - accuracy: 0.7056 - auc: 0.5911 - precision: 0.2586 - recall: 0.3549WARNING:tensorflow:Early stopping conditioned on metric `AUC` which is not available. Available metrics are: loss,accuracy,auc,precision,recall\n",
      "51/51 [==============================] - 0s 9ms/step - loss: 1.7826 - accuracy: 0.7085 - auc: 0.5896 - precision: 0.2571 - recall: 0.3479\n",
      "Epoch 9/30\n",
      "51/51 [==============================] - ETA: 0s - loss: 1.2928 - accuracy: 0.7346 - auc: 0.5919 - precision: 0.2538 - recall: 0.2622WARNING:tensorflow:Early stopping conditioned on metric `AUC` which is not available. Available metrics are: loss,accuracy,auc,precision,recall\n",
      "51/51 [==============================] - 0s 6ms/step - loss: 1.2928 - accuracy: 0.7346 - auc: 0.5919 - precision: 0.2538 - recall: 0.2622\n",
      "Epoch 10/30\n",
      "50/51 [============================>.] - ETA: 0s - loss: 1.2536 - accuracy: 0.7487 - auc: 0.6106 - precision: 0.2789 - recall: 0.2700WARNING:tensorflow:Early stopping conditioned on metric `AUC` which is not available. Available metrics are: loss,accuracy,auc,precision,recall\n",
      "51/51 [==============================] - 0s 7ms/step - loss: 1.2476 - accuracy: 0.7500 - auc: 0.6102 - precision: 0.2789 - recall: 0.2657\n",
      "Epoch 11/30\n",
      "50/51 [============================>.] - ETA: 0s - loss: 1.3875 - accuracy: 0.7319 - auc: 0.6140 - precision: 0.2923 - recall: 0.3592   WARNING:tensorflow:Early stopping conditioned on metric `AUC` which is not available. Available metrics are: loss,accuracy,auc,precision,recall\n",
      "51/51 [==============================] - 0s 7ms/step - loss: 1.3764 - accuracy: 0.7343 - auc: 0.6149 - precision: 0.2914 - recall: 0.3566\n",
      "Epoch 12/30\n",
      "48/51 [===========================>..] - ETA: 0s - loss: 1.0669 - accuracy: 0.7643 - auc: 0.6336 - precision: 0.3239 - recall: 0.3203   WARNING:tensorflow:Early stopping conditioned on metric `AUC` which is not available. Available metrics are: loss,accuracy,auc,precision,recall\n",
      "51/51 [==============================] - 0s 7ms/step - loss: 1.0584 - accuracy: 0.7635 - auc: 0.6404 - precision: 0.3299 - recall: 0.3339\n",
      "Epoch 13/30\n",
      "49/51 [===========================>..] - ETA: 0s - loss: 1.0150 - accuracy: 0.7634 - auc: 0.6458 - precision: 0.3183 - recall: 0.3078WARNING:tensorflow:Early stopping conditioned on metric `AUC` which is not available. Available metrics are: loss,accuracy,auc,precision,recall\n",
      "51/51 [==============================] - 0s 7ms/step - loss: 1.0148 - accuracy: 0.7589 - auc: 0.6478 - precision: 0.3185 - recall: 0.3252\n",
      "Epoch 14/30\n",
      "45/51 [=========================>....] - ETA: 0s - loss: 1.1453 - accuracy: 0.7653 - auc: 0.6360 - precision: 0.3313 - recall: 0.3093WARNING:tensorflow:Early stopping conditioned on metric `AUC` which is not available. Available metrics are: loss,accuracy,auc,precision,recall\n",
      "51/51 [==============================] - 0s 8ms/step - loss: 1.1363 - accuracy: 0.7488 - auc: 0.6343 - precision: 0.3046 - recall: 0.3339\n",
      "Epoch 15/30\n",
      "51/51 [==============================] - ETA: 0s - loss: 1.0322 - accuracy: 0.7666 - auc: 0.6527 - precision: 0.3259 - recall: 0.3059   WARNING:tensorflow:Early stopping conditioned on metric `AUC` which is not available. Available metrics are: loss,accuracy,auc,precision,recall\n",
      "51/51 [==============================] - 0s 7ms/step - loss: 1.0322 - accuracy: 0.7666 - auc: 0.6527 - precision: 0.3259 - recall: 0.3059\n",
      "Epoch 16/30\n",
      "50/51 [============================>.] - ETA: 0s - loss: 0.8986 - accuracy: 0.7581 - auc: 0.6800 - precision: 0.3412 - recall: 0.4107WARNING:tensorflow:Early stopping conditioned on metric `AUC` which is not available. Available metrics are: loss,accuracy,auc,precision,recall\n",
      "51/51 [==============================] - 0s 6ms/step - loss: 0.9009 - accuracy: 0.7574 - auc: 0.6776 - precision: 0.3411 - recall: 0.4073\n",
      "Epoch 17/30\n",
      "48/51 [===========================>..] - ETA: 0s - loss: 1.1028 - accuracy: 0.7480 - auc: 0.6604 - precision: 0.3087 - recall: 0.3475WARNING:tensorflow:Early stopping conditioned on metric `AUC` which is not available. Available metrics are: loss,accuracy,auc,precision,recall\n",
      "51/51 [==============================] - 0s 7ms/step - loss: 1.1238 - accuracy: 0.7411 - auc: 0.6608 - precision: 0.3060 - recall: 0.3724\n",
      "Epoch 18/30\n",
      "49/51 [===========================>..] - ETA: 0s - loss: 1.3210 - accuracy: 0.7433 - auc: 0.6424 - precision: 0.3079 - recall: 0.3759WARNING:tensorflow:Early stopping conditioned on metric `AUC` which is not available. Available metrics are: loss,accuracy,auc,precision,recall\n",
      "51/51 [==============================] - 0s 7ms/step - loss: 1.3685 - accuracy: 0.7389 - auc: 0.6388 - precision: 0.3024 - recall: 0.3706\n",
      "Epoch 19/30\n",
      "50/51 [============================>.] - ETA: 0s - loss: 1.0719 - accuracy: 0.7431 - auc: 0.6201 - precision: 0.3000 - recall: 0.3392WARNING:tensorflow:Early stopping conditioned on metric `AUC` which is not available. Available metrics are: loss,accuracy,auc,precision,recall\n",
      "51/51 [==============================] - 0s 7ms/step - loss: 1.0659 - accuracy: 0.7432 - auc: 0.6203 - precision: 0.2986 - recall: 0.3409\n",
      "Epoch 20/30\n",
      "51/51 [==============================] - ETA: 0s - loss: 0.8524 - accuracy: 0.7651 - auc: 0.6769 - precision: 0.3395 - recall: 0.3549WARNING:tensorflow:Early stopping conditioned on metric `AUC` which is not available. Available metrics are: loss,accuracy,auc,precision,recall\n",
      "51/51 [==============================] - 0s 9ms/step - loss: 0.8524 - accuracy: 0.7651 - auc: 0.6769 - precision: 0.3395 - recall: 0.3549\n",
      "Epoch 21/30\n",
      "44/51 [========================>.....] - ETA: 0s - loss: 0.8286 - accuracy: 0.7553 - auc: 0.6856 - precision: 0.3263 - recall: 0.3788WARNING:tensorflow:Early stopping conditioned on metric `AUC` which is not available. Available metrics are: loss,accuracy,auc,precision,recall\n",
      "51/51 [==============================] - 0s 6ms/step - loss: 0.8343 - accuracy: 0.7494 - auc: 0.6845 - precision: 0.3226 - recall: 0.3864\n",
      "Epoch 22/30\n",
      "43/51 [========================>.....] - ETA: 0s - loss: 0.8323 - accuracy: 0.7464 - auc: 0.6964 - precision: 0.3333 - recall: 0.4158WARNING:tensorflow:Early stopping conditioned on metric `AUC` which is not available. Available metrics are: loss,accuracy,auc,precision,recall\n",
      "51/51 [==============================] - 0s 6ms/step - loss: 0.8230 - accuracy: 0.7537 - auc: 0.7014 - precision: 0.3362 - recall: 0.4108\n",
      "Epoch 23/30\n",
      "48/51 [===========================>..] - ETA: 0s - loss: 0.8235 - accuracy: 0.7728 - auc: 0.6996 - precision: 0.3509 - recall: 0.3444WARNING:tensorflow:Early stopping conditioned on metric `AUC` which is not available. Available metrics are: loss,accuracy,auc,precision,recall\n",
      "51/51 [==============================] - 0s 7ms/step - loss: 0.8213 - accuracy: 0.7734 - auc: 0.7033 - precision: 0.3519 - recall: 0.3427\n",
      "Epoch 24/30\n",
      "48/51 [===========================>..] - ETA: 0s - loss: 0.8250 - accuracy: 0.7467 - auc: 0.6970 - precision: 0.3333 - recall: 0.4381WARNING:tensorflow:Early stopping conditioned on metric `AUC` which is not available. Available metrics are: loss,accuracy,auc,precision,recall\n",
      "51/51 [==============================] - 0s 7ms/step - loss: 0.8224 - accuracy: 0.7491 - auc: 0.6995 - precision: 0.3329 - recall: 0.4248\n",
      "Epoch 25/30\n",
      "48/51 [===========================>..] - ETA: 0s - loss: 0.8092 - accuracy: 0.7611 - auc: 0.7110 - precision: 0.3472 - recall: 0.4198WARNING:tensorflow:Early stopping conditioned on metric `AUC` which is not available. Available metrics are: loss,accuracy,auc,precision,recall\n",
      "51/51 [==============================] - 0s 7ms/step - loss: 0.8127 - accuracy: 0.7620 - auc: 0.7101 - precision: 0.3510 - recall: 0.4161\n",
      "Epoch 26/30\n",
      "51/51 [==============================] - ETA: 0s - loss: 0.8127 - accuracy: 0.7442 - auc: 0.7109 - precision: 0.3238 - recall: 0.4178WARNING:tensorflow:Early stopping conditioned on metric `AUC` which is not available. Available metrics are: loss,accuracy,auc,precision,recall\n",
      "51/51 [==============================] - 0s 9ms/step - loss: 0.8127 - accuracy: 0.7442 - auc: 0.7109 - precision: 0.3238 - recall: 0.4178\n",
      "Epoch 27/30\n",
      "50/51 [============================>.] - ETA: 0s - loss: 0.8188 - accuracy: 0.7484 - auc: 0.7046 - precision: 0.3256 - recall: 0.3989WARNING:tensorflow:Early stopping conditioned on metric `AUC` which is not available. Available metrics are: loss,accuracy,auc,precision,recall\n",
      "51/51 [==============================] - 0s 7ms/step - loss: 0.8183 - accuracy: 0.7482 - auc: 0.7042 - precision: 0.3248 - recall: 0.4003\n",
      "Epoch 28/30\n",
      "50/51 [============================>.] - ETA: 0s - loss: 0.8099 - accuracy: 0.7509 - auc: 0.7135 - precision: 0.3379 - recall: 0.4359WARNING:tensorflow:Early stopping conditioned on metric `AUC` which is not available. Available metrics are: loss,accuracy,auc,precision,recall\n",
      "51/51 [==============================] - 0s 7ms/step - loss: 0.8110 - accuracy: 0.7506 - auc: 0.7127 - precision: 0.3383 - recall: 0.4371\n",
      "Epoch 29/30\n",
      "50/51 [============================>.] - ETA: 0s - loss: 0.8115 - accuracy: 0.7453 - auc: 0.7134 - precision: 0.3364 - recall: 0.4600WARNING:tensorflow:Early stopping conditioned on metric `AUC` which is not available. Available metrics are: loss,accuracy,auc,precision,recall\n",
      "51/51 [==============================] - 0s 6ms/step - loss: 0.8097 - accuracy: 0.7460 - auc: 0.7154 - precision: 0.3363 - recall: 0.4563\n",
      "Epoch 30/30\n",
      "45/51 [=========================>....] - ETA: 0s - loss: 0.7844 - accuracy: 0.7556 - auc: 0.7276 - precision: 0.3445 - recall: 0.4807WARNING:tensorflow:Early stopping conditioned on metric `AUC` which is not available. Available metrics are: loss,accuracy,auc,precision,recall\n",
      "51/51 [==============================] - 0s 6ms/step - loss: 0.8001 - accuracy: 0.7448 - auc: 0.7219 - precision: 0.3431 - recall: 0.4930\n"
     ]
    },
    {
     "data": {
      "text/plain": [
       "<keras.callbacks.History at 0x1daccb06110>"
      ]
     },
     "execution_count": 42,
     "metadata": {},
     "output_type": "execute_result"
    }
   ],
   "source": [
    "from tensorflow.keras.models import Sequential\n",
    "from tensorflow.keras.layers import Dense\n",
    "from tensorflow.keras.callbacks import EarlyStopping\n",
    "import numpy as np\n",
    "from sklearn.metrics import classification_report\n",
    "\n",
    "# Define the model architecture\n",
    "model = Sequential()\n",
    "model.add(Dense(64, activation='relu', input_dim=X_train.shape[1]))\n",
    "model.add(Dense(64, activation='relu'))\n",
    "model.add(Dense(32, activation='relu'))\n",
    "model.add(Dense(16, activation='relu'))\n",
    "model.add(Dense(1, activation='sigmoid'))\n",
    "\n",
    "# Compile the model\n",
    "model.compile(optimizer='adam', loss='binary_crossentropy', metrics=['accuracy', 'AUC', 'Precision', 'Recall'])\n",
    "callback = EarlyStopping(monitor='AUC', patience=3)\n",
    "# Fit the model to the training data\n",
    "model.fit(np.asarray(X_train).astype('float32'), np.asarray(y_train).astype('float32'), epochs=30, batch_size=64, class_weight={0: 1, 1: 3}, callbacks=[callback])"
   ]
  },
  {
   "cell_type": "code",
   "execution_count": 43,
   "metadata": {},
   "outputs": [
    {
     "name": "stdout",
     "output_type": "stream",
     "text": [
      "26/26 [==============================] - 0s 2ms/step\n",
      "Classification Report:\n",
      "              precision    recall  f1-score   support\n",
      "\n",
      "         0.0       0.89      0.68      0.77       674\n",
      "         1.0       0.27      0.58      0.37       142\n",
      "\n",
      "    accuracy                           0.66       816\n",
      "   macro avg       0.58      0.63      0.57       816\n",
      "weighted avg       0.78      0.66      0.70       816\n",
      "\n"
     ]
    }
   ],
   "source": [
    "# Predict on the test data\n",
    "y_pred = model.predict(np.asarray(X_test).astype('float32'))\n",
    "\n",
    "# Convert predictions to binary labels\n",
    "y_pred_binary = np.round(y_pred)\n",
    "\n",
    "# Generate classification report\n",
    "report = classification_report(np.asarray(y_test).astype('float32'), y_pred_binary)\n",
    "print(\"Classification Report:\")\n",
    "print(report)"
   ]
  },
  {
   "cell_type": "code",
   "execution_count": 44,
   "metadata": {},
   "outputs": [
    {
     "data": {
      "text/plain": [
       "<Axes: >"
      ]
     },
     "execution_count": 44,
     "metadata": {},
     "output_type": "execute_result"
    },
    {
     "data": {
      "image/png": "[encoded data removed]",
      "text/plain": [
       "<Figure size 640x480 with 2 Axes>"
      ]
     },
     "metadata": {},
     "output_type": "display_data"
    }
   ],
   "source": [
    "from sklearn.metrics import confusion_matrix\n",
    "import seaborn as sns\n",
    "\n",
    "sns.heatmap(confusion_matrix(y_test,y_pred_binary),annot = True,fmt='d')\n"
   ]
  }
 ],
 "metadata": {
  "kernelspec": {
   "display_name": "opencv",
   "language": "python",
   "name": "python3"
  },
  "language_info": {
   "codemirror_mode": {
    "name": "ipython",
    "version": 3
   },
   "file_extension": ".py",
   "mimetype": "text/x-python",
   "name": "python",
   "nbconvert_exporter": "python",
   "pygments_lexer": "ipython3",
   "version": "3.10.13"
  }
 },
 "nbformat": 4,
 "nbformat_minor": 2
}
