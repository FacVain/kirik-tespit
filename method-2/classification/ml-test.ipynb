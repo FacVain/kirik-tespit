{
 "cells": [
  {
   "cell_type": "code",
   "execution_count": 1,
   "metadata": {},
   "outputs": [
    {
     "name": "stderr",
     "output_type": "stream",
     "text": [
      "C:\\Users\\assas\\AppData\\Local\\Temp\\ipykernel_16916\\2603415143.py:1: DeprecationWarning: \n",
      "Pyarrow will become a required dependency of pandas in the next major release of pandas (pandas 3.0),\n",
      "(to allow more performant data types, such as the Arrow string type, and better interoperability with other libraries)\n",
      "but was not found to be installed on your system.\n",
      "If this would cause problems for you,\n",
      "please provide us feedback at https://github.com/pandas-dev/pandas/issues/54466\n",
      "        \n",
      "  import pandas as pd\n"
     ]
    }
   ],
   "source": [
    "import pandas as pd\n",
    "from sklearn import svm"
   ]
  },
  {
   "cell_type": "code",
   "execution_count": 2,
   "metadata": {},
   "outputs": [],
   "source": [
    "train = pd.read_csv('train.csv')\n",
    "test = pd.read_csv('test.csv')"
   ]
  },
  {
   "cell_type": "code",
   "execution_count": 3,
   "metadata": {},
   "outputs": [
    {
     "data": {
      "text/plain": [
       "image_file         False\n",
       "hand               False\n",
       "leg                False\n",
       "hip                False\n",
       "shoulder           False\n",
       "mixed              False\n",
       "label              False\n",
       "perimeter          False\n",
       "nm_lns             False\n",
       "mean_length        False\n",
       "std_length         False\n",
       "mean_slope         False\n",
       "std_slope          False\n",
       "max_acute_angle    False\n",
       "min_acute_angle    False\n",
       "area               False\n",
       "num_corners        False\n",
       "corner_ratio       False\n",
       "dtype: bool"
      ]
     },
     "execution_count": 3,
     "metadata": {},
     "output_type": "execute_result"
    }
   ],
   "source": [
    "train.drop(train[(train['mean_slope'] == \"--\") | (train['std_slope'] == \"--\")].index, inplace=True)\n",
    "train.isin([\"--\"]).any()\n"
   ]
  },
  {
   "cell_type": "code",
   "execution_count": 4,
   "metadata": {},
   "outputs": [
    {
     "data": {
      "text/plain": [
       "image_file         False\n",
       "hand               False\n",
       "leg                False\n",
       "hip                False\n",
       "shoulder           False\n",
       "mixed              False\n",
       "label              False\n",
       "perimeter          False\n",
       "nm_lns             False\n",
       "mean_length        False\n",
       "std_length         False\n",
       "mean_slope         False\n",
       "std_slope          False\n",
       "max_acute_angle    False\n",
       "min_acute_angle    False\n",
       "area               False\n",
       "num_corners        False\n",
       "corner_ratio       False\n",
       "dtype: bool"
      ]
     },
     "execution_count": 4,
     "metadata": {},
     "output_type": "execute_result"
    }
   ],
   "source": [
    "test.drop(test[(test['mean_slope'] == \"--\") | (test['std_slope'] == \"--\")].index, inplace=True)\n",
    "test.isin([\"--\"]).any()\n"
   ]
  },
  {
   "cell_type": "code",
   "execution_count": 8,
   "metadata": {},
   "outputs": [
    {
     "name": "stdout",
     "output_type": "stream",
     "text": [
      "Best: 0.310405 using {'C': 3, 'class_weight': {0: 1, 1: 5}, 'degree': 2, 'kernel': 'rbf'}\n",
      "0.027897 (0.026727) with: {'C': 2, 'class_weight': {0: 1, 1: 2}, 'degree': 2, 'kernel': 'rbf'}\n",
      "0.250071 (0.034077) with: {'C': 2, 'class_weight': {0: 1, 1: 2}, 'degree': 2, 'kernel': 'sigmoid'}\n",
      "0.027897 (0.026727) with: {'C': 2, 'class_weight': {0: 1, 1: 2}, 'degree': 3, 'kernel': 'rbf'}\n",
      "0.250071 (0.034077) with: {'C': 2, 'class_weight': {0: 1, 1: 2}, 'degree': 3, 'kernel': 'sigmoid'}\n",
      "0.174700 (0.055452) with: {'C': 2, 'class_weight': {0: 1, 1: 4}, 'degree': 2, 'kernel': 'rbf'}\n",
      "0.277997 (0.029151) with: {'C': 2, 'class_weight': {0: 1, 1: 4}, 'degree': 2, 'kernel': 'sigmoid'}\n",
      "0.174700 (0.055452) with: {'C': 2, 'class_weight': {0: 1, 1: 4}, 'degree': 3, 'kernel': 'rbf'}\n",
      "0.277997 (0.029151) with: {'C': 2, 'class_weight': {0: 1, 1: 4}, 'degree': 3, 'kernel': 'sigmoid'}\n",
      "0.305832 (0.044173) with: {'C': 2, 'class_weight': {0: 1, 1: 5}, 'degree': 2, 'kernel': 'rbf'}\n",
      "0.281188 (0.027379) with: {'C': 2, 'class_weight': {0: 1, 1: 5}, 'degree': 2, 'kernel': 'sigmoid'}\n",
      "0.305832 (0.044173) with: {'C': 2, 'class_weight': {0: 1, 1: 5}, 'degree': 3, 'kernel': 'rbf'}\n",
      "0.281188 (0.027379) with: {'C': 2, 'class_weight': {0: 1, 1: 5}, 'degree': 3, 'kernel': 'sigmoid'}\n",
      "0.025778 (0.027741) with: {'C': 3, 'class_weight': {0: 1, 1: 2}, 'degree': 2, 'kernel': 'rbf'}\n",
      "0.250557 (0.034535) with: {'C': 3, 'class_weight': {0: 1, 1: 2}, 'degree': 2, 'kernel': 'sigmoid'}\n",
      "0.025778 (0.027741) with: {'C': 3, 'class_weight': {0: 1, 1: 2}, 'degree': 3, 'kernel': 'rbf'}\n",
      "0.250557 (0.034535) with: {'C': 3, 'class_weight': {0: 1, 1: 2}, 'degree': 3, 'kernel': 'sigmoid'}\n",
      "0.174956 (0.057202) with: {'C': 3, 'class_weight': {0: 1, 1: 4}, 'degree': 2, 'kernel': 'rbf'}\n",
      "0.277366 (0.029956) with: {'C': 3, 'class_weight': {0: 1, 1: 4}, 'degree': 2, 'kernel': 'sigmoid'}\n",
      "0.174956 (0.057202) with: {'C': 3, 'class_weight': {0: 1, 1: 4}, 'degree': 3, 'kernel': 'rbf'}\n",
      "0.277366 (0.029956) with: {'C': 3, 'class_weight': {0: 1, 1: 4}, 'degree': 3, 'kernel': 'sigmoid'}\n",
      "0.310405 (0.046636) with: {'C': 3, 'class_weight': {0: 1, 1: 5}, 'degree': 2, 'kernel': 'rbf'}\n",
      "0.281638 (0.027234) with: {'C': 3, 'class_weight': {0: 1, 1: 5}, 'degree': 2, 'kernel': 'sigmoid'}\n",
      "0.310405 (0.046636) with: {'C': 3, 'class_weight': {0: 1, 1: 5}, 'degree': 3, 'kernel': 'rbf'}\n",
      "0.281638 (0.027234) with: {'C': 3, 'class_weight': {0: 1, 1: 5}, 'degree': 3, 'kernel': 'sigmoid'}\n"
     ]
    }
   ],
   "source": [
    "from numpy import mean\n",
    "from sklearn.metrics import classification_report, confusion_matrix\n",
    "from sklearn.model_selection import GridSearchCV, RepeatedStratifiedKFold, cross_val_score\n",
    "X_train = train.drop(columns=['image_file', 'label'])\n",
    "y_train = train['label']\n",
    "\n",
    "X_test = test.drop(columns=['image_file', 'label'])\n",
    "y_test = test['label']\n",
    "\n",
    "\n",
    "model = svm.SVC(gamma='scale')\n",
    "\n",
    "param_grid = {\n",
    "    'class_weight': ({0:1, 1:2}, {0:1,1:4}, {0:1,1:5}),\n",
    "    'kernel': ('rbf', 'sigmoid'),\n",
    "    'C': (2, 3),\n",
    "    'degree': (2, 3)\n",
    "}\n",
    "cv = RepeatedStratifiedKFold(n_splits=10, n_repeats=3, random_state=1)\n",
    "grid = GridSearchCV(estimator=model, param_grid=param_grid, n_jobs=-1, cv=cv, scoring='f1')\n",
    "\n",
    "grid_result = grid.fit(X_train, y_train)\n",
    "\n",
    "# report the best configuration\n",
    "print(\"Best: %f using %s\" % (grid_result.best_score_, grid_result.best_params_))\n",
    "# report all configurations\n",
    "means = grid_result.cv_results_['mean_test_score']\n",
    "stds = grid_result.cv_results_['std_test_score']\n",
    "params = grid_result.cv_results_['params']\n",
    "for mean, stdev, param in zip(means, stds, params):\n",
    "    print(\"%f (%f) with: %r\" % (mean, stdev, param))"
   ]
  },
  {
   "cell_type": "code",
   "execution_count": 9,
   "metadata": {},
   "outputs": [
    {
     "name": "stdout",
     "output_type": "stream",
     "text": [
      "Classification Report:\n",
      "              precision    recall  f1-score   support\n",
      "\n",
      "           0       0.84      0.80      0.82       674\n",
      "           1       0.23      0.30      0.26       142\n",
      "\n",
      "    accuracy                           0.71       816\n",
      "   macro avg       0.54      0.55      0.54       816\n",
      "weighted avg       0.74      0.71      0.72       816\n",
      "\n",
      "Confusion Matrix:\n"
     ]
    },
    {
     "data": {
      "text/plain": [
       "<Axes: >"
      ]
     },
     "execution_count": 9,
     "metadata": {},
     "output_type": "execute_result"
    },
    {
     "data": {
      "image/png": "[encoded data removed]",
      "text/plain": [
       "<Figure size 640x480 with 2 Axes>"
      ]
     },
     "metadata": {},
     "output_type": "display_data"
    }
   ],
   "source": [
    "from sklearn.metrics import classification_report, confusion_matrix\n",
    "import seaborn as sns\n",
    "weigths = grid_result.best_params_['class_weight']\n",
    "model = svm.SVC(gamma='scale', class_weight=weigths)\n",
    "model.fit(X_train, y_train)\n",
    "y_pred = model.predict(X_test)\n",
    "\n",
    "print(\"Classification Report:\")\n",
    "print(classification_report(y_test, y_pred))\n",
    "print(\"Confusion Matrix:\")\n",
    "sns.heatmap(confusion_matrix(y_test,y_pred),annot = True,fmt='d')\n"
   ]
  },
  {
   "cell_type": "code",
   "execution_count": 34,
   "metadata": {},
   "outputs": [
    {
     "name": "stdout",
     "output_type": "stream",
     "text": [
      "Epoch 1/30\n",
      "48/51 [===========================>..] - ETA: 0s - loss: 6.3215 - accuracy: 0.4766 - auc: 0.4810 - precision: 0.1681 - recall: 0.5037WARNING:tensorflow:Early stopping conditioned on metric `AUC` which is not available. Available metrics are: loss,accuracy,auc,precision,recall\n",
      "51/51 [==============================] - 1s 10ms/step - loss: 6.1497 - accuracy: 0.4917 - auc: 0.4782 - precision: 0.1678 - recall: 0.4773\n",
      "Epoch 2/30\n",
      "47/51 [==========================>...] - ETA: 0s - loss: 2.7429 - accuracy: 0.5043 - auc: 0.5439 - precision: 0.1962 - recall: 0.5787WARNING:tensorflow:Early stopping conditioned on metric `AUC` which is not available. Available metrics are: loss,accuracy,auc,precision,recall\n",
      "51/51 [==============================] - 0s 10ms/step - loss: 2.7143 - accuracy: 0.5277 - auc: 0.5437 - precision: 0.1965 - recall: 0.5455\n",
      "Epoch 3/30\n",
      "50/51 [============================>.] - ETA: 0s - loss: 2.0645 - accuracy: 0.5741 - auc: 0.5536 - precision: 0.2092 - recall: 0.5125WARNING:tensorflow:Early stopping conditioned on metric `AUC` which is not available. Available metrics are: loss,accuracy,auc,precision,recall\n",
      "51/51 [==============================] - 0s 9ms/step - loss: 2.0528 - accuracy: 0.5680 - auc: 0.5543 - precision: 0.2081 - recall: 0.5192\n",
      "Epoch 4/30\n",
      "47/51 [==========================>...] - ETA: 0s - loss: 2.8644 - accuracy: 0.5076 - auc: 0.5610 - precision: 0.1971 - recall: 0.5819WARNING:tensorflow:Early stopping conditioned on metric `AUC` which is not available. Available metrics are: loss,accuracy,auc,precision,recall\n",
      "51/51 [==============================] - 0s 7ms/step - loss: 3.1287 - accuracy: 0.4849 - auc: 0.5605 - precision: 0.1941 - recall: 0.6119\n",
      "Epoch 5/30\n",
      "51/51 [==============================] - ETA: 0s - loss: 2.2200 - accuracy: 0.5938 - auc: 0.5675 - precision: 0.2174 - recall: 0.5035WARNING:tensorflow:Early stopping conditioned on metric `AUC` which is not available. Available metrics are: loss,accuracy,auc,precision,recall\n",
      "51/51 [==============================] - 0s 6ms/step - loss: 2.2200 - accuracy: 0.5938 - auc: 0.5675 - precision: 0.2174 - recall: 0.5035\n",
      "Epoch 6/30\n",
      "49/51 [===========================>..] - ETA: 0s - loss: 2.0883 - accuracy: 0.5864 - auc: 0.5811 - precision: 0.2186 - recall: 0.5310   WARNING:tensorflow:Early stopping conditioned on metric `AUC` which is not available. Available metrics are: loss,accuracy,auc,precision,recall\n",
      "51/51 [==============================] - 0s 7ms/step - loss: 2.1393 - accuracy: 0.5932 - auc: 0.5777 - precision: 0.2191 - recall: 0.5122\n",
      "Epoch 7/30\n",
      "48/51 [===========================>..] - ETA: 0s - loss: 2.6456 - accuracy: 0.5212 - auc: 0.5979 - precision: 0.2189 - recall: 0.6636WARNING:tensorflow:Early stopping conditioned on metric `AUC` which is not available. Available metrics are: loss,accuracy,auc,precision,recall\n",
      "51/51 [==============================] - 0s 7ms/step - loss: 2.5890 - accuracy: 0.5363 - auc: 0.5964 - precision: 0.2198 - recall: 0.6416\n",
      "Epoch 8/30\n",
      "50/51 [============================>.] - ETA: 0s - loss: 1.7087 - accuracy: 0.5406 - auc: 0.5898 - precision: 0.2084 - recall: 0.5707WARNING:tensorflow:Early stopping conditioned on metric `AUC` which is not available. Available metrics are: loss,accuracy,auc,precision,recall\n",
      "51/51 [==============================] - 0s 7ms/step - loss: 1.7268 - accuracy: 0.5461 - auc: 0.5909 - precision: 0.2084 - recall: 0.5647\n",
      "Epoch 9/30\n",
      "47/51 [==========================>...] - ETA: 0s - loss: 1.8027 - accuracy: 0.6034 - auc: 0.6162 - precision: 0.2327 - recall: 0.5463WARNING:tensorflow:Early stopping conditioned on metric `AUC` which is not available. Available metrics are: loss,accuracy,auc,precision,recall\n",
      "51/51 [==============================] - 0s 10ms/step - loss: 1.7687 - accuracy: 0.6132 - auc: 0.6119 - precision: 0.2333 - recall: 0.5245\n",
      "Epoch 10/30\n",
      "47/51 [==========================>...] - ETA: 0s - loss: 1.5010 - accuracy: 0.5941 - auc: 0.6239 - precision: 0.2299 - recall: 0.5679  WARNING:tensorflow:Early stopping conditioned on metric `AUC` which is not available. Available metrics are: loss,accuracy,auc,precision,recall\n",
      "51/51 [==============================] - 0s 8ms/step - loss: 1.4913 - accuracy: 0.5966 - auc: 0.6207 - precision: 0.2315 - recall: 0.5577\n",
      "Epoch 11/30\n",
      "47/51 [==========================>...] - ETA: 0s - loss: 1.3746 - accuracy: 0.5748 - auc: 0.6426 - precision: 0.2312 - recall: 0.6117WARNING:tensorflow:Early stopping conditioned on metric `AUC` which is not available. Available metrics are: loss,accuracy,auc,precision,recall\n",
      "51/51 [==============================] - 0s 7ms/step - loss: 1.3586 - accuracy: 0.5864 - auc: 0.6422 - precision: 0.2340 - recall: 0.5944\n",
      "Epoch 12/30\n",
      "45/51 [=========================>....] - ETA: 0s - loss: 2.0940 - accuracy: 0.5330 - auc: 0.6180 - precision: 0.2217 - recall: 0.6542WARNING:tensorflow:Early stopping conditioned on metric `AUC` which is not available. Available metrics are: loss,accuracy,auc,precision,recall\n",
      "51/51 [==============================] - 0s 8ms/step - loss: 2.0118 - accuracy: 0.5615 - auc: 0.6197 - precision: 0.2270 - recall: 0.6206\n",
      "Epoch 13/30\n",
      "46/51 [==========================>...] - ETA: 0s - loss: 1.4986 - accuracy: 0.5846 - auc: 0.6298 - precision: 0.2338 - recall: 0.6039   WARNING:tensorflow:Early stopping conditioned on metric `AUC` which is not available. Available metrics are: loss,accuracy,auc,precision,recall\n",
      "51/51 [==============================] - 0s 7ms/step - loss: 1.4980 - accuracy: 0.6039 - auc: 0.6252 - precision: 0.2379 - recall: 0.5682\n",
      "Epoch 14/30\n",
      "49/51 [===========================>..] - ETA: 0s - loss: 1.5045 - accuracy: 0.5686 - auc: 0.6327 - precision: 0.2420 - recall: 0.6643WARNING:tensorflow:Early stopping conditioned on metric `AUC` which is not available. Available metrics are: loss,accuracy,auc,precision,recall\n",
      "51/51 [==============================] - 0s 7ms/step - loss: 1.5357 - accuracy: 0.5603 - auc: 0.6265 - precision: 0.2358 - recall: 0.6696\n",
      "Epoch 15/30\n",
      "51/51 [==============================] - ETA: 0s - loss: 1.3456 - accuracy: 0.6242 - auc: 0.6573 - precision: 0.2571 - recall: 0.6014WARNING:tensorflow:Early stopping conditioned on metric `AUC` which is not available. Available metrics are: loss,accuracy,auc,precision,recall\n",
      "51/51 [==============================] - 0s 9ms/step - loss: 1.3456 - accuracy: 0.6242 - auc: 0.6573 - precision: 0.2571 - recall: 0.6014\n",
      "Epoch 16/30\n",
      "48/51 [===========================>..] - ETA: 0s - loss: 1.3993 - accuracy: 0.5944 - auc: 0.6563 - precision: 0.2475 - recall: 0.6450WARNING:tensorflow:Early stopping conditioned on metric `AUC` which is not available. Available metrics are: loss,accuracy,auc,precision,recall\n",
      "51/51 [==============================] - 0s 9ms/step - loss: 1.4482 - accuracy: 0.5932 - auc: 0.6539 - precision: 0.2468 - recall: 0.6399\n",
      "Epoch 17/30\n",
      "43/51 [========================>.....] - ETA: 0s - loss: 1.6918 - accuracy: 0.5549 - auc: 0.6109 - precision: 0.2266 - recall: 0.6134WARNING:tensorflow:Early stopping conditioned on metric `AUC` which is not available. Available metrics are: loss,accuracy,auc,precision,recall\n",
      "51/51 [==============================] - 0s 6ms/step - loss: 1.7105 - accuracy: 0.5603 - auc: 0.6116 - precision: 0.2225 - recall: 0.6014\n",
      "Epoch 18/30\n",
      "51/51 [==============================] - ETA: 0s - loss: 1.8452 - accuracy: 0.5969 - auc: 0.5943 - precision: 0.2332 - recall: 0.5647WARNING:tensorflow:Early stopping conditioned on metric `AUC` which is not available. Available metrics are: loss,accuracy,auc,precision,recall\n",
      "51/51 [==============================] - 0s 6ms/step - loss: 1.8452 - accuracy: 0.5969 - auc: 0.5943 - precision: 0.2332 - recall: 0.5647\n",
      "Epoch 19/30\n",
      "49/51 [===========================>..] - ETA: 0s - loss: 1.2576 - accuracy: 0.6113 - auc: 0.6529 - precision: 0.2528 - recall: 0.6218WARNING:tensorflow:Early stopping conditioned on metric `AUC` which is not available. Available metrics are: loss,accuracy,auc,precision,recall\n",
      "51/51 [==============================] - 0s 7ms/step - loss: 1.2601 - accuracy: 0.6135 - auc: 0.6513 - precision: 0.2541 - recall: 0.6189\n",
      "Epoch 20/30\n",
      "49/51 [===========================>..] - ETA: 0s - loss: 1.5457 - accuracy: 0.6004 - auc: 0.6496 - precision: 0.2438 - recall: 0.6143WARNING:tensorflow:Early stopping conditioned on metric `AUC` which is not available. Available metrics are: loss,accuracy,auc,precision,recall\n",
      "51/51 [==============================] - 0s 7ms/step - loss: 1.5388 - accuracy: 0.5999 - auc: 0.6472 - precision: 0.2428 - recall: 0.6014\n",
      "Epoch 21/30\n",
      "47/51 [==========================>...] - ETA: 0s - loss: 1.4390 - accuracy: 0.5874 - auc: 0.6606 - precision: 0.2486 - recall: 0.6788WARNING:tensorflow:Early stopping conditioned on metric `AUC` which is not available. Available metrics are: loss,accuracy,auc,precision,recall\n",
      "51/51 [==============================] - 0s 7ms/step - loss: 1.4643 - accuracy: 0.5843 - auc: 0.6621 - precision: 0.2494 - recall: 0.6783\n",
      "Epoch 22/30\n",
      "51/51 [==============================] - ETA: 0s - loss: 1.4177 - accuracy: 0.6390 - auc: 0.6680 - precision: 0.2670 - recall: 0.6031WARNING:tensorflow:Early stopping conditioned on metric `AUC` which is not available. Available metrics are: loss,accuracy,auc,precision,recall\n",
      "51/51 [==============================] - 0s 9ms/step - loss: 1.4177 - accuracy: 0.6390 - auc: 0.6680 - precision: 0.2670 - recall: 0.6031\n",
      "Epoch 23/30\n",
      "49/51 [===========================>..] - ETA: 0s - loss: 1.1368 - accuracy: 0.6362 - auc: 0.6892 - precision: 0.2738 - recall: 0.6551WARNING:tensorflow:Early stopping conditioned on metric `AUC` which is not available. Available metrics are: loss,accuracy,auc,precision,recall\n",
      "51/51 [==============================] - 0s 9ms/step - loss: 1.1395 - accuracy: 0.6313 - auc: 0.6888 - precision: 0.2743 - recall: 0.6661\n",
      "Epoch 24/30\n",
      "51/51 [==============================] - ETA: 0s - loss: 1.1497 - accuracy: 0.6258 - auc: 0.6876 - precision: 0.2708 - recall: 0.6661WARNING:tensorflow:Early stopping conditioned on metric `AUC` which is not available. Available metrics are: loss,accuracy,auc,precision,recall\n",
      "51/51 [==============================] - 0s 6ms/step - loss: 1.1497 - accuracy: 0.6258 - auc: 0.6876 - precision: 0.2708 - recall: 0.6661\n",
      "Epoch 25/30\n",
      "49/51 [===========================>..] - ETA: 0s - loss: 1.1120 - accuracy: 0.6285 - auc: 0.7010 - precision: 0.2733 - recall: 0.6673WARNING:tensorflow:Early stopping conditioned on metric `AUC` which is not available. Available metrics are: loss,accuracy,auc,precision,recall\n",
      "51/51 [==============================] - 0s 7ms/step - loss: 1.1093 - accuracy: 0.6325 - auc: 0.7010 - precision: 0.2744 - recall: 0.6626\n",
      "Epoch 26/30\n",
      "46/51 [==========================>...] - ETA: 0s - loss: 1.1200 - accuracy: 0.6267 - auc: 0.7056 - precision: 0.2721 - recall: 0.6996WARNING:tensorflow:Early stopping conditioned on metric `AUC` which is not available. Available metrics are: loss,accuracy,auc,precision,recall\n",
      "51/51 [==============================] - 0s 7ms/step - loss: 1.1517 - accuracy: 0.6252 - auc: 0.6979 - precision: 0.2752 - recall: 0.6923\n",
      "Epoch 27/30\n",
      "51/51 [==============================] - ETA: 0s - loss: 1.0690 - accuracy: 0.6270 - auc: 0.7117 - precision: 0.2785 - recall: 0.7045WARNING:tensorflow:Early stopping conditioned on metric `AUC` which is not available. Available metrics are: loss,accuracy,auc,precision,recall\n",
      "51/51 [==============================] - 0s 6ms/step - loss: 1.0690 - accuracy: 0.6270 - auc: 0.7117 - precision: 0.2785 - recall: 0.7045\n",
      "Epoch 28/30\n",
      "47/51 [==========================>...] - ETA: 0s - loss: 1.1879 - accuracy: 0.6353 - auc: 0.6997 - precision: 0.2797 - recall: 0.6792WARNING:tensorflow:Early stopping conditioned on metric `AUC` which is not available. Available metrics are: loss,accuracy,auc,precision,recall\n",
      "51/51 [==============================] - 0s 7ms/step - loss: 1.1911 - accuracy: 0.6331 - auc: 0.6975 - precision: 0.2771 - recall: 0.6748\n",
      "Epoch 29/30\n",
      "50/51 [============================>.] - ETA: 0s - loss: 1.0943 - accuracy: 0.6275 - auc: 0.7082 - precision: 0.2756 - recall: 0.6929WARNING:tensorflow:Early stopping conditioned on metric `AUC` which is not available. Available metrics are: loss,accuracy,auc,precision,recall\n",
      "51/51 [==============================] - 0s 9ms/step - loss: 1.1035 - accuracy: 0.6267 - auc: 0.7097 - precision: 0.2771 - recall: 0.6976\n",
      "Epoch 30/30\n",
      "49/51 [===========================>..] - ETA: 0s - loss: 1.0785 - accuracy: 0.6550 - auc: 0.7138 - precision: 0.2881 - recall: 0.6771WARNING:tensorflow:Early stopping conditioned on metric `AUC` which is not available. Available metrics are: loss,accuracy,auc,precision,recall\n",
      "51/51 [==============================] - 0s 7ms/step - loss: 1.0838 - accuracy: 0.6550 - auc: 0.7143 - precision: 0.2926 - recall: 0.6783\n"
     ]
    },
    {
     "data": {
      "text/plain": [
       "<keras.callbacks.History at 0x15fc9b1ba60>"
      ]
     },
     "execution_count": 34,
     "metadata": {},
     "output_type": "execute_result"
    }
   ],
   "source": [
    "from tensorflow.keras.models import Sequential\n",
    "from tensorflow.keras.layers import Dense\n",
    "from tensorflow.keras.callbacks import EarlyStopping\n",
    "import numpy as np\n",
    "from sklearn.metrics import classification_report\n",
    "\n",
    "# Define the model architecture\n",
    "model = Sequential()\n",
    "model.add(Dense(64, activation='relu', input_dim=X_train.shape[1]))\n",
    "model.add(Dense(64, activation='relu'))\n",
    "model.add(Dense(32, activation='relu'))\n",
    "model.add(Dense(16, activation='relu'))\n",
    "model.add(Dense(1, activation='sigmoid'))\n",
    "\n",
    "# Compile the model\n",
    "model.compile(optimizer='adam', loss='binary_crossentropy', metrics=['accuracy', 'AUC', 'Precision', 'Recall'])\n",
    "callback = EarlyStopping(monitor='AUC', patience=3)\n",
    "# Fit the model to the training data\n",
    "model.fit(np.asarray(X_train).astype('float32'), np.asarray(y_train).astype('float32'), epochs=30, batch_size=64, class_weight={0: 1, 1: 5}, callbacks=[callback])"
   ]
  },
  {
   "cell_type": "code",
   "execution_count": 35,
   "metadata": {},
   "outputs": [
    {
     "name": "stdout",
     "output_type": "stream",
     "text": [
      "26/26 [==============================] - 0s 1ms/step\n",
      "Classification Report:\n",
      "              precision    recall  f1-score   support\n",
      "\n",
      "         0.0       0.90      0.59      0.72       674\n",
      "         1.0       0.26      0.69      0.38       142\n",
      "\n",
      "    accuracy                           0.61       816\n",
      "   macro avg       0.58      0.64      0.55       816\n",
      "weighted avg       0.79      0.61      0.66       816\n",
      "\n"
     ]
    }
   ],
   "source": [
    "# Predict on the test data\n",
    "y_pred = model.predict(np.asarray(X_test).astype('float32'))\n",
    "\n",
    "# Convert predictions to binary labels\n",
    "y_pred_binary = np.round(y_pred)\n",
    "\n",
    "# Generate classification report\n",
    "report = classification_report(np.asarray(y_test).astype('float32'), y_pred_binary)\n",
    "print(\"Classification Report:\")\n",
    "print(report)"
   ]
  },
  {
   "cell_type": "code",
   "execution_count": 36,
   "metadata": {},
   "outputs": [
    {
     "data": {
      "text/plain": [
       "<Axes: >"
      ]
     },
     "execution_count": 36,
     "metadata": {},
     "output_type": "execute_result"
    },
    {
     "data": {
      "image/png": "[encoded data removed]",
      "text/plain": [
       "<Figure size 640x480 with 2 Axes>"
      ]
     },
     "metadata": {},
     "output_type": "display_data"
    }
   ],
   "source": [
    "sns.heatmap(confusion_matrix(y_test,y_pred_binary),annot = True,fmt='d')"
   ]
  },
  {
   "cell_type": "code",
   "execution_count": 44,
   "metadata": {},
   "outputs": [
    {
     "name": "stdout",
     "output_type": "stream",
     "text": [
      "Best: 0.344052 using {'criterion': 'entropy', 'max_depth': None, 'splitter': 'random'}\n",
      "0.320842 (0.061075) with: {'criterion': 'gini', 'max_depth': None, 'splitter': 'best'}\n",
      "0.327149 (0.063240) with: {'criterion': 'gini', 'max_depth': None, 'splitter': 'random'}\n",
      "0.281590 (0.074813) with: {'criterion': 'gini', 'max_depth': 10, 'splitter': 'best'}\n",
      "0.244543 (0.063492) with: {'criterion': 'gini', 'max_depth': 10, 'splitter': 'random'}\n",
      "0.314659 (0.056808) with: {'criterion': 'gini', 'max_depth': 20, 'splitter': 'best'}\n",
      "0.335383 (0.053119) with: {'criterion': 'gini', 'max_depth': 20, 'splitter': 'random'}\n",
      "0.310458 (0.059035) with: {'criterion': 'gini', 'max_depth': 30, 'splitter': 'best'}\n",
      "0.333454 (0.045692) with: {'criterion': 'gini', 'max_depth': 30, 'splitter': 'random'}\n",
      "0.320451 (0.046521) with: {'criterion': 'entropy', 'max_depth': None, 'splitter': 'best'}\n",
      "0.344052 (0.047128) with: {'criterion': 'entropy', 'max_depth': None, 'splitter': 'random'}\n",
      "0.269874 (0.052850) with: {'criterion': 'entropy', 'max_depth': 10, 'splitter': 'best'}\n",
      "0.255795 (0.053145) with: {'criterion': 'entropy', 'max_depth': 10, 'splitter': 'random'}\n",
      "0.326512 (0.046410) with: {'criterion': 'entropy', 'max_depth': 20, 'splitter': 'best'}\n",
      "0.329013 (0.053258) with: {'criterion': 'entropy', 'max_depth': 20, 'splitter': 'random'}\n",
      "0.310542 (0.048741) with: {'criterion': 'entropy', 'max_depth': 30, 'splitter': 'best'}\n",
      "0.332671 (0.045104) with: {'criterion': 'entropy', 'max_depth': 30, 'splitter': 'random'}\n"
     ]
    }
   ],
   "source": [
    "from sklearn.tree import DecisionTreeClassifier\n",
    "\n",
    "param_grid = {\n",
    "    'criterion': ('gini', 'entropy'),\n",
    "    'splitter': ('best', 'random'),\n",
    "    'max_depth': (None, 10, 20, 30)\n",
    "}\n",
    "cv = RepeatedStratifiedKFold(n_splits=10, n_repeats=3, random_state=1)\n",
    "model = DecisionTreeClassifier()\n",
    "grid = GridSearchCV(estimator=model, param_grid=param_grid, n_jobs=-1, cv=cv, scoring='f1')\n",
    "\n",
    "grid_result = grid.fit(X_train, y_train)\n",
    "\n",
    "print(\"Best: %f using %s\" % (grid_result.best_score_ , grid_result.best_params_))\n",
    "# report all configurations\n",
    "means = grid_result.cv_results_['mean_test_score']\n",
    "stds = grid_result.cv_results_['std_test_score']\n",
    "params = grid_result.cv_results_['params']\n",
    "for mean, stdev, param in zip(means, stds, params):\n",
    "    print(\"%f (%f) with: %r\" % (mean, stdev, param))"
   ]
  },
  {
   "cell_type": "code",
   "execution_count": 49,
   "metadata": {},
   "outputs": [
    {
     "name": "stdout",
     "output_type": "stream",
     "text": [
      "Classification Report:\n",
      "              precision    recall  f1-score   support\n",
      "\n",
      "           0       0.86      0.86      0.86       674\n",
      "           1       0.34      0.33      0.33       142\n",
      "\n",
      "    accuracy                           0.77       816\n",
      "   macro avg       0.60      0.60      0.60       816\n",
      "weighted avg       0.77      0.77      0.77       816\n",
      "\n",
      "Confusion Matrix:\n"
     ]
    },
    {
     "data": {
      "text/plain": [
       "<Axes: >"
      ]
     },
     "execution_count": 49,
     "metadata": {},
     "output_type": "execute_result"
    },
    {
     "data": {
      "image/png": "[encoded data removed]",
      "text/plain": [
       "<Figure size 640x480 with 2 Axes>"
      ]
     },
     "metadata": {},
     "output_type": "display_data"
    }
   ],
   "source": [
    "model = DecisionTreeClassifier(criterion='entropy', max_depth=None, splitter='random')\n",
    "model.fit(X_train, y_train)\n",
    "y_pred = model.predict(X_test)\n",
    "\n",
    "print(\"Classification Report:\")\n",
    "print(classification_report(y_test, y_pred))\n",
    "\n",
    "print(\"Confusion Matrix:\")\n",
    "sns.heatmap(confusion_matrix(y_test,y_pred_binary),annot = True,fmt='d')"
   ]
  }
 ],
 "metadata": {
  "kernelspec": {
   "display_name": "opencv",
   "language": "python",
   "name": "python3"
  },
  "language_info": {
   "codemirror_mode": {
    "name": "ipython",
    "version": 3
   },
   "file_extension": ".py",
   "mimetype": "text/x-python",
   "name": "python",
   "nbconvert_exporter": "python",
   "pygments_lexer": "ipython3",
   "version": "3.10.13"
  }
 },
 "nbformat": 4,
 "nbformat_minor": 2
}
