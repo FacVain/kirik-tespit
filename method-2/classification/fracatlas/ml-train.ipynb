{
 "cells": [
  {
   "cell_type": "code",
   "execution_count": 1,
   "metadata": {},
   "outputs": [
    {
     "name": "stderr",
     "output_type": "stream",
     "text": [
      "C:\\Users\\assas\\AppData\\Local\\Temp\\ipykernel_17004\\2319727694.py:1: DeprecationWarning: \n",
      "Pyarrow will become a required dependency of pandas in the next major release of pandas (pandas 3.0),\n",
      "(to allow more performant data types, such as the Arrow string type, and better interoperability with other libraries)\n",
      "but was not found to be installed on your system.\n",
      "If this would cause problems for you,\n",
      "please provide us feedback at https://github.com/pandas-dev/pandas/issues/54466\n",
      "        \n",
      "  import pandas as pd\n"
     ]
    }
   ],
   "source": [
    "import pandas as pd\n",
    "from sklearn import svm\n",
    "import pickle"
   ]
  },
  {
   "cell_type": "code",
   "execution_count": 2,
   "metadata": {},
   "outputs": [],
   "source": [
    "train = pd.read_csv('train.csv')\n",
    "test = pd.read_csv('test.csv')"
   ]
  },
  {
   "cell_type": "code",
   "execution_count": 3,
   "metadata": {},
   "outputs": [
    {
     "data": {
      "text/plain": [
       "image_file         False\n",
       "hand               False\n",
       "leg                False\n",
       "hip                False\n",
       "shoulder           False\n",
       "mixed              False\n",
       "label              False\n",
       "perimeter          False\n",
       "nm_lns             False\n",
       "mean_length        False\n",
       "std_length         False\n",
       "mean_slope         False\n",
       "std_slope          False\n",
       "max_acute_angle    False\n",
       "min_acute_angle    False\n",
       "area               False\n",
       "num_corners        False\n",
       "corner_ratio       False\n",
       "dtype: bool"
      ]
     },
     "execution_count": 3,
     "metadata": {},
     "output_type": "execute_result"
    }
   ],
   "source": [
    "train.drop(train[(train['mean_slope'] == \"--\") | (train['std_slope'] == \"--\")].index, inplace=True)\n",
    "train.isin([\"--\"]).any()\n"
   ]
  },
  {
   "cell_type": "code",
   "execution_count": 4,
   "metadata": {},
   "outputs": [
    {
     "data": {
      "text/plain": [
       "image_file         False\n",
       "hand               False\n",
       "leg                False\n",
       "hip                False\n",
       "shoulder           False\n",
       "mixed              False\n",
       "label              False\n",
       "perimeter          False\n",
       "nm_lns             False\n",
       "mean_length        False\n",
       "std_length         False\n",
       "mean_slope         False\n",
       "std_slope          False\n",
       "max_acute_angle    False\n",
       "min_acute_angle    False\n",
       "area               False\n",
       "num_corners        False\n",
       "corner_ratio       False\n",
       "dtype: bool"
      ]
     },
     "execution_count": 4,
     "metadata": {},
     "output_type": "execute_result"
    }
   ],
   "source": [
    "test.drop(test[(test['mean_slope'] == \"--\") | (test['std_slope'] == \"--\")].index, inplace=True)\n",
    "test.isin([\"--\"]).any()\n"
   ]
  },
  {
   "cell_type": "code",
   "execution_count": 5,
   "metadata": {},
   "outputs": [
    {
     "name": "stdout",
     "output_type": "stream",
     "text": [
      "Best: 0.310405 using {'C': 3, 'class_weight': {0: 1, 1: 5}, 'degree': 2, 'kernel': 'rbf'}\n",
      "0.027897 (0.026727) with: {'C': 2, 'class_weight': {0: 1, 1: 2}, 'degree': 2, 'kernel': 'rbf'}\n",
      "0.250071 (0.034077) with: {'C': 2, 'class_weight': {0: 1, 1: 2}, 'degree': 2, 'kernel': 'sigmoid'}\n",
      "0.027897 (0.026727) with: {'C': 2, 'class_weight': {0: 1, 1: 2}, 'degree': 3, 'kernel': 'rbf'}\n",
      "0.250071 (0.034077) with: {'C': 2, 'class_weight': {0: 1, 1: 2}, 'degree': 3, 'kernel': 'sigmoid'}\n",
      "0.174700 (0.055452) with: {'C': 2, 'class_weight': {0: 1, 1: 4}, 'degree': 2, 'kernel': 'rbf'}\n",
      "0.277997 (0.029151) with: {'C': 2, 'class_weight': {0: 1, 1: 4}, 'degree': 2, 'kernel': 'sigmoid'}\n",
      "0.174700 (0.055452) with: {'C': 2, 'class_weight': {0: 1, 1: 4}, 'degree': 3, 'kernel': 'rbf'}\n",
      "0.277997 (0.029151) with: {'C': 2, 'class_weight': {0: 1, 1: 4}, 'degree': 3, 'kernel': 'sigmoid'}\n",
      "0.305832 (0.044173) with: {'C': 2, 'class_weight': {0: 1, 1: 5}, 'degree': 2, 'kernel': 'rbf'}\n",
      "0.281188 (0.027379) with: {'C': 2, 'class_weight': {0: 1, 1: 5}, 'degree': 2, 'kernel': 'sigmoid'}\n",
      "0.305832 (0.044173) with: {'C': 2, 'class_weight': {0: 1, 1: 5}, 'degree': 3, 'kernel': 'rbf'}\n",
      "0.281188 (0.027379) with: {'C': 2, 'class_weight': {0: 1, 1: 5}, 'degree': 3, 'kernel': 'sigmoid'}\n",
      "0.025778 (0.027741) with: {'C': 3, 'class_weight': {0: 1, 1: 2}, 'degree': 2, 'kernel': 'rbf'}\n",
      "0.250557 (0.034535) with: {'C': 3, 'class_weight': {0: 1, 1: 2}, 'degree': 2, 'kernel': 'sigmoid'}\n",
      "0.025778 (0.027741) with: {'C': 3, 'class_weight': {0: 1, 1: 2}, 'degree': 3, 'kernel': 'rbf'}\n",
      "0.250557 (0.034535) with: {'C': 3, 'class_weight': {0: 1, 1: 2}, 'degree': 3, 'kernel': 'sigmoid'}\n",
      "0.174956 (0.057202) with: {'C': 3, 'class_weight': {0: 1, 1: 4}, 'degree': 2, 'kernel': 'rbf'}\n",
      "0.277366 (0.029956) with: {'C': 3, 'class_weight': {0: 1, 1: 4}, 'degree': 2, 'kernel': 'sigmoid'}\n",
      "0.174956 (0.057202) with: {'C': 3, 'class_weight': {0: 1, 1: 4}, 'degree': 3, 'kernel': 'rbf'}\n",
      "0.277366 (0.029956) with: {'C': 3, 'class_weight': {0: 1, 1: 4}, 'degree': 3, 'kernel': 'sigmoid'}\n",
      "0.310405 (0.046636) with: {'C': 3, 'class_weight': {0: 1, 1: 5}, 'degree': 2, 'kernel': 'rbf'}\n",
      "0.281638 (0.027234) with: {'C': 3, 'class_weight': {0: 1, 1: 5}, 'degree': 2, 'kernel': 'sigmoid'}\n",
      "0.310405 (0.046636) with: {'C': 3, 'class_weight': {0: 1, 1: 5}, 'degree': 3, 'kernel': 'rbf'}\n",
      "0.281638 (0.027234) with: {'C': 3, 'class_weight': {0: 1, 1: 5}, 'degree': 3, 'kernel': 'sigmoid'}\n"
     ]
    }
   ],
   "source": [
    "from numpy import mean\n",
    "from sklearn.metrics import classification_report, confusion_matrix\n",
    "from sklearn.model_selection import GridSearchCV, RepeatedStratifiedKFold, cross_val_score\n",
    "X_train = train.drop(columns=['image_file', 'label'])\n",
    "y_train = train['label']\n",
    "\n",
    "X_test = test.drop(columns=['image_file', 'label'])\n",
    "y_test = test['label']\n",
    "\n",
    "\n",
    "model = svm.SVC(gamma='scale')\n",
    "\n",
    "param_grid = {\n",
    "    'class_weight': ({0:1, 1:2}, {0:1,1:4}, {0:1,1:5}),\n",
    "    'kernel': ('rbf', 'sigmoid'),\n",
    "    'C': (2, 3),\n",
    "    'degree': (2, 3)\n",
    "}\n",
    "cv = RepeatedStratifiedKFold(n_splits=10, n_repeats=3, random_state=1)\n",
    "grid = GridSearchCV(estimator=model, param_grid=param_grid, n_jobs=-1, cv=cv, scoring='f1')\n",
    "\n",
    "grid_result = grid.fit(X_train, y_train)\n",
    "\n",
    "# report the best configuration\n",
    "print(\"Best: %f using %s\" % (grid_result.best_score_, grid_result.best_params_))\n",
    "# report all configurations\n",
    "means = grid_result.cv_results_['mean_test_score']\n",
    "stds = grid_result.cv_results_['std_test_score']\n",
    "params = grid_result.cv_results_['params']\n",
    "for mean, stdev, param in zip(means, stds, params):\n",
    "    print(\"%f (%f) with: %r\" % (mean, stdev, param))"
   ]
  },
  {
   "cell_type": "code",
   "execution_count": 6,
   "metadata": {},
   "outputs": [
    {
     "name": "stdout",
     "output_type": "stream",
     "text": [
      "Classification Report:\n",
      "              precision    recall  f1-score   support\n",
      "\n",
      "           0       0.84      0.80      0.82       674\n",
      "           1       0.23      0.30      0.26       142\n",
      "\n",
      "    accuracy                           0.71       816\n",
      "   macro avg       0.54      0.55      0.54       816\n",
      "weighted avg       0.74      0.71      0.72       816\n",
      "\n",
      "Confusion Matrix:\n"
     ]
    },
    {
     "data": {
      "text/plain": [
       "<Axes: >"
      ]
     },
     "execution_count": 6,
     "metadata": {},
     "output_type": "execute_result"
    },
    {
     "data": {
      "image/png": "[encoded data removed]",
      "text/plain": [
       "<Figure size 640x480 with 2 Axes>"
      ]
     },
     "metadata": {},
     "output_type": "display_data"
    }
   ],
   "source": [
    "from sklearn.metrics import classification_report, confusion_matrix\n",
    "import seaborn as sns\n",
    "weigths = grid_result.best_params_['class_weight']\n",
    "model = svm.SVC(gamma='scale', class_weight=weigths)\n",
    "model.fit(X_train, y_train)\n",
    "y_pred = model.predict(X_test)\n",
    "\n",
    "print(\"Classification Report:\")\n",
    "print(classification_report(y_test, y_pred))\n",
    "print(\"Confusion Matrix:\")\n",
    "sns.heatmap(confusion_matrix(y_test,y_pred),annot = True,fmt='d')\n"
   ]
  },
  {
   "cell_type": "code",
   "execution_count": 7,
   "metadata": {},
   "outputs": [],
   "source": [
    "s = pickle.dump(model, open('./models/svc.pkl', 'wb'))"
   ]
  },
  {
   "cell_type": "code",
   "execution_count": 19,
   "metadata": {},
   "outputs": [
    {
     "name": "stdout",
     "output_type": "stream",
     "text": [
      "Epoch 1/30\n",
      "46/51 [==========================>...] - ETA: 0s - loss: 3.3536 - accuracy: 0.5309 - auc: 0.5219 - precision: 0.1777 - recall: 0.4495WARNING:tensorflow:Early stopping conditioned on metric `AUC` which is not available. Available metrics are: loss,accuracy,auc,precision,recall\n",
      "51/51 [==============================] - 1s 11ms/step - loss: 3.1784 - accuracy: 0.5489 - auc: 0.5229 - precision: 0.1815 - recall: 0.4458\n",
      "Epoch 2/30\n",
      "50/51 [============================>.] - ETA: 0s - loss: 1.9537 - accuracy: 0.6303 - auc: 0.5698 - precision: 0.2246 - recall: 0.4536  WARNING:tensorflow:Early stopping conditioned on metric `AUC` which is not available. Available metrics are: loss,accuracy,auc,precision,recall\n",
      "51/51 [==============================] - 0s 8ms/step - loss: 1.9443 - accuracy: 0.6307 - auc: 0.5678 - precision: 0.2244 - recall: 0.4476\n",
      "Epoch 3/30\n",
      "50/51 [============================>.] - ETA: 0s - loss: 2.1396 - accuracy: 0.5809 - auc: 0.5579 - precision: 0.2078 - recall: 0.4929WARNING:tensorflow:Early stopping conditioned on metric `AUC` which is not available. Available metrics are: loss,accuracy,auc,precision,recall\n",
      "51/51 [==============================] - 0s 7ms/step - loss: 2.1429 - accuracy: 0.5843 - auc: 0.5592 - precision: 0.2094 - recall: 0.4913\n",
      "Epoch 4/30\n",
      "49/51 [===========================>..] - ETA: 0s - loss: 1.9627 - accuracy: 0.6027 - auc: 0.5887 - precision: 0.2252 - recall: 0.5219WARNING:tensorflow:Early stopping conditioned on metric `AUC` which is not available. Available metrics are: loss,accuracy,auc,precision,recall\n",
      "51/51 [==============================] - 0s 7ms/step - loss: 1.9302 - accuracy: 0.6039 - auc: 0.5905 - precision: 0.2275 - recall: 0.5227\n",
      "Epoch 5/30\n",
      "50/51 [============================>.] - ETA: 0s - loss: 1.7147 - accuracy: 0.6781 - auc: 0.5869 - precision: 0.2450 - recall: 0.3908WARNING:tensorflow:Early stopping conditioned on metric `AUC` which is not available. Available metrics are: loss,accuracy,auc,precision,recall\n",
      "51/51 [==============================] - 0s 7ms/step - loss: 1.7417 - accuracy: 0.6707 - auc: 0.5827 - precision: 0.2376 - recall: 0.3951\n",
      "Epoch 6/30\n",
      "46/51 [==========================>...] - ETA: 0s - loss: 2.1556 - accuracy: 0.6192 - auc: 0.5811 - precision: 0.2276 - recall: 0.4827WARNING:tensorflow:Early stopping conditioned on metric `AUC` which is not available. Available metrics are: loss,accuracy,auc,precision,recall\n",
      "51/51 [==============================] - 0s 7ms/step - loss: 2.1064 - accuracy: 0.6236 - auc: 0.5799 - precision: 0.2270 - recall: 0.4738\n",
      "Epoch 7/30\n",
      "51/51 [==============================] - ETA: 0s - loss: 1.6031 - accuracy: 0.6688 - auc: 0.6135 - precision: 0.2532 - recall: 0.4528WARNING:tensorflow:Early stopping conditioned on metric `AUC` which is not available. Available metrics are: loss,accuracy,auc,precision,recall\n",
      "51/51 [==============================] - 0s 8ms/step - loss: 1.6031 - accuracy: 0.6688 - auc: 0.6135 - precision: 0.2532 - recall: 0.4528\n",
      "Epoch 8/30\n",
      "49/51 [===========================>..] - ETA: 0s - loss: 1.9115 - accuracy: 0.6508 - auc: 0.5894 - precision: 0.2462 - recall: 0.4686WARNING:tensorflow:Early stopping conditioned on metric `AUC` which is not available. Available metrics are: loss,accuracy,auc,precision,recall\n",
      "51/51 [==============================] - 0s 9ms/step - loss: 1.9482 - accuracy: 0.6359 - auc: 0.5841 - precision: 0.2371 - recall: 0.4825\n",
      "Epoch 9/30\n",
      "48/51 [===========================>..] - ETA: 0s - loss: 1.5146 - accuracy: 0.6872 - auc: 0.6303 - precision: 0.2704 - recall: 0.4495WARNING:tensorflow:Early stopping conditioned on metric `AUC` which is not available. Available metrics are: loss,accuracy,auc,precision,recall\n",
      "51/51 [==============================] - 0s 7ms/step - loss: 1.4953 - accuracy: 0.6903 - auc: 0.6299 - precision: 0.2698 - recall: 0.4458\n",
      "Epoch 10/30\n",
      "49/51 [===========================>..] - ETA: 0s - loss: 1.5460 - accuracy: 0.6932 - auc: 0.6398 - precision: 0.2810 - recall: 0.4764WARNING:tensorflow:Early stopping conditioned on metric `AUC` which is not available. Available metrics are: loss,accuracy,auc,precision,recall\n",
      "51/51 [==============================] - 0s 7ms/step - loss: 1.5798 - accuracy: 0.6959 - auc: 0.6361 - precision: 0.2798 - recall: 0.4633\n",
      "Epoch 11/30\n",
      "47/51 [==========================>...] - ETA: 0s - loss: 1.7041 - accuracy: 0.6499 - auc: 0.6063 - precision: 0.2449 - recall: 0.4699WARNING:tensorflow:Early stopping conditioned on metric `AUC` which is not available. Available metrics are: loss,accuracy,auc,precision,recall\n",
      "51/51 [==============================] - 0s 7ms/step - loss: 1.6830 - accuracy: 0.6415 - auc: 0.6090 - precision: 0.2426 - recall: 0.4895\n",
      "Epoch 12/30\n",
      "49/51 [===========================>..] - ETA: 0s - loss: 1.7517 - accuracy: 0.6821 - auc: 0.6116 - precision: 0.2605 - recall: 0.4350WARNING:tensorflow:Early stopping conditioned on metric `AUC` which is not available. Available metrics are: loss,accuracy,auc,precision,recall\n",
      "51/51 [==============================] - 0s 7ms/step - loss: 1.7336 - accuracy: 0.6823 - auc: 0.6095 - precision: 0.2586 - recall: 0.4318\n",
      "Epoch 13/30\n",
      "51/51 [==============================] - ETA: 0s - loss: 1.7588 - accuracy: 0.5695 - auc: 0.5970 - precision: 0.2218 - recall: 0.5769WARNING:tensorflow:Early stopping conditioned on metric `AUC` which is not available. Available metrics are: loss,accuracy,auc,precision,recall\n",
      "51/51 [==============================] - 0s 7ms/step - loss: 1.7588 - accuracy: 0.5695 - auc: 0.5970 - precision: 0.2218 - recall: 0.5769\n",
      "Epoch 14/30\n",
      "46/51 [==========================>...] - ETA: 0s - loss: 2.7462 - accuracy: 0.6338 - auc: 0.5705 - precision: 0.2333 - recall: 0.4692  WARNING:tensorflow:Early stopping conditioned on metric `AUC` which is not available. Available metrics are: loss,accuracy,auc,precision,recall\n",
      "51/51 [==============================] - 0s 10ms/step - loss: 2.7070 - accuracy: 0.6119 - auc: 0.5744 - precision: 0.2279 - recall: 0.5052\n",
      "Epoch 15/30\n",
      "47/51 [==========================>...] - ETA: 0s - loss: 2.2042 - accuracy: 0.6336 - auc: 0.5683 - precision: 0.2221 - recall: 0.4408WARNING:tensorflow:Early stopping conditioned on metric `AUC` which is not available. Available metrics are: loss,accuracy,auc,precision,recall\n",
      "51/51 [==============================] - 0s 7ms/step - loss: 2.1567 - accuracy: 0.6390 - auc: 0.5784 - precision: 0.2313 - recall: 0.4528\n",
      "Epoch 16/30\n",
      "51/51 [==============================] - ETA: 0s - loss: 1.1769 - accuracy: 0.6891 - auc: 0.6272 - precision: 0.2667 - recall: 0.4388WARNING:tensorflow:Early stopping conditioned on metric `AUC` which is not available. Available metrics are: loss,accuracy,auc,precision,recall\n",
      "51/51 [==============================] - 0s 7ms/step - loss: 1.1769 - accuracy: 0.6891 - auc: 0.6272 - precision: 0.2667 - recall: 0.4388\n",
      "Epoch 17/30\n",
      "48/51 [===========================>..] - ETA: 0s - loss: 1.1740 - accuracy: 0.6895 - auc: 0.6514 - precision: 0.2805 - recall: 0.4816WARNING:tensorflow:Early stopping conditioned on metric `AUC` which is not available. Available metrics are: loss,accuracy,auc,precision,recall\n",
      "51/51 [==============================] - 0s 7ms/step - loss: 1.1592 - accuracy: 0.6959 - auc: 0.6545 - precision: 0.2817 - recall: 0.4703\n",
      "Epoch 18/30\n",
      "49/51 [===========================>..] - ETA: 0s - loss: 1.1224 - accuracy: 0.6913 - auc: 0.6616 - precision: 0.2818 - recall: 0.4784WARNING:tensorflow:Early stopping conditioned on metric `AUC` which is not available. Available metrics are: loss,accuracy,auc,precision,recall\n",
      "51/51 [==============================] - 0s 7ms/step - loss: 1.1128 - accuracy: 0.6931 - auc: 0.6629 - precision: 0.2800 - recall: 0.4738\n",
      "Epoch 19/30\n",
      "50/51 [============================>.] - ETA: 0s - loss: 1.3658 - accuracy: 0.6906 - auc: 0.6527 - precision: 0.2870 - recall: 0.5089WARNING:tensorflow:Early stopping conditioned on metric `AUC` which is not available. Available metrics are: loss,accuracy,auc,precision,recall\n",
      "51/51 [==============================] - 0s 7ms/step - loss: 1.3618 - accuracy: 0.6897 - auc: 0.6541 - precision: 0.2868 - recall: 0.5140\n",
      "Epoch 20/30\n",
      "50/51 [============================>.] - ETA: 0s - loss: 1.5602 - accuracy: 0.6772 - auc: 0.6219 - precision: 0.2657 - recall: 0.4716WARNING:tensorflow:Early stopping conditioned on metric `AUC` which is not available. Available metrics are: loss,accuracy,auc,precision,recall\n",
      "51/51 [==============================] - 0s 9ms/step - loss: 1.5490 - accuracy: 0.6790 - auc: 0.6237 - precision: 0.2673 - recall: 0.4738\n",
      "Epoch 21/30\n",
      "45/51 [=========================>....] - ETA: 0s - loss: 1.0547 - accuracy: 0.7194 - auc: 0.6842 - precision: 0.3114 - recall: 0.4980WARNING:tensorflow:Early stopping conditioned on metric `AUC` which is not available. Available metrics are: loss,accuracy,auc,precision,recall\n",
      "51/51 [==============================] - 0s 7ms/step - loss: 1.0536 - accuracy: 0.7214 - auc: 0.6857 - precision: 0.3161 - recall: 0.5017\n",
      "Epoch 22/30\n",
      "50/51 [============================>.] - ETA: 0s - loss: 1.1928 - accuracy: 0.6850 - auc: 0.6846 - precision: 0.2941 - recall: 0.5621WARNING:tensorflow:Early stopping conditioned on metric `AUC` which is not available. Available metrics are: loss,accuracy,auc,precision,recall\n",
      "51/51 [==============================] - 0s 7ms/step - loss: 1.1897 - accuracy: 0.6860 - auc: 0.6874 - precision: 0.2950 - recall: 0.5647\n",
      "Epoch 23/30\n",
      "49/51 [===========================>..] - ETA: 0s - loss: 1.0859 - accuracy: 0.7194 - auc: 0.6732 - precision: 0.2990 - recall: 0.4507WARNING:tensorflow:Early stopping conditioned on metric `AUC` which is not available. Available metrics are: loss,accuracy,auc,precision,recall\n",
      "51/51 [==============================] - 0s 7ms/step - loss: 1.0851 - accuracy: 0.7162 - auc: 0.6771 - precision: 0.3026 - recall: 0.4703\n",
      "Epoch 24/30\n",
      "50/51 [============================>.] - ETA: 0s - loss: 1.0023 - accuracy: 0.7000 - auc: 0.6989 - precision: 0.3052 - recall: 0.5617WARNING:tensorflow:Early stopping conditioned on metric `AUC` which is not available. Available metrics are: loss,accuracy,auc,precision,recall\n",
      "51/51 [==============================] - 0s 7ms/step - loss: 1.0044 - accuracy: 0.6999 - auc: 0.6987 - precision: 0.3069 - recall: 0.5612\n",
      "Epoch 25/30\n",
      "49/51 [===========================>..] - ETA: 0s - loss: 1.0829 - accuracy: 0.7111 - auc: 0.6954 - precision: 0.3111 - recall: 0.5355WARNING:tensorflow:Early stopping conditioned on metric `AUC` which is not available. Available metrics are: loss,accuracy,auc,precision,recall\n",
      "51/51 [==============================] - 0s 7ms/step - loss: 1.0819 - accuracy: 0.7097 - auc: 0.6935 - precision: 0.3117 - recall: 0.5385\n",
      "Epoch 26/30\n",
      "47/51 [==========================>...] - ETA: 0s - loss: 1.1257 - accuracy: 0.6865 - auc: 0.6996 - precision: 0.3071 - recall: 0.6045WARNING:tensorflow:Early stopping conditioned on metric `AUC` which is not available. Available metrics are: loss,accuracy,auc,precision,recall\n",
      "51/51 [==============================] - 0s 9ms/step - loss: 1.1233 - accuracy: 0.6860 - auc: 0.6976 - precision: 0.3029 - recall: 0.6031\n",
      "Epoch 27/30\n",
      "47/51 [==========================>...] - ETA: 0s - loss: 1.2144 - accuracy: 0.7045 - auc: 0.6751 - precision: 0.2855 - recall: 0.4573WARNING:tensorflow:Early stopping conditioned on metric `AUC` which is not available. Available metrics are: loss,accuracy,auc,precision,recall\n",
      "51/51 [==============================] - 0s 7ms/step - loss: 1.2132 - accuracy: 0.7051 - auc: 0.6853 - precision: 0.2926 - recall: 0.4773\n",
      "Epoch 28/30\n",
      "43/51 [========================>.....] - ETA: 0s - loss: 1.1732 - accuracy: 0.7002 - auc: 0.6771 - precision: 0.3023 - recall: 0.5020WARNING:tensorflow:Early stopping conditioned on metric `AUC` which is not available. Available metrics are: loss,accuracy,auc,precision,recall\n",
      "51/51 [==============================] - 0s 6ms/step - loss: 1.1614 - accuracy: 0.6928 - auc: 0.6766 - precision: 0.2917 - recall: 0.5227\n",
      "Epoch 29/30\n",
      "50/51 [============================>.] - ETA: 0s - loss: 1.1218 - accuracy: 0.7134 - auc: 0.6992 - precision: 0.3204 - recall: 0.5558WARNING:tensorflow:Early stopping conditioned on metric `AUC` which is not available. Available metrics are: loss,accuracy,auc,precision,recall\n",
      "51/51 [==============================] - 0s 7ms/step - loss: 1.1308 - accuracy: 0.7140 - auc: 0.6987 - precision: 0.3192 - recall: 0.5524\n",
      "Epoch 30/30\n",
      "50/51 [============================>.] - ETA: 0s - loss: 1.2260 - accuracy: 0.6866 - auc: 0.6703 - precision: 0.2808 - recall: 0.5045WARNING:tensorflow:Early stopping conditioned on metric `AUC` which is not available. Available metrics are: loss,accuracy,auc,precision,recall\n",
      "51/51 [==============================] - 0s 7ms/step - loss: 1.2230 - accuracy: 0.6882 - auc: 0.6730 - precision: 0.2838 - recall: 0.5070\n"
     ]
    },
    {
     "data": {
      "text/plain": [
       "<keras.callbacks.History at 0x224374e7dc0>"
      ]
     },
     "execution_count": 19,
     "metadata": {},
     "output_type": "execute_result"
    }
   ],
   "source": [
    "from tensorflow.keras.models import Sequential\n",
    "from tensorflow.keras.layers import Dense\n",
    "from tensorflow.keras.callbacks import EarlyStopping\n",
    "import numpy as np\n",
    "from sklearn.metrics import classification_report\n",
    "\n",
    "# Define the model architecture\n",
    "model = Sequential()\n",
    "model.add(Dense(64, activation='relu', input_dim=X_train.shape[1]))\n",
    "model.add(Dense(64, activation='relu'))\n",
    "model.add(Dense(32, activation='relu'))\n",
    "model.add(Dense(16, activation='relu'))\n",
    "model.add(Dense(1, activation='sigmoid'))\n",
    "\n",
    "# Compile the model\n",
    "model.compile(optimizer='adam', loss='binary_crossentropy', metrics=['accuracy', 'AUC', 'Precision', 'Recall'])\n",
    "callback = EarlyStopping(monitor='AUC', patience=3)\n",
    "# Fit the model to the training data\n",
    "model.fit(np.asarray(X_train).astype('float32'), np.asarray(y_train).astype('float32'), epochs=30, batch_size=64, class_weight={0: 1, 1: 4}, callbacks=[callback])"
   ]
  },
  {
   "cell_type": "code",
   "execution_count": 20,
   "metadata": {},
   "outputs": [
    {
     "name": "stdout",
     "output_type": "stream",
     "text": [
      "26/26 [==============================] - 0s 1ms/step\n",
      "Classification Report:\n",
      "              precision    recall  f1-score   support\n",
      "\n",
      "         0.0       0.87      0.73      0.80       674\n",
      "         1.0       0.27      0.48      0.35       142\n",
      "\n",
      "    accuracy                           0.69       816\n",
      "   macro avg       0.57      0.61      0.57       816\n",
      "weighted avg       0.77      0.69      0.72       816\n",
      "\n"
     ]
    }
   ],
   "source": [
    "# Predict on the test data\n",
    "y_pred = model.predict(np.asarray(X_test).astype('float32'))\n",
    "\n",
    "# Convert predictions to binary labels\n",
    "y_pred_binary = np.round(y_pred)\n",
    "\n",
    "# Generate classification report\n",
    "report = classification_report(np.asarray(y_test).astype('float32'), y_pred_binary)\n",
    "print(\"Classification Report:\")\n",
    "print(report)"
   ]
  },
  {
   "cell_type": "code",
   "execution_count": 21,
   "metadata": {},
   "outputs": [
    {
     "data": {
      "text/plain": [
       "<Axes: >"
      ]
     },
     "execution_count": 21,
     "metadata": {},
     "output_type": "execute_result"
    },
    {
     "data": {
      "image/png": "[encoded data removed]",
      "text/plain": [
       "<Figure size 640x480 with 2 Axes>"
      ]
     },
     "metadata": {},
     "output_type": "display_data"
    }
   ],
   "source": [
    "sns.heatmap(confusion_matrix(y_test,y_pred_binary),annot = True,fmt='d')"
   ]
  },
  {
   "cell_type": "code",
   "execution_count": 22,
   "metadata": {},
   "outputs": [],
   "source": [
    "model.save('./models/nn.h5')"
   ]
  },
  {
   "cell_type": "code",
   "execution_count": 12,
   "metadata": {},
   "outputs": [
    {
     "name": "stdout",
     "output_type": "stream",
     "text": [
      "Best: 0.338667 using {'criterion': 'entropy', 'max_depth': 30, 'splitter': 'random'}\n",
      "0.312700 (0.059530) with: {'criterion': 'gini', 'max_depth': None, 'splitter': 'best'}\n",
      "0.325368 (0.060665) with: {'criterion': 'gini', 'max_depth': None, 'splitter': 'random'}\n",
      "0.282271 (0.064400) with: {'criterion': 'gini', 'max_depth': 10, 'splitter': 'best'}\n",
      "0.232592 (0.059119) with: {'criterion': 'gini', 'max_depth': 10, 'splitter': 'random'}\n",
      "0.308845 (0.065016) with: {'criterion': 'gini', 'max_depth': 20, 'splitter': 'best'}\n",
      "0.334628 (0.052214) with: {'criterion': 'gini', 'max_depth': 20, 'splitter': 'random'}\n",
      "0.316407 (0.062963) with: {'criterion': 'gini', 'max_depth': 30, 'splitter': 'best'}\n",
      "0.335948 (0.039159) with: {'criterion': 'gini', 'max_depth': 30, 'splitter': 'random'}\n",
      "0.323694 (0.055706) with: {'criterion': 'entropy', 'max_depth': None, 'splitter': 'best'}\n",
      "0.336876 (0.056836) with: {'criterion': 'entropy', 'max_depth': None, 'splitter': 'random'}\n",
      "0.269952 (0.045084) with: {'criterion': 'entropy', 'max_depth': 10, 'splitter': 'best'}\n",
      "0.245925 (0.066188) with: {'criterion': 'entropy', 'max_depth': 10, 'splitter': 'random'}\n",
      "0.318240 (0.048977) with: {'criterion': 'entropy', 'max_depth': 20, 'splitter': 'best'}\n",
      "0.320493 (0.059660) with: {'criterion': 'entropy', 'max_depth': 20, 'splitter': 'random'}\n",
      "0.321686 (0.056987) with: {'criterion': 'entropy', 'max_depth': 30, 'splitter': 'best'}\n",
      "0.338667 (0.054870) with: {'criterion': 'entropy', 'max_depth': 30, 'splitter': 'random'}\n"
     ]
    }
   ],
   "source": [
    "from sklearn.tree import DecisionTreeClassifier\n",
    "\n",
    "param_grid = {\n",
    "    'criterion': ('gini', 'entropy'),\n",
    "    'splitter': ('best', 'random'),\n",
    "    'max_depth': (None, 10, 20, 30)\n",
    "}\n",
    "cv = RepeatedStratifiedKFold(n_splits=10, n_repeats=3, random_state=1)\n",
    "model = DecisionTreeClassifier()\n",
    "grid = GridSearchCV(estimator=model, param_grid=param_grid, n_jobs=-1, cv=cv, scoring='f1')\n",
    "\n",
    "grid_result = grid.fit(X_train, y_train)\n",
    "\n",
    "print(\"Best: %f using %s\" % (grid_result.best_score_ , grid_result.best_params_))\n",
    "# report all configurations\n",
    "means = grid_result.cv_results_['mean_test_score']\n",
    "stds = grid_result.cv_results_['std_test_score']\n",
    "params = grid_result.cv_results_['params']\n",
    "for mean, stdev, param in zip(means, stds, params):\n",
    "    print(\"%f (%f) with: %r\" % (mean, stdev, param))"
   ]
  },
  {
   "cell_type": "code",
   "execution_count": 13,
   "metadata": {},
   "outputs": [
    {
     "name": "stdout",
     "output_type": "stream",
     "text": [
      "Classification Report:\n",
      "              precision    recall  f1-score   support\n",
      "\n",
      "           0       0.86      0.86      0.86       674\n",
      "           1       0.34      0.32      0.33       142\n",
      "\n",
      "    accuracy                           0.77       816\n",
      "   macro avg       0.60      0.59      0.60       816\n",
      "weighted avg       0.77      0.77      0.77       816\n",
      "\n",
      "Confusion Matrix:\n"
     ]
    },
    {
     "data": {
      "text/plain": [
       "<Axes: >"
      ]
     },
     "execution_count": 13,
     "metadata": {},
     "output_type": "execute_result"
    },
    {
     "data": {
      "image/png": "[encoded data removed]",
      "text/plain": [
       "<Figure size 640x480 with 2 Axes>"
      ]
     },
     "metadata": {},
     "output_type": "display_data"
    }
   ],
   "source": [
    "model = DecisionTreeClassifier(criterion='entropy', max_depth=None, splitter='random')\n",
    "model.fit(X_train, y_train)\n",
    "y_pred = model.predict(X_test)\n",
    "\n",
    "print(\"Classification Report:\")\n",
    "print(classification_report(y_test, y_pred))\n",
    "\n",
    "print(\"Confusion Matrix:\")\n",
    "sns.heatmap(confusion_matrix(y_test,y_pred_binary),annot = True,fmt='d')"
   ]
  },
  {
   "cell_type": "code",
   "execution_count": 14,
   "metadata": {},
   "outputs": [],
   "source": [
    "pickle.dump(model, open('./models/dt.pkl', 'wb'))"
   ]
  }
 ],
 "metadata": {
  "kernelspec": {
   "display_name": "opencv",
   "language": "python",
   "name": "python3"
  },
  "language_info": {
   "codemirror_mode": {
    "name": "ipython",
    "version": 3
   },
   "file_extension": ".py",
   "mimetype": "text/x-python",
   "name": "python",
   "nbconvert_exporter": "python",
   "pygments_lexer": "ipython3",
   "version": "3.10.13"
  }
 },
 "nbformat": 4,
 "nbformat_minor": 2
}
