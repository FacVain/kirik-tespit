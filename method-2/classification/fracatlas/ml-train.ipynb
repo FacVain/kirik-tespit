{
 "cells": [
  {
   "cell_type": "code",
   "execution_count": 1,
   "metadata": {},
   "outputs": [
    {
     "name": "stderr",
     "output_type": "stream",
     "text": [
      "C:\\Users\\assas\\AppData\\Local\\Temp\\ipykernel_3404\\2319727694.py:1: DeprecationWarning: \n",
      "Pyarrow will become a required dependency of pandas in the next major release of pandas (pandas 3.0),\n",
      "(to allow more performant data types, such as the Arrow string type, and better interoperability with other libraries)\n",
      "but was not found to be installed on your system.\n",
      "If this would cause problems for you,\n",
      "please provide us feedback at https://github.com/pandas-dev/pandas/issues/54466\n",
      "        \n",
      "  import pandas as pd\n"
     ]
    }
   ],
   "source": [
    "import pandas as pd\n",
    "from sklearn import svm\n",
    "import pickle"
   ]
  },
  {
   "cell_type": "code",
   "execution_count": 2,
   "metadata": {},
   "outputs": [],
   "source": [
    "train = pd.read_csv('train.csv')\n",
    "test = pd.read_csv('test.csv')"
   ]
  },
  {
   "cell_type": "code",
   "execution_count": 3,
   "metadata": {},
   "outputs": [
    {
     "data": {
      "text/plain": [
       "image_file         False\n",
       "hand               False\n",
       "leg                False\n",
       "hip                False\n",
       "shoulder           False\n",
       "mixed              False\n",
       "label              False\n",
       "perimeter          False\n",
       "nm_lns             False\n",
       "mean_length        False\n",
       "std_length         False\n",
       "mean_slope         False\n",
       "std_slope          False\n",
       "max_acute_angle    False\n",
       "min_acute_angle    False\n",
       "area               False\n",
       "num_corners        False\n",
       "corner_ratio       False\n",
       "dtype: bool"
      ]
     },
     "execution_count": 3,
     "metadata": {},
     "output_type": "execute_result"
    }
   ],
   "source": [
    "train.drop(train[(train['mean_slope'] == \"--\") | (train['std_slope'] == \"--\")].index, inplace=True)\n",
    "train.isin([\"--\"]).any()\n"
   ]
  },
  {
   "cell_type": "code",
   "execution_count": 4,
   "metadata": {},
   "outputs": [
    {
     "data": {
      "text/plain": [
       "image_file         False\n",
       "hand               False\n",
       "leg                False\n",
       "hip                False\n",
       "shoulder           False\n",
       "mixed              False\n",
       "label              False\n",
       "perimeter          False\n",
       "nm_lns             False\n",
       "mean_length        False\n",
       "std_length         False\n",
       "mean_slope         False\n",
       "std_slope          False\n",
       "max_acute_angle    False\n",
       "min_acute_angle    False\n",
       "area               False\n",
       "num_corners        False\n",
       "corner_ratio       False\n",
       "dtype: bool"
      ]
     },
     "execution_count": 4,
     "metadata": {},
     "output_type": "execute_result"
    }
   ],
   "source": [
    "test.drop(test[(test['mean_slope'] == \"--\") | (test['std_slope'] == \"--\")].index, inplace=True)\n",
    "test.isin([\"--\"]).any()\n"
   ]
  },
  {
   "cell_type": "code",
   "execution_count": 5,
   "metadata": {},
   "outputs": [
    {
     "name": "stdout",
     "output_type": "stream",
     "text": [
      "Best: 0.310405 using {'C': 3, 'class_weight': {0: 1, 1: 5}, 'degree': 2, 'kernel': 'rbf'}\n",
      "0.027897 (0.026727) with: {'C': 2, 'class_weight': {0: 1, 1: 2}, 'degree': 2, 'kernel': 'rbf'}\n",
      "0.250071 (0.034077) with: {'C': 2, 'class_weight': {0: 1, 1: 2}, 'degree': 2, 'kernel': 'sigmoid'}\n",
      "0.027897 (0.026727) with: {'C': 2, 'class_weight': {0: 1, 1: 2}, 'degree': 3, 'kernel': 'rbf'}\n",
      "0.250071 (0.034077) with: {'C': 2, 'class_weight': {0: 1, 1: 2}, 'degree': 3, 'kernel': 'sigmoid'}\n",
      "0.174700 (0.055452) with: {'C': 2, 'class_weight': {0: 1, 1: 4}, 'degree': 2, 'kernel': 'rbf'}\n",
      "0.277997 (0.029151) with: {'C': 2, 'class_weight': {0: 1, 1: 4}, 'degree': 2, 'kernel': 'sigmoid'}\n",
      "0.174700 (0.055452) with: {'C': 2, 'class_weight': {0: 1, 1: 4}, 'degree': 3, 'kernel': 'rbf'}\n",
      "0.277997 (0.029151) with: {'C': 2, 'class_weight': {0: 1, 1: 4}, 'degree': 3, 'kernel': 'sigmoid'}\n",
      "0.305832 (0.044173) with: {'C': 2, 'class_weight': {0: 1, 1: 5}, 'degree': 2, 'kernel': 'rbf'}\n",
      "0.281188 (0.027379) with: {'C': 2, 'class_weight': {0: 1, 1: 5}, 'degree': 2, 'kernel': 'sigmoid'}\n",
      "0.305832 (0.044173) with: {'C': 2, 'class_weight': {0: 1, 1: 5}, 'degree': 3, 'kernel': 'rbf'}\n",
      "0.281188 (0.027379) with: {'C': 2, 'class_weight': {0: 1, 1: 5}, 'degree': 3, 'kernel': 'sigmoid'}\n",
      "0.025778 (0.027741) with: {'C': 3, 'class_weight': {0: 1, 1: 2}, 'degree': 2, 'kernel': 'rbf'}\n",
      "0.250557 (0.034535) with: {'C': 3, 'class_weight': {0: 1, 1: 2}, 'degree': 2, 'kernel': 'sigmoid'}\n",
      "0.025778 (0.027741) with: {'C': 3, 'class_weight': {0: 1, 1: 2}, 'degree': 3, 'kernel': 'rbf'}\n",
      "0.250557 (0.034535) with: {'C': 3, 'class_weight': {0: 1, 1: 2}, 'degree': 3, 'kernel': 'sigmoid'}\n",
      "0.174956 (0.057202) with: {'C': 3, 'class_weight': {0: 1, 1: 4}, 'degree': 2, 'kernel': 'rbf'}\n",
      "0.277366 (0.029956) with: {'C': 3, 'class_weight': {0: 1, 1: 4}, 'degree': 2, 'kernel': 'sigmoid'}\n",
      "0.174956 (0.057202) with: {'C': 3, 'class_weight': {0: 1, 1: 4}, 'degree': 3, 'kernel': 'rbf'}\n",
      "0.277366 (0.029956) with: {'C': 3, 'class_weight': {0: 1, 1: 4}, 'degree': 3, 'kernel': 'sigmoid'}\n",
      "0.310405 (0.046636) with: {'C': 3, 'class_weight': {0: 1, 1: 5}, 'degree': 2, 'kernel': 'rbf'}\n",
      "0.281638 (0.027234) with: {'C': 3, 'class_weight': {0: 1, 1: 5}, 'degree': 2, 'kernel': 'sigmoid'}\n",
      "0.310405 (0.046636) with: {'C': 3, 'class_weight': {0: 1, 1: 5}, 'degree': 3, 'kernel': 'rbf'}\n",
      "0.281638 (0.027234) with: {'C': 3, 'class_weight': {0: 1, 1: 5}, 'degree': 3, 'kernel': 'sigmoid'}\n"
     ]
    }
   ],
   "source": [
    "from numpy import mean\n",
    "from sklearn.metrics import classification_report, confusion_matrix\n",
    "from sklearn.model_selection import GridSearchCV, RepeatedStratifiedKFold, cross_val_score\n",
    "X_train = train.drop(columns=['image_file', 'label'])\n",
    "y_train = train['label']\n",
    "\n",
    "X_test = test.drop(columns=['image_file', 'label'])\n",
    "y_test = test['label']\n",
    "\n",
    "\n",
    "model = svm.SVC(gamma='scale')\n",
    "\n",
    "param_grid = {\n",
    "    'class_weight': ({0:1, 1:2}, {0:1,1:4}, {0:1,1:5}),\n",
    "    'kernel': ('rbf', 'sigmoid'),\n",
    "    'C': (2, 3),\n",
    "    'degree': (2, 3)\n",
    "}\n",
    "cv = RepeatedStratifiedKFold(n_splits=10, n_repeats=3, random_state=1)\n",
    "grid = GridSearchCV(estimator=model, param_grid=param_grid, n_jobs=-1, cv=cv, scoring='f1')\n",
    "\n",
    "grid_result = grid.fit(X_train, y_train)\n",
    "\n",
    "# report the best configuration\n",
    "print(\"Best: %f using %s\" % (grid_result.best_score_, grid_result.best_params_))\n",
    "# report all configurations\n",
    "means = grid_result.cv_results_['mean_test_score']\n",
    "stds = grid_result.cv_results_['std_test_score']\n",
    "params = grid_result.cv_results_['params']\n",
    "for mean, stdev, param in zip(means, stds, params):\n",
    "    print(\"%f (%f) with: %r\" % (mean, stdev, param))"
   ]
  },
  {
   "cell_type": "code",
   "execution_count": 6,
   "metadata": {},
   "outputs": [
    {
     "name": "stdout",
     "output_type": "stream",
     "text": [
      "Classification Report:\n",
      "              precision    recall  f1-score   support\n",
      "\n",
      "           0       0.85      0.77      0.81       674\n",
      "           1       0.23      0.33      0.27       142\n",
      "\n",
      "    accuracy                           0.69       816\n",
      "   macro avg       0.54      0.55      0.54       816\n",
      "weighted avg       0.74      0.69      0.71       816\n",
      "\n",
      "Confusion Matrix:\n"
     ]
    },
    {
     "data": {
      "text/plain": [
       "<Axes: >"
      ]
     },
     "execution_count": 6,
     "metadata": {},
     "output_type": "execute_result"
    },
    {
     "data": {
      "image/png": "[encoded data removed]",
      "text/plain": [
       "<Figure size 640x480 with 2 Axes>"
      ]
     },
     "metadata": {},
     "output_type": "display_data"
    }
   ],
   "source": [
    "from sklearn.metrics import classification_report, confusion_matrix\n",
    "import seaborn as sns\n",
    "weigths = grid_result.best_params_['class_weight']\n",
    "model = svm.SVC(gamma='scale', class_weight=weigths, kernel=grid_result.best_params_['kernel'], C=grid_result.best_params_['C'], degree=grid_result.best_params_['degree'])\n",
    "model.fit(X_train, y_train)\n",
    "y_pred = model.predict(X_test)\n",
    "\n",
    "print(\"Classification Report:\")\n",
    "print(classification_report(y_test, y_pred))\n",
    "print(\"Confusion Matrix:\")\n",
    "sns.heatmap(confusion_matrix(y_test,y_pred),annot = True,fmt='d')\n"
   ]
  },
  {
   "cell_type": "code",
   "execution_count": 7,
   "metadata": {},
   "outputs": [],
   "source": [
    "s = pickle.dump(model, open('./models/svc.pkl', 'wb'))"
   ]
  },
  {
   "cell_type": "code",
   "execution_count": 8,
   "metadata": {},
   "outputs": [
    {
     "name": "stdout",
     "output_type": "stream",
     "text": [
      "Epoch 1/30\n",
      "46/51 [==========================>...] - ETA: 0s - loss: 4.1958 - accuracy: 0.5092 - auc: 0.5080 - precision: 0.1777 - recall: 0.4904WARNING:tensorflow:Early stopping conditioned on metric `AUC` which is not available. Available metrics are: loss,accuracy,auc,precision,recall\n",
      "51/51 [==============================] - 2s 6ms/step - loss: 4.1220 - accuracy: 0.5286 - auc: 0.5068 - precision: 0.1782 - recall: 0.4650\n",
      "Epoch 2/30\n",
      "45/51 [=========================>....] - ETA: 0s - loss: 2.1651 - accuracy: 0.5837 - auc: 0.5402 - precision: 0.2064 - recall: 0.4605    WARNING:tensorflow:Early stopping conditioned on metric `AUC` which is not available. Available metrics are: loss,accuracy,auc,precision,recall\n",
      "51/51 [==============================] - 0s 6ms/step - loss: 2.1293 - accuracy: 0.5919 - auc: 0.5435 - precision: 0.2030 - recall: 0.4510\n",
      "Epoch 3/30\n",
      "51/51 [==============================] - ETA: 0s - loss: 2.0425 - accuracy: 0.6307 - auc: 0.5526 - precision: 0.2179 - recall: 0.4248   WARNING:tensorflow:Early stopping conditioned on metric `AUC` which is not available. Available metrics are: loss,accuracy,auc,precision,recall\n",
      "51/51 [==============================] - 0s 6ms/step - loss: 2.0425 - accuracy: 0.6307 - auc: 0.5526 - precision: 0.2179 - recall: 0.4248\n",
      "Epoch 4/30\n",
      "46/51 [==========================>...] - ETA: 0s - loss: 1.5373 - accuracy: 0.6393 - auc: 0.5546 - precision: 0.2096 - recall: 0.3980WARNING:tensorflow:Early stopping conditioned on metric `AUC` which is not available. Available metrics are: loss,accuracy,auc,precision,recall\n",
      "51/51 [==============================] - 0s 6ms/step - loss: 1.5171 - accuracy: 0.6448 - auc: 0.5577 - precision: 0.2173 - recall: 0.3916\n",
      "Epoch 5/30\n",
      "44/51 [========================>.....] - ETA: 0s - loss: 1.3191 - accuracy: 0.6658 - auc: 0.6288 - precision: 0.2503 - recall: 0.4345WARNING:tensorflow:Early stopping conditioned on metric `AUC` which is not available. Available metrics are: loss,accuracy,auc,precision,recall\n",
      "51/51 [==============================] - 0s 6ms/step - loss: 1.3518 - accuracy: 0.6642 - auc: 0.6201 - precision: 0.2405 - recall: 0.4213\n",
      "Epoch 6/30\n",
      "46/51 [==========================>...] - ETA: 0s - loss: 1.3333 - accuracy: 0.6413 - auc: 0.6017 - precision: 0.2449 - recall: 0.4820WARNING:tensorflow:Early stopping conditioned on metric `AUC` which is not available. Available metrics are: loss,accuracy,auc,precision,recall\n",
      "51/51 [==============================] - 0s 6ms/step - loss: 1.2978 - accuracy: 0.6577 - auc: 0.6134 - precision: 0.2507 - recall: 0.4755\n",
      "Epoch 7/30\n",
      "47/51 [==========================>...] - ETA: 0s - loss: 1.1970 - accuracy: 0.6739 - auc: 0.6211 - precision: 0.2604 - recall: 0.4586WARNING:tensorflow:Early stopping conditioned on metric `AUC` which is not available. Available metrics are: loss,accuracy,auc,precision,recall\n",
      "51/51 [==============================] - 0s 6ms/step - loss: 1.1813 - accuracy: 0.6790 - auc: 0.6241 - precision: 0.2616 - recall: 0.4528\n",
      "Epoch 8/30\n",
      "45/51 [=========================>....] - ETA: 0s - loss: 1.1427 - accuracy: 0.7128 - auc: 0.6471 - precision: 0.2861 - recall: 0.4351WARNING:tensorflow:Early stopping conditioned on metric `AUC` which is not available. Available metrics are: loss,accuracy,auc,precision,recall\n",
      "51/51 [==============================] - 0s 6ms/step - loss: 1.1387 - accuracy: 0.7085 - auc: 0.6480 - precision: 0.2864 - recall: 0.4406\n",
      "Epoch 9/30\n",
      "46/51 [==========================>...] - ETA: 0s - loss: 1.1239 - accuracy: 0.6848 - auc: 0.6486 - precision: 0.2827 - recall: 0.5057WARNING:tensorflow:Early stopping conditioned on metric `AUC` which is not available. Available metrics are: loss,accuracy,auc,precision,recall\n",
      "51/51 [==============================] - 0s 6ms/step - loss: 1.1849 - accuracy: 0.6882 - auc: 0.6451 - precision: 0.2808 - recall: 0.4948\n",
      "Epoch 10/30\n",
      "44/51 [========================>.....] - ETA: 0s - loss: 1.2272 - accuracy: 0.6758 - auc: 0.6498 - precision: 0.2755 - recall: 0.4980WARNING:tensorflow:Early stopping conditioned on metric `AUC` which is not available. Available metrics are: loss,accuracy,auc,precision,recall\n",
      "51/51 [==============================] - 0s 6ms/step - loss: 1.2193 - accuracy: 0.6848 - auc: 0.6461 - precision: 0.2719 - recall: 0.4720\n",
      "Epoch 11/30\n",
      "46/51 [==========================>...] - ETA: 0s - loss: 2.2031 - accuracy: 0.5608 - auc: 0.5730 - precision: 0.2081 - recall: 0.5368WARNING:tensorflow:Early stopping conditioned on metric `AUC` which is not available. Available metrics are: loss,accuracy,auc,precision,recall\n",
      "51/51 [==============================] - 0s 6ms/step - loss: 2.1683 - accuracy: 0.5686 - auc: 0.5765 - precision: 0.2096 - recall: 0.5245\n",
      "Epoch 12/30\n",
      "45/51 [=========================>....] - ETA: 0s - loss: 1.4817 - accuracy: 0.6899 - auc: 0.6041 - precision: 0.2577 - recall: 0.3868WARNING:tensorflow:Early stopping conditioned on metric `AUC` which is not available. Available metrics are: loss,accuracy,auc,precision,recall\n",
      "51/51 [==============================] - 0s 6ms/step - loss: 1.4360 - accuracy: 0.6744 - auc: 0.6007 - precision: 0.2440 - recall: 0.4056\n",
      "Epoch 13/30\n",
      "46/51 [==========================>...] - ETA: 0s - loss: 1.1190 - accuracy: 0.7004 - auc: 0.6467 - precision: 0.2839 - recall: 0.4680WARNING:tensorflow:Early stopping conditioned on metric `AUC` which is not available. Available metrics are: loss,accuracy,auc,precision,recall\n",
      "51/51 [==============================] - 0s 6ms/step - loss: 1.1101 - accuracy: 0.6996 - auc: 0.6475 - precision: 0.2853 - recall: 0.4703\n",
      "Epoch 14/30\n",
      "45/51 [=========================>....] - ETA: 0s - loss: 1.0706 - accuracy: 0.7108 - auc: 0.6628 - precision: 0.3006 - recall: 0.4727WARNING:tensorflow:Early stopping conditioned on metric `AUC` which is not available. Available metrics are: loss,accuracy,auc,precision,recall\n",
      "51/51 [==============================] - 0s 6ms/step - loss: 1.0631 - accuracy: 0.7079 - auc: 0.6612 - precision: 0.2955 - recall: 0.4773\n",
      "Epoch 15/30\n",
      "46/51 [==========================>...] - ETA: 0s - loss: 1.1436 - accuracy: 0.7147 - auc: 0.6742 - precision: 0.2956 - recall: 0.4821WARNING:tensorflow:Early stopping conditioned on metric `AUC` which is not available. Available metrics are: loss,accuracy,auc,precision,recall\n",
      "51/51 [==============================] - 0s 6ms/step - loss: 1.2268 - accuracy: 0.7033 - auc: 0.6776 - precision: 0.2980 - recall: 0.5070\n",
      "Epoch 16/30\n",
      "47/51 [==========================>...] - ETA: 0s - loss: 1.1595 - accuracy: 0.6991 - auc: 0.6518 - precision: 0.2738 - recall: 0.4481WARNING:tensorflow:Early stopping conditioned on metric `AUC` which is not available. Available metrics are: loss,accuracy,auc,precision,recall\n",
      "51/51 [==============================] - 0s 6ms/step - loss: 1.1625 - accuracy: 0.6876 - auc: 0.6492 - precision: 0.2711 - recall: 0.4598\n",
      "Epoch 17/30\n",
      "51/51 [==============================] - ETA: 0s - loss: 1.1253 - accuracy: 0.6811 - auc: 0.6463 - precision: 0.2741 - recall: 0.4930WARNING:tensorflow:Early stopping conditioned on metric `AUC` which is not available. Available metrics are: loss,accuracy,auc,precision,recall\n",
      "51/51 [==============================] - 0s 6ms/step - loss: 1.1253 - accuracy: 0.6811 - auc: 0.6463 - precision: 0.2741 - recall: 0.4930\n",
      "Epoch 18/30\n",
      "45/51 [=========================>....] - ETA: 0s - loss: 1.1253 - accuracy: 0.6729 - auc: 0.6549 - precision: 0.2796 - recall: 0.5373WARNING:tensorflow:Early stopping conditioned on metric `AUC` which is not available. Available metrics are: loss,accuracy,auc,precision,recall\n",
      "51/51 [==============================] - 0s 6ms/step - loss: 1.1005 - accuracy: 0.6787 - auc: 0.6657 - precision: 0.2867 - recall: 0.5559\n",
      "Epoch 19/30\n",
      "48/51 [===========================>..] - ETA: 0s - loss: 0.9958 - accuracy: 0.7126 - auc: 0.6729 - precision: 0.3004 - recall: 0.4599WARNING:tensorflow:Early stopping conditioned on metric `AUC` which is not available. Available metrics are: loss,accuracy,auc,precision,recall\n",
      "51/51 [==============================] - 0s 6ms/step - loss: 0.9887 - accuracy: 0.7156 - auc: 0.6733 - precision: 0.2987 - recall: 0.4580\n",
      "Epoch 20/30\n",
      "44/51 [========================>.....] - ETA: 0s - loss: 1.0445 - accuracy: 0.7173 - auc: 0.6827 - precision: 0.3120 - recall: 0.5020WARNING:tensorflow:Early stopping conditioned on metric `AUC` which is not available. Available metrics are: loss,accuracy,auc,precision,recall\n",
      "51/51 [==============================] - 0s 6ms/step - loss: 1.0363 - accuracy: 0.7097 - auc: 0.6793 - precision: 0.3071 - recall: 0.5175\n",
      "Epoch 21/30\n",
      "45/51 [=========================>....] - ETA: 0s - loss: 1.1013 - accuracy: 0.6840 - auc: 0.6585 - precision: 0.2777 - recall: 0.5010WARNING:tensorflow:Early stopping conditioned on metric `AUC` which is not available. Available metrics are: loss,accuracy,auc,precision,recall\n",
      "51/51 [==============================] - 0s 6ms/step - loss: 1.0864 - accuracy: 0.6876 - auc: 0.6625 - precision: 0.2806 - recall: 0.4965\n",
      "Epoch 22/30\n",
      "46/51 [==========================>...] - ETA: 0s - loss: 1.0081 - accuracy: 0.7126 - auc: 0.6894 - precision: 0.3121 - recall: 0.5028WARNING:tensorflow:Early stopping conditioned on metric `AUC` which is not available. Available metrics are: loss,accuracy,auc,precision,recall\n",
      "51/51 [==============================] - 0s 6ms/step - loss: 1.0017 - accuracy: 0.7036 - auc: 0.6850 - precision: 0.2988 - recall: 0.5087\n",
      "Epoch 23/30\n",
      "46/51 [==========================>...] - ETA: 0s - loss: 1.1136 - accuracy: 0.6926 - auc: 0.6777 - precision: 0.2920 - recall: 0.5057WARNING:tensorflow:Early stopping conditioned on metric `AUC` which is not available. Available metrics are: loss,accuracy,auc,precision,recall\n",
      "51/51 [==============================] - 0s 6ms/step - loss: 1.0927 - accuracy: 0.6943 - auc: 0.6794 - precision: 0.2886 - recall: 0.5035\n",
      "Epoch 24/30\n",
      "44/51 [========================>.....] - ETA: 0s - loss: 1.0385 - accuracy: 0.6737 - auc: 0.6990 - precision: 0.2976 - recall: 0.6270WARNING:tensorflow:Early stopping conditioned on metric `AUC` which is not available. Available metrics are: loss,accuracy,auc,precision,recall\n",
      "51/51 [==============================] - 0s 6ms/step - loss: 1.0341 - accuracy: 0.6848 - auc: 0.6990 - precision: 0.3018 - recall: 0.6031\n",
      "Epoch 25/30\n",
      "45/51 [=========================>....] - ETA: 0s - loss: 1.0053 - accuracy: 0.7014 - auc: 0.6940 - precision: 0.2974 - recall: 0.5311WARNING:tensorflow:Early stopping conditioned on metric `AUC` which is not available. Available metrics are: loss,accuracy,auc,precision,recall\n",
      "51/51 [==============================] - 0s 6ms/step - loss: 1.0011 - accuracy: 0.7073 - auc: 0.7014 - precision: 0.3069 - recall: 0.5280\n",
      "Epoch 26/30\n",
      "47/51 [==========================>...] - ETA: 0s - loss: 0.9543 - accuracy: 0.6995 - auc: 0.7107 - precision: 0.3162 - recall: 0.5796WARNING:tensorflow:Early stopping conditioned on metric `AUC` which is not available. Available metrics are: loss,accuracy,auc,precision,recall\n",
      "51/51 [==============================] - 0s 6ms/step - loss: 0.9442 - accuracy: 0.7066 - auc: 0.7138 - precision: 0.3153 - recall: 0.5699\n",
      "Epoch 27/30\n",
      "45/51 [=========================>....] - ETA: 0s - loss: 0.9918 - accuracy: 0.7056 - auc: 0.7031 - precision: 0.3126 - recall: 0.5663WARNING:tensorflow:Early stopping conditioned on metric `AUC` which is not available. Available metrics are: loss,accuracy,auc,precision,recall\n",
      "51/51 [==============================] - 0s 6ms/step - loss: 0.9934 - accuracy: 0.7039 - auc: 0.6992 - precision: 0.3104 - recall: 0.5594\n",
      "Epoch 28/30\n",
      "46/51 [==========================>...] - ETA: 0s - loss: 1.0249 - accuracy: 0.6763 - auc: 0.6915 - precision: 0.2890 - recall: 0.5753WARNING:tensorflow:Early stopping conditioned on metric `AUC` which is not available. Available metrics are: loss,accuracy,auc,precision,recall\n",
      "51/51 [==============================] - 0s 6ms/step - loss: 1.0347 - accuracy: 0.6833 - auc: 0.6956 - precision: 0.2948 - recall: 0.5752\n",
      "Epoch 29/30\n",
      "45/51 [=========================>....] - ETA: 0s - loss: 1.0169 - accuracy: 0.6965 - auc: 0.7018 - precision: 0.3061 - recall: 0.5658WARNING:tensorflow:Early stopping conditioned on metric `AUC` which is not available. Available metrics are: loss,accuracy,auc,precision,recall\n",
      "51/51 [==============================] - 0s 6ms/step - loss: 0.9987 - accuracy: 0.7048 - auc: 0.7092 - precision: 0.3109 - recall: 0.5577\n",
      "Epoch 30/30\n",
      "45/51 [=========================>....] - ETA: 0s - loss: 1.0248 - accuracy: 0.6816 - auc: 0.6994 - precision: 0.2933 - recall: 0.5996WARNING:tensorflow:Early stopping conditioned on metric `AUC` which is not available. Available metrics are: loss,accuracy,auc,precision,recall\n",
      "51/51 [==============================] - 0s 6ms/step - loss: 1.0211 - accuracy: 0.6808 - auc: 0.7044 - precision: 0.2995 - recall: 0.6084\n"
     ]
    },
    {
     "data": {
      "text/plain": [
       "<keras.callbacks.History at 0x28fa65c1330>"
      ]
     },
     "execution_count": 8,
     "metadata": {},
     "output_type": "execute_result"
    }
   ],
   "source": [
    "from tensorflow.keras.models import Sequential\n",
    "from tensorflow.keras.layers import Dense\n",
    "from tensorflow.keras.callbacks import EarlyStopping\n",
    "import numpy as np\n",
    "from sklearn.metrics import classification_report\n",
    "\n",
    "# Define the model architecture\n",
    "model = Sequential()\n",
    "model.add(Dense(64, activation='relu', input_dim=X_train.shape[1]))\n",
    "model.add(Dense(64, activation='relu'))\n",
    "model.add(Dense(32, activation='relu'))\n",
    "model.add(Dense(16, activation='relu'))\n",
    "model.add(Dense(1, activation='sigmoid'))\n",
    "\n",
    "# Compile the model\n",
    "model.compile(optimizer='adam', loss='binary_crossentropy', metrics=['accuracy', 'AUC', 'Precision', 'Recall'])\n",
    "callback = EarlyStopping(monitor='AUC', patience=3)\n",
    "# Fit the model to the training data\n",
    "model.fit(np.asarray(X_train).astype('float32'), np.asarray(y_train).astype('float32'), epochs=30, batch_size=64, class_weight={0: 1, 1: 4}, callbacks=[callback])"
   ]
  },
  {
   "cell_type": "code",
   "execution_count": 9,
   "metadata": {},
   "outputs": [
    {
     "name": "stdout",
     "output_type": "stream",
     "text": [
      "26/26 [==============================] - 0s 2ms/step\n",
      "Classification Report:\n",
      "              precision    recall  f1-score   support\n",
      "\n",
      "         0.0       0.88      0.66      0.76       674\n",
      "         1.0       0.27      0.58      0.37       142\n",
      "\n",
      "    accuracy                           0.65       816\n",
      "   macro avg       0.58      0.62      0.56       816\n",
      "weighted avg       0.78      0.65      0.69       816\n",
      "\n"
     ]
    }
   ],
   "source": [
    "# Predict on the test data\n",
    "y_pred = model.predict(np.asarray(X_test).astype('float32'))\n",
    "\n",
    "# Convert predictions to binary labels\n",
    "y_pred_binary = np.round(y_pred)\n",
    "\n",
    "# Generate classification report\n",
    "report = classification_report(np.asarray(y_test).astype('float32'), y_pred_binary)\n",
    "print(\"Classification Report:\")\n",
    "print(report)"
   ]
  },
  {
   "cell_type": "code",
   "execution_count": 10,
   "metadata": {},
   "outputs": [
    {
     "data": {
      "text/plain": [
       "<Axes: >"
      ]
     },
     "execution_count": 10,
     "metadata": {},
     "output_type": "execute_result"
    },
    {
     "data": {
      "image/png": "[encoded data removed]",
      "text/plain": [
       "<Figure size 640x480 with 2 Axes>"
      ]
     },
     "metadata": {},
     "output_type": "display_data"
    }
   ],
   "source": [
    "sns.heatmap(confusion_matrix(y_test,y_pred_binary),annot = True,fmt='d')"
   ]
  },
  {
   "cell_type": "code",
   "execution_count": 11,
   "metadata": {},
   "outputs": [],
   "source": [
    "model.save('./models/nn.h5')"
   ]
  },
  {
   "cell_type": "code",
   "execution_count": 12,
   "metadata": {},
   "outputs": [
    {
     "name": "stdout",
     "output_type": "stream",
     "text": [
      "Best: 0.346897 using {'criterion': 'gini', 'max_depth': 20, 'splitter': 'random'}\n",
      "0.307001 (0.062416) with: {'criterion': 'gini', 'max_depth': None, 'splitter': 'best'}\n",
      "0.336307 (0.063880) with: {'criterion': 'gini', 'max_depth': None, 'splitter': 'random'}\n",
      "0.285055 (0.064440) with: {'criterion': 'gini', 'max_depth': 10, 'splitter': 'best'}\n",
      "0.250398 (0.065235) with: {'criterion': 'gini', 'max_depth': 10, 'splitter': 'random'}\n",
      "0.308872 (0.060398) with: {'criterion': 'gini', 'max_depth': 20, 'splitter': 'best'}\n",
      "0.346897 (0.054735) with: {'criterion': 'gini', 'max_depth': 20, 'splitter': 'random'}\n",
      "0.313827 (0.071015) with: {'criterion': 'gini', 'max_depth': 30, 'splitter': 'best'}\n",
      "0.342552 (0.043514) with: {'criterion': 'gini', 'max_depth': 30, 'splitter': 'random'}\n",
      "0.322539 (0.046924) with: {'criterion': 'entropy', 'max_depth': None, 'splitter': 'best'}\n",
      "0.329811 (0.048543) with: {'criterion': 'entropy', 'max_depth': None, 'splitter': 'random'}\n",
      "0.267545 (0.056750) with: {'criterion': 'entropy', 'max_depth': 10, 'splitter': 'best'}\n",
      "0.239953 (0.046561) with: {'criterion': 'entropy', 'max_depth': 10, 'splitter': 'random'}\n",
      "0.315272 (0.052313) with: {'criterion': 'entropy', 'max_depth': 20, 'splitter': 'best'}\n",
      "0.328845 (0.049239) with: {'criterion': 'entropy', 'max_depth': 20, 'splitter': 'random'}\n",
      "0.321460 (0.057018) with: {'criterion': 'entropy', 'max_depth': 30, 'splitter': 'best'}\n",
      "0.323259 (0.054829) with: {'criterion': 'entropy', 'max_depth': 30, 'splitter': 'random'}\n"
     ]
    }
   ],
   "source": [
    "from sklearn.tree import DecisionTreeClassifier\n",
    "\n",
    "param_grid = {\n",
    "    'criterion': ('gini', 'entropy'),\n",
    "    'splitter': ('best', 'random'),\n",
    "    'max_depth': (None, 10, 20, 30)\n",
    "}\n",
    "cv = RepeatedStratifiedKFold(n_splits=10, n_repeats=3, random_state=1)\n",
    "model = DecisionTreeClassifier()\n",
    "grid = GridSearchCV(estimator=model, param_grid=param_grid, n_jobs=-1, cv=cv, scoring='f1')\n",
    "\n",
    "grid_result = grid.fit(X_train, y_train)\n",
    "\n",
    "print(\"Best: %f using %s\" % (grid_result.best_score_ , grid_result.best_params_))\n",
    "# report all configurations\n",
    "means = grid_result.cv_results_['mean_test_score']\n",
    "stds = grid_result.cv_results_['std_test_score']\n",
    "params = grid_result.cv_results_['params']\n",
    "for mean, stdev, param in zip(means, stds, params):\n",
    "    print(\"%f (%f) with: %r\" % (mean, stdev, param))"
   ]
  },
  {
   "cell_type": "code",
   "execution_count": 15,
   "metadata": {},
   "outputs": [
    {
     "name": "stdout",
     "output_type": "stream",
     "text": [
      "Classification Report:\n",
      "              precision    recall  f1-score   support\n",
      "\n",
      "           0       0.85      0.86      0.85       674\n",
      "           1       0.30      0.29      0.29       142\n",
      "\n",
      "    accuracy                           0.76       816\n",
      "   macro avg       0.57      0.57      0.57       816\n",
      "weighted avg       0.75      0.76      0.76       816\n",
      "\n",
      "Confusion Matrix:\n"
     ]
    },
    {
     "data": {
      "text/plain": [
       "<Axes: >"
      ]
     },
     "execution_count": 15,
     "metadata": {},
     "output_type": "execute_result"
    },
    {
     "data": {
      "image/png": "[encoded data removed]",
      "text/plain": [
       "<Figure size 640x480 with 2 Axes>"
      ]
     },
     "metadata": {},
     "output_type": "display_data"
    }
   ],
   "source": [
    "model = DecisionTreeClassifier(criterion='gini', max_depth=20, splitter='random')\n",
    "model.fit(X_train, y_train)\n",
    "y_pred = model.predict(X_test)\n",
    "\n",
    "print(\"Classification Report:\")\n",
    "print(classification_report(y_test, y_pred))\n",
    "\n",
    "print(\"Confusion Matrix:\")\n",
    "sns.heatmap(confusion_matrix(y_test,y_pred),annot = True,fmt='d')"
   ]
  },
  {
   "cell_type": "code",
   "execution_count": 16,
   "metadata": {},
   "outputs": [],
   "source": [
    "pickle.dump(model, open('./models/dt.pkl', 'wb'))"
   ]
  }
 ],
 "metadata": {
  "kernelspec": {
   "display_name": "opencv",
   "language": "python",
   "name": "python3"
  },
  "language_info": {
   "codemirror_mode": {
    "name": "ipython",
    "version": 3
   },
   "file_extension": ".py",
   "mimetype": "text/x-python",
   "name": "python",
   "nbconvert_exporter": "python",
   "pygments_lexer": "ipython3",
   "version": "3.10.13"
  }
 },
 "nbformat": 4,
 "nbformat_minor": 2
}
