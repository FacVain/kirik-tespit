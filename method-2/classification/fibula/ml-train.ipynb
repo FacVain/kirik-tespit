{
 "cells": [
  {
   "cell_type": "code",
   "execution_count": 1,
   "metadata": {},
   "outputs": [
    {
     "name": "stderr",
     "output_type": "stream",
     "text": [
      "C:\\Users\\assas\\AppData\\Local\\Temp\\ipykernel_14452\\2319727694.py:1: DeprecationWarning: \n",
      "Pyarrow will become a required dependency of pandas in the next major release of pandas (pandas 3.0),\n",
      "(to allow more performant data types, such as the Arrow string type, and better interoperability with other libraries)\n",
      "but was not found to be installed on your system.\n",
      "If this would cause problems for you,\n",
      "please provide us feedback at https://github.com/pandas-dev/pandas/issues/54466\n",
      "        \n",
      "  import pandas as pd\n"
     ]
    }
   ],
   "source": [
    "import pandas as pd\n",
    "from sklearn import svm\n",
    "import pickle"
   ]
  },
  {
   "cell_type": "code",
   "execution_count": 2,
   "metadata": {},
   "outputs": [],
   "source": [
    "train = pd.read_csv('train.csv')\n",
    "valid = pd.read_csv('valid.csv')"
   ]
  },
  {
   "cell_type": "code",
   "execution_count": 10,
   "metadata": {},
   "outputs": [],
   "source": [
    "train.drop(train[(train['mean_slope'] == \"--\") | (train['std_slope'] == \"--\")].index, inplace=True)\n",
    "valid.drop(valid[(valid['mean_slope'] == \"--\") | (valid['std_slope'] == \"--\")].index, inplace=True)\n",
    "\n"
   ]
  },
  {
   "cell_type": "code",
   "execution_count": 11,
   "metadata": {},
   "outputs": [],
   "source": [
    "X_train = train.drop(columns=['image_file', 'label'])\n",
    "y_train = train['label']\n",
    "\n",
    "X_valid = valid.drop(columns=['image_file', 'label'])\n",
    "y_valid = valid['label']"
   ]
  },
  {
   "cell_type": "code",
   "execution_count": 12,
   "metadata": {},
   "outputs": [
    {
     "name": "stdout",
     "output_type": "stream",
     "text": [
      "Best: 0.984699 using {'C': 3, 'class_weight': {0: 1, 1: 2}, 'degree': 2, 'kernel': 'rbf'}\n",
      "0.981048 (0.007811) with: {'C': 2, 'class_weight': {0: 1, 1: 2}, 'degree': 2, 'kernel': 'rbf'}\n",
      "0.955312 (0.003066) with: {'C': 2, 'class_weight': {0: 1, 1: 2}, 'degree': 2, 'kernel': 'sigmoid'}\n",
      "0.981048 (0.007811) with: {'C': 2, 'class_weight': {0: 1, 1: 2}, 'degree': 3, 'kernel': 'rbf'}\n",
      "0.955312 (0.003066) with: {'C': 2, 'class_weight': {0: 1, 1: 2}, 'degree': 3, 'kernel': 'sigmoid'}\n",
      "0.980134 (0.007527) with: {'C': 2, 'class_weight': {0: 1, 1: 4}, 'degree': 2, 'kernel': 'rbf'}\n",
      "0.953869 (0.002524) with: {'C': 2, 'class_weight': {0: 1, 1: 4}, 'degree': 2, 'kernel': 'sigmoid'}\n",
      "0.980134 (0.007527) with: {'C': 2, 'class_weight': {0: 1, 1: 4}, 'degree': 3, 'kernel': 'rbf'}\n",
      "0.953869 (0.002524) with: {'C': 2, 'class_weight': {0: 1, 1: 4}, 'degree': 3, 'kernel': 'sigmoid'}\n",
      "0.980134 (0.007527) with: {'C': 2, 'class_weight': {0: 1, 1: 5}, 'degree': 2, 'kernel': 'rbf'}\n",
      "0.953869 (0.002524) with: {'C': 2, 'class_weight': {0: 1, 1: 5}, 'degree': 2, 'kernel': 'sigmoid'}\n",
      "0.980134 (0.007527) with: {'C': 2, 'class_weight': {0: 1, 1: 5}, 'degree': 3, 'kernel': 'rbf'}\n",
      "0.953869 (0.002524) with: {'C': 2, 'class_weight': {0: 1, 1: 5}, 'degree': 3, 'kernel': 'sigmoid'}\n",
      "0.984699 (0.007490) with: {'C': 3, 'class_weight': {0: 1, 1: 2}, 'degree': 2, 'kernel': 'rbf'}\n",
      "0.956147 (0.004028) with: {'C': 3, 'class_weight': {0: 1, 1: 2}, 'degree': 2, 'kernel': 'sigmoid'}\n",
      "0.984699 (0.007490) with: {'C': 3, 'class_weight': {0: 1, 1: 2}, 'degree': 3, 'kernel': 'rbf'}\n",
      "0.956147 (0.004028) with: {'C': 3, 'class_weight': {0: 1, 1: 2}, 'degree': 3, 'kernel': 'sigmoid'}\n",
      "0.983648 (0.008556) with: {'C': 3, 'class_weight': {0: 1, 1: 4}, 'degree': 2, 'kernel': 'rbf'}\n",
      "0.956177 (0.003211) with: {'C': 3, 'class_weight': {0: 1, 1: 4}, 'degree': 2, 'kernel': 'sigmoid'}\n",
      "0.983648 (0.008556) with: {'C': 3, 'class_weight': {0: 1, 1: 4}, 'degree': 3, 'kernel': 'rbf'}\n",
      "0.956177 (0.003211) with: {'C': 3, 'class_weight': {0: 1, 1: 4}, 'degree': 3, 'kernel': 'sigmoid'}\n",
      "0.983338 (0.008292) with: {'C': 3, 'class_weight': {0: 1, 1: 5}, 'degree': 2, 'kernel': 'rbf'}\n",
      "0.956177 (0.003211) with: {'C': 3, 'class_weight': {0: 1, 1: 5}, 'degree': 2, 'kernel': 'sigmoid'}\n",
      "0.983338 (0.008292) with: {'C': 3, 'class_weight': {0: 1, 1: 5}, 'degree': 3, 'kernel': 'rbf'}\n",
      "0.956177 (0.003211) with: {'C': 3, 'class_weight': {0: 1, 1: 5}, 'degree': 3, 'kernel': 'sigmoid'}\n"
     ]
    }
   ],
   "source": [
    "from numpy import mean\n",
    "from sklearn.metrics import classification_report, confusion_matrix\n",
    "from sklearn.model_selection import GridSearchCV, RepeatedStratifiedKFold, cross_val_score\n",
    "\n",
    "\n",
    "\n",
    "model = svm.SVC(gamma='scale')\n",
    "\n",
    "param_grid = {\n",
    "    'class_weight': ({0:1, 1:2}, {0:1,1:4}, {0:1,1:5}),\n",
    "    'kernel': ('rbf', 'sigmoid'),\n",
    "    'C': (2, 3),\n",
    "    'degree': (2, 3)\n",
    "}\n",
    "cv = RepeatedStratifiedKFold(n_splits=10, n_repeats=3, random_state=1)\n",
    "grid = GridSearchCV(estimator=model, param_grid=param_grid, n_jobs=-1, cv=cv, scoring='f1')\n",
    "\n",
    "grid_result = grid.fit(X_train, y_train)\n",
    "\n",
    "# report the best configuration\n",
    "print(\"Best: %f using %s\" % (grid_result.best_score_, grid_result.best_params_))\n",
    "# report all configurations\n",
    "means = grid_result.cv_results_['mean_test_score']\n",
    "stds = grid_result.cv_results_['std_test_score']\n",
    "params = grid_result.cv_results_['params']\n",
    "for mean, stdev, param in zip(means, stds, params):\n",
    "    print(\"%f (%f) with: %r\" % (mean, stdev, param))"
   ]
  },
  {
   "cell_type": "code",
   "execution_count": 18,
   "metadata": {},
   "outputs": [
    {
     "name": "stdout",
     "output_type": "stream",
     "text": [
      "Classification Report:\n",
      "              precision    recall  f1-score   support\n",
      "\n",
      "           0       1.00      0.64      0.78        11\n",
      "           1       0.97      1.00      0.98       120\n",
      "\n",
      "    accuracy                           0.97       131\n",
      "   macro avg       0.98      0.82      0.88       131\n",
      "weighted avg       0.97      0.97      0.97       131\n",
      "\n",
      "Confusion Matrix:\n"
     ]
    },
    {
     "data": {
      "text/plain": [
       "<Axes: >"
      ]
     },
     "execution_count": 18,
     "metadata": {},
     "output_type": "execute_result"
    },
    {
     "data": {
      "image/png": "[encoded data removed]",
      "text/plain": [
       "<Figure size 640x480 with 2 Axes>"
      ]
     },
     "metadata": {},
     "output_type": "display_data"
    }
   ],
   "source": [
    "from sklearn.metrics import classification_report, confusion_matrix\n",
    "import seaborn as sns\n",
    "weigths = grid_result.best_params_['class_weight']\n",
    "model = svm.SVC(gamma='scale', class_weight=weigths)\n",
    "model.fit(X_train, y_train)\n",
    "y_pred = model.predict(X_valid)\n",
    "\n",
    "print(\"Classification Report:\")\n",
    "print(classification_report(y_valid, y_pred))\n",
    "print(\"Confusion Matrix:\")\n",
    "sns.heatmap(confusion_matrix(y_valid,y_pred),annot = True,fmt='d')\n"
   ]
  },
  {
   "cell_type": "code",
   "execution_count": 15,
   "metadata": {},
   "outputs": [],
   "source": [
    "s = pickle.dump(model, open('./models/svc.pkl', 'wb'))"
   ]
  },
  {
   "cell_type": "code",
   "execution_count": 20,
   "metadata": {},
   "outputs": [
    {
     "name": "stdout",
     "output_type": "stream",
     "text": [
      "Epoch 1/30\n",
      "19/19 [==============================] - ETA: 0s - loss: 1.2751 - accuracy: 0.8725 - auc: 0.6024 - precision: 0.9301 - recall: 0.9301WARNING:tensorflow:Early stopping conditioned on metric `AUC` which is not available. Available metrics are: loss,accuracy,auc,precision,recall\n",
      "19/19 [==============================] - 1s 9ms/step - loss: 1.2751 - accuracy: 0.8725 - auc: 0.6024 - precision: 0.9301 - recall: 0.9301\n",
      "Epoch 2/30\n",
      "14/19 [=====================>........] - ETA: 0s - loss: 0.5352 - accuracy: 0.9163 - auc: 0.8655 - precision: 0.9581 - recall: 0.9499WARNING:tensorflow:Early stopping conditioned on metric `AUC` which is not available. Available metrics are: loss,accuracy,auc,precision,recall\n",
      "19/19 [==============================] - 0s 9ms/step - loss: 0.4839 - accuracy: 0.9165 - auc: 0.8672 - precision: 0.9478 - recall: 0.9612\n",
      "Epoch 3/30\n",
      "14/19 [=====================>........] - ETA: 0s - loss: 0.2095 - accuracy: 0.9643 - auc: 0.9376 - precision: 0.9623 - recall: 1.0000WARNING:tensorflow:Early stopping conditioned on metric `AUC` which is not available. Available metrics are: loss,accuracy,auc,precision,recall\n",
      "19/19 [==============================] - 0s 8ms/step - loss: 0.1911 - accuracy: 0.9638 - auc: 0.9497 - precision: 0.9618 - recall: 1.0000\n",
      "Epoch 4/30\n",
      "15/19 [======================>.......] - ETA: 0s - loss: 0.0859 - accuracy: 0.9823 - auc: 0.9885 - precision: 0.9810 - recall: 1.0000WARNING:tensorflow:Early stopping conditioned on metric `AUC` which is not available. Available metrics are: loss,accuracy,auc,precision,recall\n",
      "19/19 [==============================] - 0s 8ms/step - loss: 0.0884 - accuracy: 0.9811 - auc: 0.9847 - precision: 0.9796 - recall: 1.0000\n",
      "Epoch 5/30\n",
      "15/19 [======================>.......] - ETA: 0s - loss: 0.0533 - accuracy: 0.9937 - auc: 0.9982 - precision: 0.9932 - recall: 1.0000WARNING:tensorflow:Early stopping conditioned on metric `AUC` which is not available. Available metrics are: loss,accuracy,auc,precision,recall\n",
      "19/19 [==============================] - 0s 8ms/step - loss: 0.0533 - accuracy: 0.9931 - auc: 0.9981 - precision: 0.9925 - recall: 1.0000\n",
      "Epoch 6/30\n",
      "15/19 [======================>.......] - ETA: 0s - loss: 0.0343 - accuracy: 0.9937 - auc: 0.9998 - precision: 0.9932 - recall: 1.0000WARNING:tensorflow:Early stopping conditioned on metric `AUC` which is not available. Available metrics are: loss,accuracy,auc,precision,recall\n",
      "19/19 [==============================] - 0s 8ms/step - loss: 0.0306 - accuracy: 0.9948 - auc: 0.9999 - precision: 0.9944 - recall: 1.0000\n",
      "Epoch 7/30\n",
      "15/19 [======================>.......] - ETA: 0s - loss: 0.0258 - accuracy: 0.9948 - auc: 1.0000 - precision: 0.9944 - recall: 1.0000WARNING:tensorflow:Early stopping conditioned on metric `AUC` which is not available. Available metrics are: loss,accuracy,auc,precision,recall\n",
      "19/19 [==============================] - 0s 8ms/step - loss: 0.0238 - accuracy: 0.9948 - auc: 1.0000 - precision: 0.9944 - recall: 1.0000\n",
      "Epoch 8/30\n",
      "14/19 [=====================>........] - ETA: 0s - loss: 0.0184 - accuracy: 0.9933 - auc: 1.0000 - precision: 0.9927 - recall: 1.0000WARNING:tensorflow:Early stopping conditioned on metric `AUC` which is not available. Available metrics are: loss,accuracy,auc,precision,recall\n",
      "19/19 [==============================] - 0s 8ms/step - loss: 0.0194 - accuracy: 0.9940 - auc: 1.0000 - precision: 0.9934 - recall: 1.0000\n",
      "Epoch 9/30\n",
      "15/19 [======================>.......] - ETA: 0s - loss: 0.0123 - accuracy: 0.9969 - auc: 1.0000 - precision: 0.9966 - recall: 1.0000WARNING:tensorflow:Early stopping conditioned on metric `AUC` which is not available. Available metrics are: loss,accuracy,auc,precision,recall\n",
      "19/19 [==============================] - 0s 8ms/step - loss: 0.0122 - accuracy: 0.9966 - auc: 1.0000 - precision: 0.9962 - recall: 1.0000\n",
      "Epoch 10/30\n",
      "15/19 [======================>.......] - ETA: 0s - loss: 0.0096 - accuracy: 0.9958 - auc: 1.0000 - precision: 0.9954 - recall: 1.0000WARNING:tensorflow:Early stopping conditioned on metric `AUC` which is not available. Available metrics are: loss,accuracy,auc,precision,recall\n",
      "19/19 [==============================] - 0s 8ms/step - loss: 0.0090 - accuracy: 0.9966 - auc: 1.0000 - precision: 0.9962 - recall: 1.0000\n",
      "Epoch 11/30\n",
      "14/19 [=====================>........] - ETA: 0s - loss: 0.0074 - accuracy: 0.9967 - auc: 1.0000 - precision: 0.9964 - recall: 1.0000WARNING:tensorflow:Early stopping conditioned on metric `AUC` which is not available. Available metrics are: loss,accuracy,auc,precision,recall\n",
      "19/19 [==============================] - 0s 8ms/step - loss: 0.0074 - accuracy: 0.9966 - auc: 1.0000 - precision: 0.9962 - recall: 1.0000\n",
      "Epoch 12/30\n",
      "16/19 [========================>.....] - ETA: 0s - loss: 0.0063 - accuracy: 0.9961 - auc: 1.0000 - precision: 0.9957 - recall: 1.0000WARNING:tensorflow:Early stopping conditioned on metric `AUC` which is not available. Available metrics are: loss,accuracy,auc,precision,recall\n",
      "19/19 [==============================] - 0s 7ms/step - loss: 0.0059 - accuracy: 0.9966 - auc: 1.0000 - precision: 0.9962 - recall: 1.0000\n",
      "Epoch 13/30\n",
      "15/19 [======================>.......] - ETA: 0s - loss: 0.0052 - accuracy: 0.9990 - auc: 1.0000 - precision: 0.9989 - recall: 1.0000WARNING:tensorflow:Early stopping conditioned on metric `AUC` which is not available. Available metrics are: loss,accuracy,auc,precision,recall\n",
      "19/19 [==============================] - 0s 8ms/step - loss: 0.0045 - accuracy: 0.9991 - auc: 1.0000 - precision: 0.9991 - recall: 1.0000\n",
      "Epoch 14/30\n",
      "14/19 [=====================>........] - ETA: 0s - loss: 0.0033 - accuracy: 1.0000 - auc: 1.0000 - precision: 1.0000 - recall: 1.0000   WARNING:tensorflow:Early stopping conditioned on metric `AUC` which is not available. Available metrics are: loss,accuracy,auc,precision,recall\n",
      "19/19 [==============================] - 0s 8ms/step - loss: 0.0033 - accuracy: 1.0000 - auc: 1.0000 - precision: 1.0000 - recall: 1.0000\n",
      "Epoch 15/30\n",
      "14/19 [=====================>........] - ETA: 0s - loss: 0.0034 - accuracy: 1.0000 - auc: 1.0000 - precision: 1.0000 - recall: 1.0000WARNING:tensorflow:Early stopping conditioned on metric `AUC` which is not available. Available metrics are: loss,accuracy,auc,precision,recall\n",
      "19/19 [==============================] - 0s 8ms/step - loss: 0.0033 - accuracy: 1.0000 - auc: 1.0000 - precision: 1.0000 - recall: 1.0000\n",
      "Epoch 16/30\n",
      "15/19 [======================>.......] - ETA: 0s - loss: 0.0027 - accuracy: 1.0000 - auc: 1.0000 - precision: 1.0000 - recall: 1.0000WARNING:tensorflow:Early stopping conditioned on metric `AUC` which is not available. Available metrics are: loss,accuracy,auc,precision,recall\n",
      "19/19 [==============================] - 0s 8ms/step - loss: 0.0025 - accuracy: 1.0000 - auc: 1.0000 - precision: 1.0000 - recall: 1.0000\n",
      "Epoch 17/30\n",
      "16/19 [========================>.....] - ETA: 0s - loss: 0.0024 - accuracy: 1.0000 - auc: 1.0000 - precision: 1.0000 - recall: 1.0000   WARNING:tensorflow:Early stopping conditioned on metric `AUC` which is not available. Available metrics are: loss,accuracy,auc,precision,recall\n",
      "19/19 [==============================] - 0s 8ms/step - loss: 0.0022 - accuracy: 1.0000 - auc: 1.0000 - precision: 1.0000 - recall: 1.0000\n",
      "Epoch 18/30\n",
      "15/19 [======================>.......] - ETA: 0s - loss: 0.0025 - accuracy: 1.0000 - auc: 1.0000 - precision: 1.0000 - recall: 1.0000WARNING:tensorflow:Early stopping conditioned on metric `AUC` which is not available. Available metrics are: loss,accuracy,auc,precision,recall\n",
      "19/19 [==============================] - 0s 8ms/step - loss: 0.0023 - accuracy: 1.0000 - auc: 1.0000 - precision: 1.0000 - recall: 1.0000\n",
      "Epoch 19/30\n",
      "15/19 [======================>.......] - ETA: 0s - loss: 0.0017 - accuracy: 1.0000 - auc: 1.0000 - precision: 1.0000 - recall: 1.0000WARNING:tensorflow:Early stopping conditioned on metric `AUC` which is not available. Available metrics are: loss,accuracy,auc,precision,recall\n",
      "19/19 [==============================] - 0s 8ms/step - loss: 0.0017 - accuracy: 1.0000 - auc: 1.0000 - precision: 1.0000 - recall: 1.0000\n",
      "Epoch 20/30\n",
      "15/19 [======================>.......] - ETA: 0s - loss: 0.0014 - accuracy: 1.0000 - auc: 1.0000 - precision: 1.0000 - recall: 1.0000    WARNING:tensorflow:Early stopping conditioned on metric `AUC` which is not available. Available metrics are: loss,accuracy,auc,precision,recall\n",
      "19/19 [==============================] - 0s 8ms/step - loss: 0.0015 - accuracy: 1.0000 - auc: 1.0000 - precision: 1.0000 - recall: 1.0000\n",
      "Epoch 21/30\n",
      "14/19 [=====================>........] - ETA: 0s - loss: 0.0016 - accuracy: 1.0000 - auc: 1.0000 - precision: 1.0000 - recall: 1.0000   WARNING:tensorflow:Early stopping conditioned on metric `AUC` which is not available. Available metrics are: loss,accuracy,auc,precision,recall\n",
      "19/19 [==============================] - 0s 8ms/step - loss: 0.0013 - accuracy: 1.0000 - auc: 1.0000 - precision: 1.0000 - recall: 1.0000\n",
      "Epoch 22/30\n",
      "14/19 [=====================>........] - ETA: 0s - loss: 0.0015 - accuracy: 1.0000 - auc: 1.0000 - precision: 1.0000 - recall: 1.0000   WARNING:tensorflow:Early stopping conditioned on metric `AUC` which is not available. Available metrics are: loss,accuracy,auc,precision,recall\n",
      "19/19 [==============================] - 0s 8ms/step - loss: 0.0013 - accuracy: 1.0000 - auc: 1.0000 - precision: 1.0000 - recall: 1.0000\n",
      "Epoch 23/30\n",
      "15/19 [======================>.......] - ETA: 0s - loss: 0.0011 - accuracy: 1.0000 - auc: 1.0000 - precision: 1.0000 - recall: 1.0000   WARNING:tensorflow:Early stopping conditioned on metric `AUC` which is not available. Available metrics are: loss,accuracy,auc,precision,recall\n",
      "19/19 [==============================] - 0s 8ms/step - loss: 0.0011 - accuracy: 1.0000 - auc: 1.0000 - precision: 1.0000 - recall: 1.0000\n",
      "Epoch 24/30\n",
      "14/19 [=====================>........] - ETA: 0s - loss: 8.5330e-04 - accuracy: 1.0000 - auc: 1.0000 - precision: 1.0000 - recall: 1.0000WARNING:tensorflow:Early stopping conditioned on metric `AUC` which is not available. Available metrics are: loss,accuracy,auc,precision,recall\n",
      "19/19 [==============================] - 0s 9ms/step - loss: 8.8167e-04 - accuracy: 1.0000 - auc: 1.0000 - precision: 1.0000 - recall: 1.0000\n",
      "Epoch 25/30\n",
      "15/19 [======================>.......] - ETA: 0s - loss: 7.8171e-04 - accuracy: 1.0000 - auc: 1.0000 - precision: 1.0000 - recall: 1.0000WARNING:tensorflow:Early stopping conditioned on metric `AUC` which is not available. Available metrics are: loss,accuracy,auc,precision,recall\n",
      "19/19 [==============================] - 0s 8ms/step - loss: 8.7877e-04 - accuracy: 1.0000 - auc: 1.0000 - precision: 1.0000 - recall: 1.0000\n",
      "Epoch 26/30\n",
      "14/19 [=====================>........] - ETA: 0s - loss: 8.8460e-04 - accuracy: 1.0000 - auc: 1.0000 - precision: 1.0000 - recall: 1.0000WARNING:tensorflow:Early stopping conditioned on metric `AUC` which is not available. Available metrics are: loss,accuracy,auc,precision,recall\n",
      "19/19 [==============================] - 0s 8ms/step - loss: 7.6758e-04 - accuracy: 1.0000 - auc: 1.0000 - precision: 1.0000 - recall: 1.0000\n",
      "Epoch 27/30\n",
      "19/19 [==============================] - ETA: 0s - loss: 5.3418e-04 - accuracy: 1.0000 - auc: 1.0000 - precision: 1.0000 - recall: 1.0000WARNING:tensorflow:Early stopping conditioned on metric `AUC` which is not available. Available metrics are: loss,accuracy,auc,precision,recall\n",
      "19/19 [==============================] - 0s 10ms/step - loss: 5.3418e-04 - accuracy: 1.0000 - auc: 1.0000 - precision: 1.0000 - recall: 1.0000\n",
      "Epoch 28/30\n",
      "18/19 [===========================>..] - ETA: 0s - loss: 3.5364e-04 - accuracy: 1.0000 - auc: 1.0000 - precision: 1.0000 - recall: 1.0000WARNING:tensorflow:Early stopping conditioned on metric `AUC` which is not available. Available metrics are: loss,accuracy,auc,precision,recall\n",
      "19/19 [==============================] - 0s 10ms/step - loss: 3.5090e-04 - accuracy: 1.0000 - auc: 1.0000 - precision: 1.0000 - recall: 1.0000\n",
      "Epoch 29/30\n",
      "13/19 [===================>..........] - ETA: 0s - loss: 2.6564e-04 - accuracy: 1.0000 - auc: 1.0000 - precision: 1.0000 - recall: 1.0000WARNING:tensorflow:Early stopping conditioned on metric `AUC` which is not available. Available metrics are: loss,accuracy,auc,precision,recall\n",
      "19/19 [==============================] - 0s 8ms/step - loss: 2.4645e-04 - accuracy: 1.0000 - auc: 1.0000 - precision: 1.0000 - recall: 1.0000\n",
      "Epoch 30/30\n",
      "17/19 [=========================>....] - ETA: 0s - loss: 1.5683e-04 - accuracy: 1.0000 - auc: 1.0000 - precision: 1.0000 - recall: 1.0000WARNING:tensorflow:Early stopping conditioned on metric `AUC` which is not available. Available metrics are: loss,accuracy,auc,precision,recall\n",
      "19/19 [==============================] - 0s 7ms/step - loss: 1.6027e-04 - accuracy: 1.0000 - auc: 1.0000 - precision: 1.0000 - recall: 1.0000\n"
     ]
    },
    {
     "data": {
      "text/plain": [
       "<keras.callbacks.History at 0x143993ff880>"
      ]
     },
     "execution_count": 20,
     "metadata": {},
     "output_type": "execute_result"
    }
   ],
   "source": [
    "from tensorflow.keras.models import Sequential\n",
    "from tensorflow.keras.layers import Dense\n",
    "from tensorflow.keras.callbacks import EarlyStopping\n",
    "import numpy as np\n",
    "from sklearn.metrics import classification_report\n",
    "\n",
    "# Define the model architecture\n",
    "model = Sequential()\n",
    "model.add(Dense(64, activation='relu', input_dim=X_train.shape[1]))\n",
    "model.add(Dense(64, activation='relu'))\n",
    "model.add(Dense(32, activation='relu'))\n",
    "model.add(Dense(16, activation='relu'))\n",
    "model.add(Dense(1, activation='sigmoid'))\n",
    "\n",
    "# Compile the model\n",
    "model.compile(optimizer='adam', loss='binary_crossentropy', metrics=['accuracy', 'AUC', 'Precision', 'Recall'])\n",
    "callback = EarlyStopping(monitor='AUC', patience=3)\n",
    "# Fit the model to the training data\n",
    "model.fit(np.asarray(X_train).astype('float32'), np.asarray(y_train).astype('float32'), epochs=30, batch_size=64, class_weight={0: 1, 1: 4}, callbacks=[callback])"
   ]
  },
  {
   "cell_type": "code",
   "execution_count": 29,
   "metadata": {},
   "outputs": [
    {
     "name": "stdout",
     "output_type": "stream",
     "text": [
      "5/5 [==============================] - 0s 2ms/step\n",
      "Classification Report:\n",
      "              precision    recall  f1-score   support\n",
      "\n",
      "         0.0       1.00      1.00      1.00        11\n",
      "         1.0       1.00      1.00      1.00       120\n",
      "\n",
      "    accuracy                           1.00       131\n",
      "   macro avg       1.00      1.00      1.00       131\n",
      "weighted avg       1.00      1.00      1.00       131\n",
      "\n"
     ]
    }
   ],
   "source": [
    "# Predict on the test data\n",
    "y_pred = model.predict(np.asarray(X_valid).astype('float32'))\n",
    "\n",
    "# Convert predictions to binary labels\n",
    "y_pred_binary = np.round(y_pred)\n",
    "\n",
    "# Generate classification report\n",
    "report = classification_report(np.asarray(y_valid).astype('float32'), y_pred_binary)\n",
    "print(\"Classification Report:\")\n",
    "print(report)"
   ]
  },
  {
   "cell_type": "code",
   "execution_count": 31,
   "metadata": {},
   "outputs": [
    {
     "data": {
      "text/plain": [
       "<Axes: >"
      ]
     },
     "execution_count": 31,
     "metadata": {},
     "output_type": "execute_result"
    },
    {
     "data": {
      "image/png": "[encoded data removed]",
      "text/plain": [
       "<Figure size 640x480 with 2 Axes>"
      ]
     },
     "metadata": {},
     "output_type": "display_data"
    }
   ],
   "source": [
    "sns.heatmap(confusion_matrix(y_valid,y_pred_binary),annot = True,fmt='d')"
   ]
  },
  {
   "cell_type": "code",
   "execution_count": 32,
   "metadata": {},
   "outputs": [],
   "source": [
    "model.save('./models/nn.h5')"
   ]
  },
  {
   "cell_type": "code",
   "execution_count": 33,
   "metadata": {},
   "outputs": [
    {
     "name": "stdout",
     "output_type": "stream",
     "text": [
      "Best: 1.000000 using {'criterion': 'gini', 'max_depth': 20, 'splitter': 'random'}\n",
      "0.999684 (0.001182) with: {'criterion': 'gini', 'max_depth': None, 'splitter': 'best'}\n",
      "0.999365 (0.001619) with: {'criterion': 'gini', 'max_depth': None, 'splitter': 'random'}\n",
      "0.999684 (0.001182) with: {'criterion': 'gini', 'max_depth': 10, 'splitter': 'best'}\n",
      "0.999525 (0.001426) with: {'criterion': 'gini', 'max_depth': 10, 'splitter': 'random'}\n",
      "0.999684 (0.001182) with: {'criterion': 'gini', 'max_depth': 20, 'splitter': 'best'}\n",
      "1.000000 (0.000000) with: {'criterion': 'gini', 'max_depth': 20, 'splitter': 'random'}\n",
      "0.999684 (0.001182) with: {'criterion': 'gini', 'max_depth': 30, 'splitter': 'best'}\n",
      "0.999842 (0.000851) with: {'criterion': 'gini', 'max_depth': 30, 'splitter': 'random'}\n",
      "0.999684 (0.001182) with: {'criterion': 'entropy', 'max_depth': None, 'splitter': 'best'}\n",
      "0.999683 (0.001188) with: {'criterion': 'entropy', 'max_depth': None, 'splitter': 'random'}\n",
      "0.999526 (0.001422) with: {'criterion': 'entropy', 'max_depth': 10, 'splitter': 'best'}\n",
      "0.999525 (0.001426) with: {'criterion': 'entropy', 'max_depth': 10, 'splitter': 'random'}\n",
      "0.999842 (0.000851) with: {'criterion': 'entropy', 'max_depth': 20, 'splitter': 'best'}\n",
      "0.999842 (0.000851) with: {'criterion': 'entropy', 'max_depth': 20, 'splitter': 'random'}\n",
      "0.999526 (0.001422) with: {'criterion': 'entropy', 'max_depth': 30, 'splitter': 'best'}\n",
      "0.999528 (0.001417) with: {'criterion': 'entropy', 'max_depth': 30, 'splitter': 'random'}\n"
     ]
    }
   ],
   "source": [
    "from sklearn.tree import DecisionTreeClassifier\n",
    "\n",
    "param_grid = {\n",
    "    'criterion': ('gini', 'entropy'),\n",
    "    'splitter': ('best', 'random'),\n",
    "    'max_depth': (None, 10, 20, 30)\n",
    "}\n",
    "cv = RepeatedStratifiedKFold(n_splits=10, n_repeats=3, random_state=1)\n",
    "model = DecisionTreeClassifier()\n",
    "grid = GridSearchCV(estimator=model, param_grid=param_grid, n_jobs=-1, cv=cv, scoring='f1')\n",
    "\n",
    "grid_result = grid.fit(X_train, y_train)\n",
    "\n",
    "print(\"Best: %f using %s\" % (grid_result.best_score_ , grid_result.best_params_))\n",
    "# report all configurations\n",
    "means = grid_result.cv_results_['mean_test_score']\n",
    "stds = grid_result.cv_results_['std_test_score']\n",
    "params = grid_result.cv_results_['params']\n",
    "for mean, stdev, param in zip(means, stds, params):\n",
    "    print(\"%f (%f) with: %r\" % (mean, stdev, param))"
   ]
  },
  {
   "cell_type": "code",
   "execution_count": 34,
   "metadata": {},
   "outputs": [
    {
     "name": "stdout",
     "output_type": "stream",
     "text": [
      "Classification Report:\n",
      "              precision    recall  f1-score   support\n",
      "\n",
      "           0       1.00      1.00      1.00        11\n",
      "           1       1.00      1.00      1.00       120\n",
      "\n",
      "    accuracy                           1.00       131\n",
      "   macro avg       1.00      1.00      1.00       131\n",
      "weighted avg       1.00      1.00      1.00       131\n",
      "\n",
      "Confusion Matrix:\n"
     ]
    },
    {
     "data": {
      "text/plain": [
       "<Axes: >"
      ]
     },
     "execution_count": 34,
     "metadata": {},
     "output_type": "execute_result"
    },
    {
     "data": {
      "image/png": "[encoded data removed]",
      "text/plain": [
       "<Figure size 640x480 with 2 Axes>"
      ]
     },
     "metadata": {},
     "output_type": "display_data"
    }
   ],
   "source": [
    "model = DecisionTreeClassifier(criterion='entropy', max_depth=20, splitter='random')\n",
    "model.fit(X_train, y_train)\n",
    "y_pred = model.predict(X_valid)\n",
    "\n",
    "print(\"Classification Report:\")\n",
    "print(classification_report(y_valid, y_pred))\n",
    "\n",
    "print(\"Confusion Matrix:\")\n",
    "sns.heatmap(confusion_matrix(y_valid,y_pred),annot = True,fmt='d')"
   ]
  },
  {
   "cell_type": "code",
   "execution_count": 41,
   "metadata": {},
   "outputs": [],
   "source": [
    "pickle.dump(model, open('./models/dt.pkl', 'wb'))"
   ]
  }
 ],
 "metadata": {
  "kernelspec": {
   "display_name": "opencv",
   "language": "python",
   "name": "python3"
  },
  "language_info": {
   "codemirror_mode": {
    "name": "ipython",
    "version": 3
   },
   "file_extension": ".py",
   "mimetype": "text/x-python",
   "name": "python",
   "nbconvert_exporter": "python",
   "pygments_lexer": "ipython3",
   "version": "3.10.13"
  }
 },
 "nbformat": 4,
 "nbformat_minor": 2
}
