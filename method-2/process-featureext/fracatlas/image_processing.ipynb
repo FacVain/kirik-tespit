{
 "cells": [
  {
   "cell_type": "code",
   "execution_count": 1,
   "metadata": {},
   "outputs": [],
   "source": [
    "import cv2 as cv\n",
    "import os"
   ]
  },
  {
   "cell_type": "code",
   "execution_count": 2,
   "metadata": {},
   "outputs": [],
   "source": [
    "\n",
    "fracture_dir = '../../data/FracAtlas/images/Fractured'\n",
    "nonfracture_dir = '../../data/FracAtlas/images/Non_fractured'\n",
    "output_dir = './processed_images'"
   ]
  },
  {
   "cell_type": "code",
   "execution_count": 11,
   "metadata": {},
   "outputs": [],
   "source": [
    "def process_images(input_dir, output_dir):\n",
    "    for image_file in os.listdir(input_dir):\n",
    "        if (image_file.endswith(\".jpg\")):\n",
    "            image = cv.imread(f'{input_dir}/{image_file}')\n",
    "            gray = cv.cvtColor(image, cv.COLOR_BGR2GRAY)\n",
    "            ret, thresh1 = cv.threshold(gray, 120, 255, cv.THRESH_BINARY)\n",
    "            cv.imwrite(f'{output_dir}/{image_file}', thresh1)"
   ]
  },
  {
   "cell_type": "code",
   "execution_count": 13,
   "metadata": {},
   "outputs": [],
   "source": [
    "process_images(fracture_dir, output_dir)\n",
    "process_images(nonfracture_dir, output_dir)"
   ]
  },
  {
   "cell_type": "code",
   "execution_count": null,
   "metadata": {},
   "outputs": [],
   "source": []
  }
 ],
 "metadata": {
  "kernelspec": {
   "display_name": "opencv",
   "language": "python",
   "name": "python3"
  },
  "language_info": {
   "codemirror_mode": {
    "name": "ipython",
    "version": 3
   },
   "file_extension": ".py",
   "mimetype": "text/x-python",
   "name": "python",
   "nbconvert_exporter": "python",
   "pygments_lexer": "ipython3",
   "version": "3.10.13"
  }
 },
 "nbformat": 4,
 "nbformat_minor": 2
}
