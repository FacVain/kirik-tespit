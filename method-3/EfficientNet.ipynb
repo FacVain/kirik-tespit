{
 "cells": [
  {
   "cell_type": "code",
   "execution_count": 1,
   "metadata": {},
   "outputs": [],
   "source": [
    "import tensorflow as tf\n",
    "from tensorflow.keras import layers\n",
    "from tensorflow.keras.applications import EfficientNetB7\n",
    "\n",
    "from sklearn.metrics import classification_report, confusion_matrix\n",
    "import numpy as np\n",
    "import seaborn as sns"
   ]
  },
  {
   "cell_type": "code",
   "execution_count": 2,
   "metadata": {},
   "outputs": [
    {
     "name": "stdout",
     "output_type": "stream",
     "text": [
      "Found 3996 files belonging to 2 classes.\n",
      "Using 3197 files for training.\n",
      "Using 799 files for validation.\n"
     ]
    }
   ],
   "source": [
    "# Load and preprocess the dataset\n",
    "dataset = tf.keras.preprocessing.image_dataset_from_directory(\n",
    "    '../data/FracAtlas/images/',\n",
    "    label_mode='binary',\n",
    "    seed=123,\n",
    "    validation_split=0.2,\n",
    "    subset=\"both\",\n",
    "    image_size=(600, 600),\n",
    "    batch_size=16\n",
    ")"
   ]
  },
  {
   "cell_type": "code",
   "execution_count": 3,
   "metadata": {},
   "outputs": [],
   "source": [
    "img_augmentation_layers = [\n",
    "    layers.RandomRotation(factor=0.15),\n",
    "    layers.RandomTranslation(height_factor=0.1, width_factor=0.1),\n",
    "    layers.RandomFlip(),\n",
    "    layers.RandomContrast(factor=0.1),\n",
    "]\n",
    "\n",
    "\n",
    "def img_augmentation(images):\n",
    "    for layer in img_augmentation_layers:\n",
    "        images = layer(images)\n",
    "    return images"
   ]
  },
  {
   "cell_type": "code",
   "execution_count": 6,
   "metadata": {},
   "outputs": [],
   "source": [
    "inputs = layers.Input(shape=(600, 600, 3))\n",
    "model = EfficientNetB7(include_top=False, input_tensor=inputs, weights='imagenet')\n",
    "model.trainable = False\n",
    "\n",
    "# Rebuild top\n",
    "x = layers.GlobalAveragePooling2D(name=\"avg_pool\")(model.output)\n",
    "x = layers.BatchNormalization()(x)\n",
    "\n",
    "top_dropout_rate = 0.2\n",
    "x = layers.Dropout(top_dropout_rate, name=\"top_dropout\")(x)\n",
    "outputs = layers.Dense(1, activation=\"sigmoid\", name=\"pred\")(x)\n",
    "\n",
    "# Compile\n",
    "model = tf.keras.Model(inputs, outputs, name=\"EfficientNet\")\n",
    "optimizer = tf.keras.optimizers.Adam(learning_rate=1e-2)\n",
    "model.compile(\n",
    "    optimizer=optimizer, loss=\"binary_crossentropy\", metrics=[\"accuracy\", 'AUC', 'Precision', 'Recall']\n",
    ")"
   ]
  },
  {
   "cell_type": "code",
   "execution_count": 7,
   "metadata": {},
   "outputs": [
    {
     "name": "stdout",
     "output_type": "stream",
     "text": [
      "Epoch 1/25\n",
      "200/200 [==============================] - 223s 995ms/step - loss: 0.9310 - accuracy: 0.8164 - auc: 0.7523 - precision: 0.8891 - recall: 0.8868 - val_loss: 1.1377 - val_accuracy: 0.8223 - val_auc: 0.6520 - val_precision: 0.8221 - val_recall: 1.0000\n",
      "Epoch 2/25\n",
      "200/200 [==============================] - 198s 990ms/step - loss: 0.8832 - accuracy: 0.8383 - auc: 0.7992 - precision: 0.8989 - recall: 0.9047 - val_loss: 0.9716 - val_accuracy: 0.8586 - val_auc: 0.7601 - val_precision: 0.8625 - val_recall: 0.9848\n",
      "Epoch 3/25\n",
      "200/200 [==============================] - 200s 996ms/step - loss: 0.7734 - accuracy: 0.8511 - auc: 0.8164 - precision: 0.9068 - recall: 0.9123 - val_loss: 0.7615 - val_accuracy: 0.8673 - val_auc: 0.8098 - val_precision: 0.8873 - val_recall: 0.9604\n",
      "Epoch 4/25\n",
      "200/200 [==============================] - 200s 1s/step - loss: 0.7152 - accuracy: 0.8536 - auc: 0.8225 - precision: 0.9071 - recall: 0.9154 - val_loss: 0.6572 - val_accuracy: 0.8536 - val_auc: 0.8316 - val_precision: 0.9065 - val_recall: 0.9162\n",
      "Epoch 5/25\n",
      "200/200 [==============================] - 201s 1s/step - loss: 0.6789 - accuracy: 0.8617 - auc: 0.8392 - precision: 0.9142 - recall: 0.9177 - val_loss: 0.7641 - val_accuracy: 0.8498 - val_auc: 0.7773 - val_precision: 0.8743 - val_recall: 0.9543\n",
      "Epoch 6/25\n",
      "200/200 [==============================] - 201s 1s/step - loss: 0.6116 - accuracy: 0.8580 - auc: 0.8508 - precision: 0.9079 - recall: 0.9203 - val_loss: 0.5801 - val_accuracy: 0.8648 - val_auc: 0.8529 - val_precision: 0.9190 - val_recall: 0.9162\n",
      "Epoch 7/25\n",
      "200/200 [==============================] - 202s 1s/step - loss: 0.5651 - accuracy: 0.8655 - auc: 0.8424 - precision: 0.9133 - recall: 0.9238 - val_loss: 0.6210 - val_accuracy: 0.8523 - val_auc: 0.8059 - val_precision: 0.8899 - val_recall: 0.9360\n",
      "Epoch 8/25\n",
      "200/200 [==============================] - 202s 1s/step - loss: 0.5466 - accuracy: 0.8661 - auc: 0.8525 - precision: 0.9159 - recall: 0.9215 - val_loss: 0.7367 - val_accuracy: 0.8623 - val_auc: 0.8057 - val_precision: 0.8650 - val_recall: 0.9863\n",
      "Epoch 9/25\n",
      "200/200 [==============================] - 202s 1s/step - loss: 0.5261 - accuracy: 0.8646 - auc: 0.8522 - precision: 0.9110 - recall: 0.9253 - val_loss: 0.5302 - val_accuracy: 0.8648 - val_auc: 0.8390 - val_precision: 0.8838 - val_recall: 0.9619\n",
      "Epoch 10/25\n",
      "200/200 [==============================] - 202s 1s/step - loss: 0.4533 - accuracy: 0.8702 - auc: 0.8612 - precision: 0.9157 - recall: 0.9272 - val_loss: 0.4588 - val_accuracy: 0.8761 - val_auc: 0.8491 - val_precision: 0.8928 - val_recall: 0.9649\n",
      "Epoch 11/25\n",
      "200/200 [==============================] - 202s 1s/step - loss: 0.4436 - accuracy: 0.8696 - auc: 0.8630 - precision: 0.9131 - recall: 0.9295 - val_loss: 0.4884 - val_accuracy: 0.8461 - val_auc: 0.8512 - val_precision: 0.9044 - val_recall: 0.9085\n",
      "Epoch 12/25\n",
      "200/200 [==============================] - 201s 1s/step - loss: 0.4048 - accuracy: 0.8714 - auc: 0.8664 - precision: 0.9118 - recall: 0.9337 - val_loss: 0.4918 - val_accuracy: 0.8723 - val_auc: 0.8301 - val_precision: 0.8784 - val_recall: 0.9802\n",
      "Epoch 13/25\n",
      "200/200 [==============================] - 202s 1s/step - loss: 0.3813 - accuracy: 0.8642 - auc: 0.8783 - precision: 0.9095 - recall: 0.9268 - val_loss: 0.4369 - val_accuracy: 0.8448 - val_auc: 0.8392 - val_precision: 0.8947 - val_recall: 0.9192\n",
      "Epoch 14/25\n",
      "200/200 [==============================] - 202s 1s/step - loss: 0.3709 - accuracy: 0.8736 - auc: 0.8721 - precision: 0.9151 - recall: 0.9325 - val_loss: 0.4066 - val_accuracy: 0.8436 - val_auc: 0.8474 - val_precision: 0.9017 - val_recall: 0.9085\n",
      "Epoch 15/25\n",
      "200/200 [==============================] - 203s 1s/step - loss: 0.3513 - accuracy: 0.8774 - auc: 0.8735 - precision: 0.9124 - recall: 0.9409 - val_loss: 0.4031 - val_accuracy: 0.8748 - val_auc: 0.8610 - val_precision: 0.8861 - val_recall: 0.9726\n",
      "Epoch 16/25\n",
      "200/200 [==============================] - 202s 1s/step - loss: 0.3650 - accuracy: 0.8708 - auc: 0.8646 - precision: 0.9105 - recall: 0.9344 - val_loss: 0.3910 - val_accuracy: 0.8636 - val_auc: 0.8534 - val_precision: 0.8913 - val_recall: 0.9497\n",
      "Epoch 17/25\n",
      "200/200 [==============================] - 202s 1s/step - loss: 0.3344 - accuracy: 0.8749 - auc: 0.8787 - precision: 0.9118 - recall: 0.9382 - val_loss: 0.4299 - val_accuracy: 0.8723 - val_auc: 0.8447 - val_precision: 0.8784 - val_recall: 0.9802\n",
      "Epoch 18/25\n",
      "200/200 [==============================] - 203s 1s/step - loss: 0.3303 - accuracy: 0.8724 - auc: 0.8802 - precision: 0.9091 - recall: 0.9382 - val_loss: 0.3526 - val_accuracy: 0.8773 - val_auc: 0.8600 - val_precision: 0.8941 - val_recall: 0.9649\n",
      "Epoch 19/25\n",
      "200/200 [==============================] - 203s 1s/step - loss: 0.3147 - accuracy: 0.8827 - auc: 0.8874 - precision: 0.9138 - recall: 0.9462 - val_loss: 0.3963 - val_accuracy: 0.8786 - val_auc: 0.8626 - val_precision: 0.8845 - val_recall: 0.9802\n",
      "Epoch 20/25\n",
      "200/200 [==============================] - 202s 1s/step - loss: 0.3517 - accuracy: 0.8733 - auc: 0.8703 - precision: 0.9092 - recall: 0.9394 - val_loss: 0.3604 - val_accuracy: 0.8648 - val_auc: 0.8534 - val_precision: 0.8971 - val_recall: 0.9436\n",
      "Epoch 21/25\n",
      "200/200 [==============================] - 204s 1s/step - loss: 0.3272 - accuracy: 0.8789 - auc: 0.8801 - precision: 0.9135 - recall: 0.9417 - val_loss: 0.4046 - val_accuracy: 0.8736 - val_auc: 0.8484 - val_precision: 0.8807 - val_recall: 0.9787\n",
      "Epoch 22/25\n",
      "200/200 [==============================] - 204s 1s/step - loss: 0.3388 - accuracy: 0.8761 - auc: 0.8667 - precision: 0.9051 - recall: 0.9485 - val_loss: 0.3339 - val_accuracy: 0.8698 - val_auc: 0.8721 - val_precision: 0.8943 - val_recall: 0.9543\n",
      "Epoch 23/25\n",
      "200/200 [==============================] - 205s 1s/step - loss: 0.3253 - accuracy: 0.8755 - auc: 0.8748 - precision: 0.9098 - recall: 0.9417 - val_loss: 0.4885 - val_accuracy: 0.8548 - val_auc: 0.8457 - val_precision: 0.8553 - val_recall: 0.9909\n",
      "Epoch 24/25\n",
      "200/200 [==============================] - 205s 1s/step - loss: 0.3151 - accuracy: 0.8768 - auc: 0.8827 - precision: 0.9096 - recall: 0.9436 - val_loss: 0.4017 - val_accuracy: 0.8723 - val_auc: 0.8535 - val_precision: 0.8753 - val_recall: 0.9848\n",
      "Epoch 25/25\n",
      "200/200 [==============================] - 204s 1s/step - loss: 0.3304 - accuracy: 0.8821 - auc: 0.8750 - precision: 0.9129 - recall: 0.9466 - val_loss: 0.4288 - val_accuracy: 0.8736 - val_auc: 0.8538 - val_precision: 0.8765 - val_recall: 0.9848\n"
     ]
    }
   ],
   "source": [
    "epochs = 25\n",
    "hist = model.fit(dataset[0], epochs=epochs, validation_data=dataset[1])"
   ]
  },
  {
   "cell_type": "code",
   "execution_count": 8,
   "metadata": {},
   "outputs": [
    {
     "name": "stdout",
     "output_type": "stream",
     "text": [
      "50/50 [==============================] - 42s 747ms/step\n",
      "              precision    recall  f1-score   support\n",
      "\n",
      "         0.0       0.84      0.36      0.51       143\n",
      "         1.0       0.88      0.98      0.93       656\n",
      "\n",
      "    accuracy                           0.87       799\n",
      "   macro avg       0.86      0.67      0.72       799\n",
      "weighted avg       0.87      0.87      0.85       799\n",
      "\n",
      "Confusion Matrix:\n"
     ]
    },
    {
     "data": {
      "text/plain": [
       "<Axes: >"
      ]
     },
     "execution_count": 8,
     "metadata": {},
     "output_type": "execute_result"
    },
    {
     "data": {
      "image/png": "[encoded data removed]",
      "text/plain": [
       "<Figure size 640x480 with 2 Axes>"
      ]
     },
     "metadata": {},
     "output_type": "display_data"
    }
   ],
   "source": [
    "# Get the predictions on the validation data\n",
    "y_pred = model.predict(dataset[1])\n",
    "\n",
    "# Convert the predictions to binary values\n",
    "y_pred_binary = (y_pred > 0.5).astype(int)\n",
    "\n",
    "# Get the true labels from the validation data\n",
    "y_true = np.concatenate([y for x, y in dataset[1]], axis=0)\n",
    "\n",
    "# Generate the classification report\n",
    "report = classification_report(y_true, y_pred_binary)\n",
    "print(report)\n",
    "\n",
    "print(\"Confusion Matrix:\")\n",
    "sns.heatmap(confusion_matrix(y_true,y_pred_binary),annot = True,fmt='d')"
   ]
  },
  {
   "cell_type": "code",
   "execution_count": 11,
   "metadata": {},
   "outputs": [],
   "source": [
    "model.save_weights('efficientnetb7.h5')"
   ]
  }
 ],
 "metadata": {
  "kernelspec": {
   "display_name": "ML_development",
   "language": "python",
   "name": "python3"
  },
  "language_info": {
   "codemirror_mode": {
    "name": "ipython",
    "version": 3
   },
   "file_extension": ".py",
   "mimetype": "text/x-python",
   "name": "python",
   "nbconvert_exporter": "python",
   "pygments_lexer": "ipython3",
   "version": "3.10.13"
  }
 },
 "nbformat": 4,
 "nbformat_minor": 2
}
