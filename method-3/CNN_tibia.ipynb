{
 "cells": [
  {
   "cell_type": "code",
   "execution_count": 1,
   "metadata": {},
   "outputs": [],
   "source": [
    "import tensorflow as tf\n",
    "from tensorflow.keras import layers"
   ]
  },
  {
   "cell_type": "code",
   "execution_count": 9,
   "metadata": {},
   "outputs": [
    {
     "name": "stdout",
     "output_type": "stream",
     "text": [
      "Found 2127 files belonging to 2 classes.\n",
      "Using 1702 files for training.\n",
      "Using 425 files for validation.\n"
     ]
    }
   ],
   "source": [
    "# Load and preprocess the dataset\n",
    "dataset = tf.keras.preprocessing.image_dataset_from_directory(\n",
    "    '../data/tibia_fibula_fracture/',\n",
    "    label_mode='binary',\n",
    "    seed=123,\n",
    "    validation_split=0.2,\n",
    "    subset=\"both\",\n",
    "    image_size=(300, 300),\n",
    "    batch_size=16,\n",
    "    color_mode='grayscale'\n",
    ")"
   ]
  },
  {
   "cell_type": "code",
   "execution_count": 10,
   "metadata": {},
   "outputs": [],
   "source": [
    "model2 = tf.keras.Sequential([\n",
    "    #data_augmentation,\n",
    "    layers.Conv2D(32, kernel_size=(3,3), activation='relu', input_shape=(300, 300, 1)),\n",
    "    layers.Conv2D(64, (3,3), activation='relu'),\n",
    "    layers.MaxPooling2D(pool_size=(2,2)),\n",
    "    layers.Dropout(0.25),\n",
    "\n",
    "    layers.Conv2D(64, (3,3), activation='relu'),\n",
    "    layers.MaxPooling2D(pool_size=(2,2)),\n",
    "    layers.Dropout(0.25),\n",
    "\n",
    "    layers.Conv2D(128, (3,3), activation='relu'),\n",
    "    layers.MaxPooling2D(pool_size=(2,2)),\n",
    "    layers.Dropout(0.25),\n",
    "\n",
    "    layers.Flatten(),\n",
    "    layers.Dense(64, activation='relu'),\n",
    "    layers.Dropout(0.25),\n",
    "    layers.Dense(1, activation='sigmoid')\n",
    "])"
   ]
  },
  {
   "cell_type": "code",
   "execution_count": 13,
   "metadata": {},
   "outputs": [
    {
     "name": "stdout",
     "output_type": "stream",
     "text": [
      "Epoch 1/20\n",
      "107/107 [==============================] - 13s 108ms/step - loss: 1.0451 - accuracy: 0.8608 - auc: 0.9083 - precision: 0.2648 - recall: 0.7451 - val_loss: 0.3203 - val_accuracy: 0.8400 - val_auc: 0.8629 - val_precision: 0.2471 - val_recall: 0.8400\n",
      "Epoch 2/20\n",
      "107/107 [==============================] - 12s 106ms/step - loss: 0.6386 - accuracy: 0.8196 - auc: 0.9267 - precision: 0.2310 - recall: 0.8627 - val_loss: 0.3000 - val_accuracy: 0.7859 - val_auc: 0.8983 - val_precision: 0.1944 - val_recall: 0.8400\n",
      "Epoch 3/20\n",
      "107/107 [==============================] - 12s 108ms/step - loss: 0.6138 - accuracy: 0.8443 - auc: 0.9404 - precision: 0.2730 - recall: 0.9608 - val_loss: 0.2196 - val_accuracy: 0.8306 - val_auc: 0.9564 - val_precision: 0.2577 - val_recall: 1.0000\n",
      "Epoch 4/20\n",
      "107/107 [==============================] - 12s 109ms/step - loss: 1.7108 - accuracy: 0.8361 - auc: 0.9403 - precision: 0.2602 - recall: 0.9412 - val_loss: 0.2626 - val_accuracy: 0.8165 - val_auc: 0.9409 - val_precision: 0.2376 - val_recall: 0.9600\n",
      "Epoch 5/20\n",
      "107/107 [==============================] - 12s 107ms/step - loss: 0.5630 - accuracy: 0.8302 - auc: 0.9361 - precision: 0.2493 - recall: 0.9118 - val_loss: 0.2312 - val_accuracy: 0.8212 - val_auc: 0.9494 - val_precision: 0.2424 - val_recall: 0.9600\n",
      "Epoch 6/20\n",
      "107/107 [==============================] - 12s 108ms/step - loss: 0.3550 - accuracy: 0.8331 - auc: 0.9566 - precision: 0.2605 - recall: 0.9706 - val_loss: 0.2160 - val_accuracy: 0.8165 - val_auc: 0.9514 - val_precision: 0.2376 - val_recall: 0.9600\n",
      "Epoch 7/20\n",
      "107/107 [==============================] - 12s 107ms/step - loss: 0.3590 - accuracy: 0.8602 - auc: 0.9537 - precision: 0.2964 - recall: 0.9706 - val_loss: 0.2400 - val_accuracy: 0.8188 - val_auc: 0.9433 - val_precision: 0.2400 - val_recall: 0.9600\n",
      "Epoch 8/20\n",
      "107/107 [==============================] - 12s 108ms/step - loss: 0.6442 - accuracy: 0.8367 - auc: 0.9433 - precision: 0.2596 - recall: 0.9314 - val_loss: 0.2634 - val_accuracy: 0.7929 - val_auc: 0.9427 - val_precision: 0.2162 - val_recall: 0.9600\n",
      "Epoch 9/20\n",
      "107/107 [==============================] - 12s 108ms/step - loss: 0.2917 - accuracy: 0.8420 - auc: 0.9648 - precision: 0.2749 - recall: 1.0000 - val_loss: 0.2396 - val_accuracy: 0.8494 - val_auc: 0.9313 - val_precision: 0.2706 - val_recall: 0.9200\n"
     ]
    },
    {
     "data": {
      "text/plain": [
       "<keras.callbacks.History at 0x1ab6fd923e0>"
      ]
     },
     "execution_count": 13,
     "metadata": {},
     "output_type": "execute_result"
    }
   ],
   "source": [
    "# Compile and train the model\n",
    "model2.compile(optimizer='adam',\n",
    "              loss=tf.keras.losses.BinaryCrossentropy(),\n",
    "              metrics=['accuracy', 'AUC', 'Precision', 'Recall'])\n",
    "\n",
    "model2.fit(dataset[0], epochs=20, validation_data=dataset[1], callbacks=[tf.keras.callbacks.EarlyStopping(patience=3)], class_weight={0: 1, 1: 10})"
   ]
  },
  {
   "cell_type": "code",
   "execution_count": 14,
   "metadata": {},
   "outputs": [
    {
     "name": "stdout",
     "output_type": "stream",
     "text": [
      "27/27 [==============================] - 1s 34ms/step\n",
      "              precision    recall  f1-score   support\n",
      "\n",
      "         0.0       0.99      0.84      0.91       400\n",
      "         1.0       0.27      0.92      0.42        25\n",
      "\n",
      "    accuracy                           0.85       425\n",
      "   macro avg       0.63      0.88      0.67       425\n",
      "weighted avg       0.95      0.85      0.88       425\n",
      "\n",
      "Confusion Matrix:\n"
     ]
    },
    {
     "data": {
      "text/plain": [
       "<Axes: >"
      ]
     },
     "execution_count": 14,
     "metadata": {},
     "output_type": "execute_result"
    },
    {
     "data": {
      "image/png": "[encoded data removed]",
      "text/plain": [
       "<Figure size 640x480 with 2 Axes>"
      ]
     },
     "metadata": {},
     "output_type": "display_data"
    }
   ],
   "source": [
    "from sklearn.metrics import classification_report, confusion_matrix\n",
    "import numpy as np\n",
    "import seaborn as sns\n",
    "\n",
    "# Get the predictions on the validation data\n",
    "y_pred = model2.predict(dataset[1])\n",
    "\n",
    "# Convert the predictions to binary values\n",
    "y_pred_binary = (y_pred > 0.5).astype(int)\n",
    "\n",
    "# Get the true labels from the validation data\n",
    "y_true = np.concatenate([y for x, y in dataset[1]], axis=0)\n",
    "\n",
    "# Generate the classification report\n",
    "report = classification_report(y_true, y_pred_binary)\n",
    "print(report)\n",
    "\n",
    "print(\"Confusion Matrix:\")\n",
    "sns.heatmap(confusion_matrix(y_true,y_pred_binary),annot = True,fmt='d')"
   ]
  }
 ],
 "metadata": {
  "kernelspec": {
   "display_name": "ML_development",
   "language": "python",
   "name": "python3"
  },
  "language_info": {
   "codemirror_mode": {
    "name": "ipython",
    "version": 3
   },
   "file_extension": ".py",
   "mimetype": "text/x-python",
   "name": "python",
   "nbconvert_exporter": "python",
   "pygments_lexer": "ipython3",
   "version": "3.10.13"
  }
 },
 "nbformat": 4,
 "nbformat_minor": 2
}
