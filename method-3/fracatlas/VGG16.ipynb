{
 "cells": [
  {
   "cell_type": "code",
   "execution_count": 1,
   "metadata": {},
   "outputs": [],
   "source": [
    "import tensorflow as tf\n",
    "from tensorflow.keras import layers\n",
    "from tensorflow.keras.applications import VGG16\n",
    "\n",
    "from sklearn.metrics import classification_report, confusion_matrix\n",
    "import numpy as np\n",
    "import seaborn as sns"
   ]
  },
  {
   "cell_type": "code",
   "execution_count": 2,
   "metadata": {},
   "outputs": [
    {
     "name": "stdout",
     "output_type": "stream",
     "text": [
      "Found 3996 files belonging to 2 classes.\n",
      "Using 3597 files for training.\n",
      "Using 399 files for validation.\n"
     ]
    }
   ],
   "source": [
    "# Load and preprocess the dataset\n",
    "dataset = tf.keras.preprocessing.image_dataset_from_directory(\n",
    "    '../../data/FracAtlas/images/',\n",
    "    label_mode='binary',\n",
    "    seed=123,\n",
    "    validation_split=0.1,\n",
    "    subset=\"both\",\n",
    "    image_size=(224, 224),\n",
    "    batch_size=64\n",
    ")"
   ]
  },
  {
   "cell_type": "code",
   "execution_count": 3,
   "metadata": {},
   "outputs": [],
   "source": [
    "img_augmentation_layers = [\n",
    "    layers.RandomRotation(factor=0.15),\n",
    "    layers.RandomTranslation(height_factor=0.1, width_factor=0.1),\n",
    "    layers.RandomFlip(),\n",
    "    layers.RandomContrast(factor=0.1),\n",
    "]\n",
    "\n",
    "\n",
    "def img_augmentation(images):\n",
    "    for layer in img_augmentation_layers:\n",
    "        images = layer(images)\n",
    "    return images"
   ]
  },
  {
   "cell_type": "code",
   "execution_count": 5,
   "metadata": {},
   "outputs": [
    {
     "name": "stderr",
     "output_type": "stream",
     "text": [
      "c:\\Users\\assas\\anaconda3\\envs\\ML_development\\lib\\site-packages\\keras\\optimizers\\optimizer_v2\\adam.py:114: UserWarning: The `lr` argument is deprecated, use `learning_rate` instead.\n",
      "  super().__init__(name, **kwargs)\n"
     ]
    }
   ],
   "source": [
    "inputs = layers.Input(shape=(224, 224, 3))\n",
    "model = VGG16(include_top=False, input_tensor=inputs, weights='imagenet')\n",
    "model.trainable = False\n",
    "\n",
    "# Rebuild top\n",
    "x = layers.GlobalMaxPooling2D()(model.output)\n",
    "\n",
    "top_dropout_rate = 0.2\n",
    "x = layers.Dense(2048, activation='relu')(x)\n",
    "x = layers.Dropout(top_dropout_rate)(x)\n",
    "x = layers.Dense(2048, activation='relu')(x)\n",
    "x = layers.Dropout(top_dropout_rate, name=\"top_dropout\")(x)\n",
    "outputs = layers.Dense(1, activation=\"sigmoid\", name=\"pred\")(x)\n",
    "\n",
    "# Compile\n",
    "model = tf.keras.Model(inputs, outputs, name=\"VGG16\")\n",
    "optimizer = tf.keras.optimizers.Adam(lr=0.0001, beta_1=0.9, beta_2=0.999, epsilon=None, decay=0.0, amsgrad=False)\n",
    "model.compile(\n",
    "    optimizer=optimizer, loss=\"binary_crossentropy\", metrics=[\"accuracy\", 'AUC', 'Precision', 'Recall']\n",
    ")"
   ]
  },
  {
   "cell_type": "code",
   "execution_count": 6,
   "metadata": {},
   "outputs": [
    {
     "name": "stdout",
     "output_type": "stream",
     "text": [
      "Epoch 1/15\n",
      "57/57 [==============================] - 32s 276ms/step - loss: 5.1752 - accuracy: 0.6603 - auc: 0.6794 - precision: 0.8879 - recall: 0.6707 - val_loss: 3.0348 - val_accuracy: 0.5514 - val_auc: 0.7490 - val_precision: 0.9512 - val_recall: 0.4771\n",
      "Epoch 2/15\n",
      "57/57 [==============================] - 12s 193ms/step - loss: 2.8590 - accuracy: 0.7462 - auc: 0.7844 - precision: 0.9264 - recall: 0.7503 - val_loss: 1.0685 - val_accuracy: 0.7820 - val_auc: 0.7878 - val_precision: 0.8974 - val_recall: 0.8287\n",
      "Epoch 3/15\n",
      "57/57 [==============================] - 13s 195ms/step - loss: 2.2379 - accuracy: 0.7737 - auc: 0.8196 - precision: 0.9314 - recall: 0.7818 - val_loss: 1.5632 - val_accuracy: 0.7168 - val_auc: 0.8309 - val_precision: 0.9534 - val_recall: 0.6881\n",
      "Epoch 4/15\n",
      "57/57 [==============================] - 12s 196ms/step - loss: 2.3539 - accuracy: 0.7709 - auc: 0.8249 - precision: 0.9375 - recall: 0.7724 - val_loss: 0.8827 - val_accuracy: 0.8045 - val_auc: 0.8082 - val_precision: 0.9220 - val_recall: 0.8318\n",
      "Epoch 5/15\n",
      "57/57 [==============================] - 13s 202ms/step - loss: 1.2496 - accuracy: 0.8279 - auc: 0.8867 - precision: 0.9481 - recall: 0.8360 - val_loss: 0.7483 - val_accuracy: 0.8195 - val_auc: 0.8338 - val_precision: 0.9073 - val_recall: 0.8685\n",
      "Epoch 6/15\n",
      "57/57 [==============================] - 12s 197ms/step - loss: 0.7226 - accuracy: 0.8755 - auc: 0.9346 - precision: 0.9644 - recall: 0.8808 - val_loss: 1.1191 - val_accuracy: 0.7243 - val_auc: 0.8187 - val_precision: 0.9465 - val_recall: 0.7034\n",
      "Epoch 7/15\n",
      "57/57 [==============================] - 13s 200ms/step - loss: 0.7325 - accuracy: 0.8682 - auc: 0.9355 - precision: 0.9644 - recall: 0.8716 - val_loss: 0.7821 - val_accuracy: 0.8170 - val_auc: 0.8128 - val_precision: 0.9150 - val_recall: 0.8563\n",
      "Epoch 8/15\n",
      "57/57 [==============================] - 12s 197ms/step - loss: 0.4934 - accuracy: 0.9021 - auc: 0.9595 - precision: 0.9741 - recall: 0.9048 - val_loss: 0.6583 - val_accuracy: 0.8421 - val_auc: 0.8321 - val_precision: 0.9177 - val_recall: 0.8869\n",
      "Epoch 9/15\n",
      "57/57 [==============================] - 13s 196ms/step - loss: 0.5100 - accuracy: 0.9008 - auc: 0.9583 - precision: 0.9710 - recall: 0.9062 - val_loss: 1.0365 - val_accuracy: 0.7343 - val_auc: 0.8261 - val_precision: 0.9438 - val_recall: 0.7187\n",
      "Epoch 10/15\n",
      "57/57 [==============================] - 12s 192ms/step - loss: 0.4763 - accuracy: 0.9083 - auc: 0.9628 - precision: 0.9764 - recall: 0.9102 - val_loss: 0.7864 - val_accuracy: 0.8020 - val_auc: 0.8376 - val_precision: 0.9306 - val_recall: 0.8196\n",
      "Epoch 11/15\n",
      "57/57 [==============================] - 13s 214ms/step - loss: 0.3504 - accuracy: 0.9269 - auc: 0.9753 - precision: 0.9828 - recall: 0.9272 - val_loss: 0.6338 - val_accuracy: 0.8596 - val_auc: 0.8311 - val_precision: 0.9021 - val_recall: 0.9297\n",
      "Epoch 12/15\n",
      "57/57 [==============================] - 13s 196ms/step - loss: 0.2285 - accuracy: 0.9491 - auc: 0.9866 - precision: 0.9884 - recall: 0.9492 - val_loss: 0.6158 - val_accuracy: 0.8722 - val_auc: 0.8228 - val_precision: 0.9035 - val_recall: 0.9450\n",
      "Epoch 13/15\n",
      "57/57 [==============================] - 13s 203ms/step - loss: 0.1931 - accuracy: 0.9544 - auc: 0.9898 - precision: 0.9874 - recall: 0.9566 - val_loss: 0.6181 - val_accuracy: 0.8371 - val_auc: 0.8627 - val_precision: 0.9309 - val_recall: 0.8654\n",
      "Epoch 14/15\n",
      "57/57 [==============================] - 13s 198ms/step - loss: 0.3075 - accuracy: 0.9338 - auc: 0.9799 - precision: 0.9819 - recall: 0.9367 - val_loss: 0.6994 - val_accuracy: 0.8271 - val_auc: 0.8245 - val_precision: 0.9272 - val_recall: 0.8563\n",
      "Epoch 15/15\n",
      "57/57 [==============================] - 13s 197ms/step - loss: 0.2231 - accuracy: 0.9461 - auc: 0.9879 - precision: 0.9873 - recall: 0.9465 - val_loss: 0.6532 - val_accuracy: 0.8546 - val_auc: 0.8301 - val_precision: 0.9190 - val_recall: 0.9021\n"
     ]
    }
   ],
   "source": [
    "epochs = 15\n",
    "hist = model.fit(dataset[0], epochs=epochs, validation_data=dataset[1], class_weight={0: 4, 1: 1})"
   ]
  },
  {
   "cell_type": "code",
   "execution_count": 8,
   "metadata": {},
   "outputs": [
    {
     "name": "stdout",
     "output_type": "stream",
     "text": [
      "7/7 [==============================] - 2s 247ms/step\n",
      "              precision    recall  f1-score   support\n",
      "\n",
      "         0.0       0.59      0.64      0.61        72\n",
      "         1.0       0.92      0.90      0.91       327\n",
      "\n",
      "    accuracy                           0.85       399\n",
      "   macro avg       0.75      0.77      0.76       399\n",
      "weighted avg       0.86      0.85      0.86       399\n",
      "\n",
      "Confusion Matrix:\n"
     ]
    },
    {
     "data": {
      "text/plain": [
       "<Axes: >"
      ]
     },
     "execution_count": 8,
     "metadata": {},
     "output_type": "execute_result"
    },
    {
     "data": {
      "image/png": "[encoded data removed]",
      "text/plain": [
       "<Figure size 640x480 with 2 Axes>"
      ]
     },
     "metadata": {},
     "output_type": "display_data"
    }
   ],
   "source": [
    "from sklearn.metrics import classification_report, confusion_matrix\n",
    "import numpy as np\n",
    "import seaborn as sns\n",
    "\n",
    "# Get the predictions on the validation data\n",
    "y_pred = model.predict(dataset[1])\n",
    "\n",
    "# Convert the predictions to binary values\n",
    "y_pred_binary = (y_pred > 0.5).astype(int)\n",
    "\n",
    "# Get the true labels from the validation data\n",
    "y_true = np.concatenate([y for x, y in dataset[1]], axis=0)\n",
    "\n",
    "# Generate the classification report\n",
    "report = classification_report(y_true, y_pred_binary)\n",
    "print(report)\n",
    "\n",
    "print(\"Confusion Matrix:\")\n",
    "sns.heatmap(confusion_matrix(y_true,y_pred_binary),annot = True,fmt='d')"
   ]
  },
  {
   "cell_type": "code",
   "execution_count": 9,
   "metadata": {},
   "outputs": [
    {
     "name": "stderr",
     "output_type": "stream",
     "text": [
      "WARNING:absl:Found untraced functions such as _jit_compiled_convolution_op, _jit_compiled_convolution_op, _jit_compiled_convolution_op, _jit_compiled_convolution_op, _jit_compiled_convolution_op while saving (showing 5 of 13). These functions will not be directly callable after loading.\n"
     ]
    },
    {
     "name": "stdout",
     "output_type": "stream",
     "text": [
      "INFO:tensorflow:Assets written to: vgg16\\assets\n"
     ]
    },
    {
     "name": "stderr",
     "output_type": "stream",
     "text": [
      "INFO:tensorflow:Assets written to: vgg16\\assets\n"
     ]
    }
   ],
   "source": [
    "model.save('vgg16')"
   ]
  }
 ],
 "metadata": {
  "kernelspec": {
   "display_name": "ML_development",
   "language": "python",
   "name": "python3"
  },
  "language_info": {
   "codemirror_mode": {
    "name": "ipython",
    "version": 3
   },
   "file_extension": ".py",
   "mimetype": "text/x-python",
   "name": "python",
   "nbconvert_exporter": "python",
   "pygments_lexer": "ipython3",
   "version": "3.10.13"
  }
 },
 "nbformat": 4,
 "nbformat_minor": 2
}
