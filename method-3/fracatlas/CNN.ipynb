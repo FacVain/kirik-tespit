{
 "cells": [
  {
   "cell_type": "code",
   "execution_count": 1,
   "metadata": {},
   "outputs": [],
   "source": [
    "import tensorflow as tf\n",
    "from tensorflow.keras import layers"
   ]
  },
  {
   "cell_type": "code",
   "execution_count": 2,
   "metadata": {},
   "outputs": [
    {
     "name": "stdout",
     "output_type": "stream",
     "text": [
      "Found 3996 files belonging to 2 classes.\n",
      "Using 3597 files for training.\n",
      "Using 399 files for validation.\n"
     ]
    }
   ],
   "source": [
    "# Load and preprocess the dataset\n",
    "dataset = tf.keras.preprocessing.image_dataset_from_directory(\n",
    "    '../../data/FracAtlas/images/',\n",
    "    label_mode='binary',\n",
    "    seed=123,\n",
    "    validation_split=0.1,\n",
    "    subset=\"both\",\n",
    "    image_size=(256, 256),\n",
    "    batch_size=32,\n",
    "    color_mode='grayscale'\n",
    ")"
   ]
  },
  {
   "cell_type": "code",
   "execution_count": 3,
   "metadata": {},
   "outputs": [],
   "source": [
    "data_augmentation = tf.keras.Sequential([\n",
    "  layers.RandomFlip(\"horizontal_and_vertical\"),\n",
    "  layers.RandomRotation(0.2),\n",
    "])"
   ]
  },
  {
   "cell_type": "code",
   "execution_count": 4,
   "metadata": {},
   "outputs": [],
   "source": [
    "model = tf.keras.Sequential([\n",
    "    #data_augmentation,\n",
    "    layers.Conv2D(64, 3, activation='relu', input_shape=(256, 256, 1)),\n",
    "    layers.MaxPooling2D(),\n",
    "    layers.Conv2D(128, 3, activation='relu'),\n",
    "    layers.MaxPooling2D(),\n",
    "    layers.Conv2D(256, 3, activation='relu'),\n",
    "    layers.MaxPooling2D(),\n",
    "    layers.Flatten(),\n",
    "    layers.Dense(128, activation='relu'),\n",
    "    layers.Dense(64, activation='relu'),\n",
    "    layers.Dense(1, activation='sigmoid')\n",
    "])"
   ]
  },
  {
   "cell_type": "code",
   "execution_count": 5,
   "metadata": {},
   "outputs": [
    {
     "name": "stdout",
     "output_type": "stream",
     "text": [
      "Epoch 1/10\n",
      "113/113 [==============================] - ETA: 0s - loss: 6.2110 - accuracy: 0.5830 - auc: 0.6377 - precision: 0.8750 - recall: 0.5738WARNING:tensorflow:Early stopping conditioned on metric `AUC` which is not available. Available metrics are: loss,accuracy,auc,precision,recall\n",
      "113/113 [==============================] - 23s 130ms/step - loss: 6.2110 - accuracy: 0.5830 - auc: 0.6377 - precision: 0.8750 - recall: 0.5738\n",
      "Epoch 2/10\n",
      "113/113 [==============================] - ETA: 0s - loss: 0.9509 - accuracy: 0.6828 - auc: 0.7256 - precision: 0.8956 - recall: 0.6944WARNING:tensorflow:Early stopping conditioned on metric `AUC` which is not available. Available metrics are: loss,accuracy,auc,precision,recall\n",
      "113/113 [==============================] - 14s 116ms/step - loss: 0.9509 - accuracy: 0.6828 - auc: 0.7256 - precision: 0.8956 - recall: 0.6944\n",
      "Epoch 3/10\n",
      "113/113 [==============================] - ETA: 0s - loss: 0.8417 - accuracy: 0.7654 - auc: 0.7926 - precision: 0.9153 - recall: 0.7869WARNING:tensorflow:Early stopping conditioned on metric `AUC` which is not available. Available metrics are: loss,accuracy,auc,precision,recall\n",
      "113/113 [==============================] - 14s 117ms/step - loss: 0.8417 - accuracy: 0.7654 - auc: 0.7926 - precision: 0.9153 - recall: 0.7869\n",
      "Epoch 4/10\n",
      "113/113 [==============================] - ETA: 0s - loss: 0.6850 - accuracy: 0.8123 - auc: 0.8742 - precision: 0.9394 - recall: 0.8245WARNING:tensorflow:Early stopping conditioned on metric `AUC` which is not available. Available metrics are: loss,accuracy,auc,precision,recall\n",
      "113/113 [==============================] - 14s 117ms/step - loss: 0.6850 - accuracy: 0.8123 - auc: 0.8742 - precision: 0.9394 - recall: 0.8245\n",
      "Epoch 5/10\n",
      "113/113 [==============================] - ETA: 0s - loss: 0.5813 - accuracy: 0.8593 - auc: 0.9123 - precision: 0.9506 - recall: 0.8740WARNING:tensorflow:Early stopping conditioned on metric `AUC` which is not available. Available metrics are: loss,accuracy,auc,precision,recall\n",
      "113/113 [==============================] - 14s 118ms/step - loss: 0.5813 - accuracy: 0.8593 - auc: 0.9123 - precision: 0.9506 - recall: 0.8740\n",
      "Epoch 6/10\n",
      "113/113 [==============================] - ETA: 0s - loss: 0.4590 - accuracy: 0.9008 - auc: 0.9487 - precision: 0.9693 - recall: 0.9079WARNING:tensorflow:Early stopping conditioned on metric `AUC` which is not available. Available metrics are: loss,accuracy,auc,precision,recall\n",
      "113/113 [==============================] - 14s 117ms/step - loss: 0.4590 - accuracy: 0.9008 - auc: 0.9487 - precision: 0.9693 - recall: 0.9079\n",
      "Epoch 7/10\n",
      "113/113 [==============================] - ETA: 0s - loss: 0.3539 - accuracy: 0.9216 - auc: 0.9680 - precision: 0.9748 - recall: 0.9285WARNING:tensorflow:Early stopping conditioned on metric `AUC` which is not available. Available metrics are: loss,accuracy,auc,precision,recall\n",
      "113/113 [==============================] - 14s 118ms/step - loss: 0.3539 - accuracy: 0.9216 - auc: 0.9680 - precision: 0.9748 - recall: 0.9285\n",
      "Epoch 8/10\n",
      "113/113 [==============================] - ETA: 0s - loss: 0.2600 - accuracy: 0.9477 - auc: 0.9836 - precision: 0.9825 - recall: 0.9533WARNING:tensorflow:Early stopping conditioned on metric `AUC` which is not available. Available metrics are: loss,accuracy,auc,precision,recall\n",
      "113/113 [==============================] - 14s 118ms/step - loss: 0.2600 - accuracy: 0.9477 - auc: 0.9836 - precision: 0.9825 - recall: 0.9533\n",
      "Epoch 9/10\n",
      "113/113 [==============================] - ETA: 0s - loss: 0.3385 - accuracy: 0.9330 - auc: 0.9769 - precision: 0.9819 - recall: 0.9356WARNING:tensorflow:Early stopping conditioned on metric `AUC` which is not available. Available metrics are: loss,accuracy,auc,precision,recall\n",
      "113/113 [==============================] - 14s 118ms/step - loss: 0.3385 - accuracy: 0.9330 - auc: 0.9769 - precision: 0.9819 - recall: 0.9356\n",
      "Epoch 10/10\n",
      "113/113 [==============================] - ETA: 0s - loss: 0.2106 - accuracy: 0.9639 - auc: 0.9886 - precision: 0.9896 - recall: 0.9661WARNING:tensorflow:Early stopping conditioned on metric `AUC` which is not available. Available metrics are: loss,accuracy,auc,precision,recall\n",
      "113/113 [==============================] - 14s 118ms/step - loss: 0.2106 - accuracy: 0.9639 - auc: 0.9886 - precision: 0.9896 - recall: 0.9661\n"
     ]
    },
    {
     "data": {
      "text/plain": [
       "<keras.callbacks.History at 0x23a1f674dc0>"
      ]
     },
     "execution_count": 5,
     "metadata": {},
     "output_type": "execute_result"
    }
   ],
   "source": [
    "# Compile and train the model\n",
    "model.compile(optimizer='adam',\n",
    "              loss=tf.keras.losses.BinaryCrossentropy(),\n",
    "              metrics=['accuracy', 'AUC', 'Precision', 'Recall'])\n",
    "\n",
    "callback = tf.keras.callbacks.EarlyStopping(monitor='auc', patience=3)\n",
    "\n",
    "model.fit(dataset[0], epochs=10, class_weight={0: 4, 1: 1}, callbacks=[callback])"
   ]
  },
  {
   "cell_type": "code",
   "execution_count": 6,
   "metadata": {},
   "outputs": [
    {
     "name": "stdout",
     "output_type": "stream",
     "text": [
      "13/13 [==============================] - 2s 114ms/step - loss: 1.4245 - accuracy: 0.7594 - auc: 0.7149 - precision: 0.8863 - recall: 0.8104\n",
      "Loss: 1.4244863986968994, Accuracy: 0.7593985199928284, AUC: 0.714853048324585, Precision: 0.8862876296043396, Recall: 0.8103975653648376\n"
     ]
    }
   ],
   "source": [
    "loss, accuracy, auc, precision, recall = model.evaluate(dataset[1])\n",
    "print(f'Loss: {loss}, Accuracy: {accuracy}, AUC: {auc}, Precision: {precision}, Recall: {recall}')"
   ]
  },
  {
   "cell_type": "code",
   "execution_count": 7,
   "metadata": {},
   "outputs": [
    {
     "name": "stdout",
     "output_type": "stream",
     "text": [
      "13/13 [==============================] - 1s 85ms/step\n",
      "              precision    recall  f1-score   support\n",
      "\n",
      "         0.0       0.38      0.53      0.44        72\n",
      "         1.0       0.89      0.81      0.85       327\n",
      "\n",
      "    accuracy                           0.76       399\n",
      "   macro avg       0.63      0.67      0.64       399\n",
      "weighted avg       0.79      0.76      0.77       399\n",
      "\n",
      "[[ 38  34]\n",
      " [ 62 265]]\n",
      "Confusion Matrix:\n"
     ]
    },
    {
     "data": {
      "text/plain": [
       "<Axes: >"
      ]
     },
     "execution_count": 7,
     "metadata": {},
     "output_type": "execute_result"
    },
    {
     "data": {
      "image/png": "[encoded data removed]",
      "text/plain": [
       "<Figure size 640x480 with 2 Axes>"
      ]
     },
     "metadata": {},
     "output_type": "display_data"
    }
   ],
   "source": [
    "from sklearn.metrics import classification_report, confusion_matrix\n",
    "import numpy as np\n",
    "import seaborn as sns\n",
    "\n",
    "# Get the predictions on the validation data\n",
    "y_pred = model.predict(dataset[1])\n",
    "\n",
    "# Convert the predictions to binary values\n",
    "y_pred_binary = (y_pred > 0.5).astype(int)\n",
    "\n",
    "# Get the true labels from the validation data\n",
    "y_true = np.concatenate([y for x, y in dataset[1]], axis=0)\n",
    "\n",
    "# Generate the classification report\n",
    "report = classification_report(y_true, y_pred_binary)\n",
    "print(report)\n",
    "\n",
    "# Generate the confusion matrix\n",
    "matrix = confusion_matrix(y_true, y_pred_binary)\n",
    "print(matrix)\n",
    "\n",
    "print(\"Confusion Matrix:\")\n",
    "sns.heatmap(confusion_matrix(y_true,y_pred_binary),annot = True,fmt='d')"
   ]
  },
  {
   "cell_type": "code",
   "execution_count": 9,
   "metadata": {},
   "outputs": [],
   "source": [
    "model2 = tf.keras.Sequential([\n",
    "    #data_augmentation,\n",
    "    layers.Conv2D(32, kernel_size=(3,3), activation='relu', input_shape=(256, 256, 1)),\n",
    "    layers.Conv2D(64, (3,3), activation='relu'),\n",
    "    layers.MaxPooling2D(pool_size=(2,2)),\n",
    "    layers.Dropout(0.25),\n",
    "\n",
    "    layers.Conv2D(64, (3,3), activation='relu'),\n",
    "    layers.MaxPooling2D(pool_size=(2,2)),\n",
    "    layers.Dropout(0.25),\n",
    "\n",
    "    layers.Conv2D(128, (3,3), activation='relu'),\n",
    "    layers.MaxPooling2D(pool_size=(2,2)),\n",
    "    layers.Dropout(0.25),\n",
    "\n",
    "    layers.Flatten(),\n",
    "    layers.Dense(64, activation='relu'),\n",
    "    layers.Dropout(0.25),\n",
    "    layers.Dense(1, activation='sigmoid')\n",
    "])"
   ]
  },
  {
   "cell_type": "code",
   "execution_count": 10,
   "metadata": {},
   "outputs": [
    {
     "name": "stdout",
     "output_type": "stream",
     "text": [
      "Epoch 1/30\n",
      "113/113 [==============================] - 25s 168ms/step - loss: 6.2651 - accuracy: 0.5388 - auc: 0.6261 - precision: 0.8743 - recall: 0.5115 - val_loss: 0.6129 - val_accuracy: 0.6591 - val_auc: 0.6892 - val_precision: 0.8687 - val_recall: 0.6881\n",
      "Epoch 2/30\n",
      "113/113 [==============================] - 18s 149ms/step - loss: 0.9703 - accuracy: 0.6169 - auc: 0.6922 - precision: 0.8927 - recall: 0.6060 - val_loss: 0.6185 - val_accuracy: 0.7669 - val_auc: 0.7139 - val_precision: 0.8703 - val_recall: 0.8410\n",
      "Epoch 3/30\n",
      "113/113 [==============================] - 18s 147ms/step - loss: 0.9471 - accuracy: 0.6845 - auc: 0.7242 - precision: 0.8962 - recall: 0.6961 - val_loss: 0.5649 - val_accuracy: 0.7870 - val_auc: 0.7040 - val_precision: 0.8667 - val_recall: 0.8746\n",
      "Epoch 4/30\n",
      "113/113 [==============================] - 17s 148ms/step - loss: 0.8690 - accuracy: 0.7376 - auc: 0.7668 - precision: 0.9039 - recall: 0.7612 - val_loss: 0.5424 - val_accuracy: 0.8145 - val_auc: 0.7259 - val_precision: 0.8732 - val_recall: 0.9052\n",
      "Epoch 5/30\n",
      "113/113 [==============================] - 18s 149ms/step - loss: 0.8437 - accuracy: 0.7615 - auc: 0.7879 - precision: 0.9083 - recall: 0.7890 - val_loss: 0.5252 - val_accuracy: 0.7895 - val_auc: 0.7200 - val_precision: 0.8605 - val_recall: 0.8869\n",
      "Epoch 6/30\n",
      "113/113 [==============================] - 17s 148ms/step - loss: 0.7559 - accuracy: 0.7857 - auc: 0.8355 - precision: 0.9196 - recall: 0.8096 - val_loss: 0.5153 - val_accuracy: 0.7845 - val_auc: 0.7086 - val_precision: 0.8555 - val_recall: 0.8869\n",
      "Epoch 7/30\n",
      "113/113 [==============================] - 18s 147ms/step - loss: 0.7149 - accuracy: 0.8001 - auc: 0.8585 - precision: 0.9303 - recall: 0.8178 - val_loss: 0.5801 - val_accuracy: 0.7719 - val_auc: 0.6999 - val_precision: 0.8576 - val_recall: 0.8654\n",
      "Epoch 8/30\n",
      "113/113 [==============================] - 18s 151ms/step - loss: 0.6815 - accuracy: 0.8146 - auc: 0.8781 - precision: 0.9427 - recall: 0.8242 - val_loss: 0.5129 - val_accuracy: 0.7744 - val_auc: 0.7481 - val_precision: 0.8580 - val_recall: 0.8685\n",
      "Epoch 9/30\n",
      "113/113 [==============================] - 18s 147ms/step - loss: 0.6366 - accuracy: 0.8285 - auc: 0.8970 - precision: 0.9454 - recall: 0.8394 - val_loss: 0.5698 - val_accuracy: 0.7945 - val_auc: 0.7105 - val_precision: 0.8530 - val_recall: 0.9052\n",
      "Epoch 10/30\n",
      "113/113 [==============================] - 18s 149ms/step - loss: 0.5211 - accuracy: 0.8563 - auc: 0.9293 - precision: 0.9596 - recall: 0.8611 - val_loss: 0.6282 - val_accuracy: 0.8020 - val_auc: 0.7273 - val_precision: 0.8669 - val_recall: 0.8960\n",
      "Epoch 11/30\n",
      "113/113 [==============================] - 18s 148ms/step - loss: 0.4999 - accuracy: 0.8788 - auc: 0.9392 - precision: 0.9611 - recall: 0.8882 - val_loss: 0.6117 - val_accuracy: 0.7744 - val_auc: 0.7443 - val_precision: 0.8669 - val_recall: 0.8563\n",
      "Epoch 12/30\n",
      "113/113 [==============================] - 18s 152ms/step - loss: 0.4631 - accuracy: 0.8818 - auc: 0.9470 - precision: 0.9610 - recall: 0.8923 - val_loss: 0.6366 - val_accuracy: 0.8020 - val_auc: 0.7479 - val_precision: 0.8713 - val_recall: 0.8899\n",
      "Epoch 13/30\n",
      "113/113 [==============================] - 18s 147ms/step - loss: 0.4910 - accuracy: 0.8768 - auc: 0.9418 - precision: 0.9662 - recall: 0.8808 - val_loss: 0.5814 - val_accuracy: 0.7794 - val_auc: 0.7251 - val_precision: 0.8464 - val_recall: 0.8930\n",
      "Epoch 14/30\n",
      "113/113 [==============================] - 18s 152ms/step - loss: 0.4429 - accuracy: 0.8946 - auc: 0.9523 - precision: 0.9663 - recall: 0.9031 - val_loss: 0.5984 - val_accuracy: 0.7794 - val_auc: 0.7335 - val_precision: 0.8589 - val_recall: 0.8746\n",
      "Epoch 15/30\n",
      "113/113 [==============================] - 18s 147ms/step - loss: 0.3581 - accuracy: 0.9046 - auc: 0.9679 - precision: 0.9759 - recall: 0.9062 - val_loss: 0.7004 - val_accuracy: 0.7669 - val_auc: 0.7321 - val_precision: 0.8545 - val_recall: 0.8624\n",
      "Epoch 16/30\n",
      "113/113 [==============================] - 18s 151ms/step - loss: 0.3230 - accuracy: 0.9202 - auc: 0.9730 - precision: 0.9774 - recall: 0.9241 - val_loss: 0.6957 - val_accuracy: 0.8045 - val_auc: 0.7612 - val_precision: 0.8739 - val_recall: 0.8899\n",
      "Epoch 17/30\n",
      "113/113 [==============================] - 18s 149ms/step - loss: 0.3200 - accuracy: 0.9347 - auc: 0.9752 - precision: 0.9785 - recall: 0.9411 - val_loss: 0.8103 - val_accuracy: 0.7870 - val_auc: 0.7260 - val_precision: 0.8712 - val_recall: 0.8685\n",
      "Epoch 18/30\n",
      "113/113 [==============================] - 18s 150ms/step - loss: 0.2852 - accuracy: 0.9374 - auc: 0.9799 - precision: 0.9813 - recall: 0.9417 - val_loss: 0.6933 - val_accuracy: 0.8020 - val_auc: 0.7542 - val_precision: 0.8713 - val_recall: 0.8899\n",
      "Epoch 19/30\n",
      "113/113 [==============================] - 18s 149ms/step - loss: 0.2342 - accuracy: 0.9486 - auc: 0.9858 - precision: 0.9836 - recall: 0.9533 - val_loss: 0.7996 - val_accuracy: 0.8221 - val_auc: 0.7521 - val_precision: 0.8765 - val_recall: 0.9113\n",
      "Epoch 20/30\n",
      "113/113 [==============================] - 18s 156ms/step - loss: 0.2603 - accuracy: 0.9413 - auc: 0.9827 - precision: 0.9838 - recall: 0.9441 - val_loss: 0.8196 - val_accuracy: 0.8045 - val_auc: 0.7411 - val_precision: 0.8739 - val_recall: 0.8899\n",
      "Epoch 21/30\n",
      "113/113 [==============================] - 18s 148ms/step - loss: 0.2177 - accuracy: 0.9455 - auc: 0.9878 - precision: 0.9866 - recall: 0.9465 - val_loss: 0.9418 - val_accuracy: 0.8246 - val_auc: 0.7325 - val_precision: 0.8746 - val_recall: 0.9174\n",
      "Epoch 22/30\n",
      "113/113 [==============================] - 18s 152ms/step - loss: 0.2711 - accuracy: 0.9475 - auc: 0.9822 - precision: 0.9825 - recall: 0.9529 - val_loss: 0.7737 - val_accuracy: 0.8195 - val_auc: 0.7278 - val_precision: 0.8674 - val_recall: 0.9205\n",
      "Epoch 23/30\n",
      "113/113 [==============================] - 18s 149ms/step - loss: 0.1999 - accuracy: 0.9627 - auc: 0.9903 - precision: 0.9872 - recall: 0.9671 - val_loss: 0.8305 - val_accuracy: 0.8145 - val_auc: 0.7128 - val_precision: 0.8584 - val_recall: 0.9266\n",
      "Epoch 24/30\n",
      "113/113 [==============================] - 18s 152ms/step - loss: 0.3024 - accuracy: 0.9405 - auc: 0.9783 - precision: 0.9831 - recall: 0.9438 - val_loss: 0.8009 - val_accuracy: 0.8045 - val_auc: 0.7456 - val_precision: 0.8807 - val_recall: 0.8807\n",
      "Epoch 25/30\n",
      "113/113 [==============================] - 18s 148ms/step - loss: 0.2173 - accuracy: 0.9575 - auc: 0.9892 - precision: 0.9875 - recall: 0.9604 - val_loss: 0.7815 - val_accuracy: 0.8120 - val_auc: 0.7361 - val_precision: 0.8772 - val_recall: 0.8960\n",
      "Epoch 26/30\n",
      "113/113 [==============================] - 18s 151ms/step - loss: 0.1810 - accuracy: 0.9625 - auc: 0.9915 - precision: 0.9882 - recall: 0.9658 - val_loss: 0.7956 - val_accuracy: 0.8170 - val_auc: 0.7391 - val_precision: 0.8780 - val_recall: 0.9021\n",
      "Epoch 27/30\n",
      "113/113 [==============================] - 18s 150ms/step - loss: 0.1244 - accuracy: 0.9764 - auc: 0.9959 - precision: 0.9908 - recall: 0.9804 - val_loss: 0.9244 - val_accuracy: 0.8145 - val_auc: 0.7552 - val_precision: 0.8845 - val_recall: 0.8899\n",
      "Epoch 28/30\n",
      "113/113 [==============================] - 18s 150ms/step - loss: 0.1975 - accuracy: 0.9703 - auc: 0.9914 - precision: 0.9900 - recall: 0.9736 - val_loss: 0.8237 - val_accuracy: 0.8271 - val_auc: 0.7579 - val_precision: 0.8817 - val_recall: 0.9113\n",
      "Epoch 29/30\n",
      "113/113 [==============================] - 18s 151ms/step - loss: 0.1793 - accuracy: 0.9691 - auc: 0.9911 - precision: 0.9886 - recall: 0.9736 - val_loss: 0.9961 - val_accuracy: 0.7945 - val_auc: 0.7309 - val_precision: 0.8657 - val_recall: 0.8869\n",
      "Epoch 30/30\n",
      "113/113 [==============================] - 18s 149ms/step - loss: 0.1381 - accuracy: 0.9733 - auc: 0.9946 - precision: 0.9897 - recall: 0.9776 - val_loss: 0.8989 - val_accuracy: 0.8221 - val_auc: 0.7505 - val_precision: 0.8855 - val_recall: 0.8991\n"
     ]
    },
    {
     "data": {
      "text/plain": [
       "<keras.callbacks.History at 0x23bfe6de290>"
      ]
     },
     "execution_count": 10,
     "metadata": {},
     "output_type": "execute_result"
    }
   ],
   "source": [
    "# Compile and train the model\n",
    "model2.compile(optimizer='adam',\n",
    "              loss=tf.keras.losses.BinaryCrossentropy(),\n",
    "              metrics=['accuracy', 'AUC', 'Precision', 'Recall'])\n",
    "\n",
    "callback = tf.keras.callbacks.EarlyStopping(monitor='auc', patience=3)\n",
    "\n",
    "model2.fit(dataset[0], epochs=30, validation_data=dataset[1], class_weight={0: 4, 1: 1}, callbacks=[callback])"
   ]
  },
  {
   "cell_type": "code",
   "execution_count": 12,
   "metadata": {},
   "outputs": [
    {
     "name": "stdout",
     "output_type": "stream",
     "text": [
      "13/13 [==============================] - 1s 90ms/step\n",
      "              precision    recall  f1-score   support\n",
      "\n",
      "         0.0       0.51      0.47      0.49        72\n",
      "         1.0       0.89      0.90      0.89       327\n",
      "\n",
      "    accuracy                           0.82       399\n",
      "   macro avg       0.70      0.69      0.69       399\n",
      "weighted avg       0.82      0.82      0.82       399\n",
      "\n",
      "Confusion Matrix:\n"
     ]
    },
    {
     "data": {
      "text/plain": [
       "<Axes: >"
      ]
     },
     "execution_count": 12,
     "metadata": {},
     "output_type": "execute_result"
    },
    {
     "data": {
      "image/png": "[encoded data removed]",
      "text/plain": [
       "<Figure size 640x480 with 2 Axes>"
      ]
     },
     "metadata": {},
     "output_type": "display_data"
    }
   ],
   "source": [
    "from sklearn.metrics import classification_report, confusion_matrix\n",
    "import numpy as np\n",
    "import seaborn as sns\n",
    "\n",
    "# Get the predictions on the validation data\n",
    "y_pred = model2.predict(dataset[1])\n",
    "\n",
    "# Convert the predictions to binary values\n",
    "y_pred_binary = (y_pred > 0.5).astype(int)\n",
    "\n",
    "# Get the true labels from the validation data\n",
    "y_true = np.concatenate([y for x, y in dataset[1]], axis=0)\n",
    "\n",
    "# Generate the classification report\n",
    "report = classification_report(y_true, y_pred_binary)\n",
    "print(report)\n",
    "\n",
    "print(\"Confusion Matrix:\")\n",
    "sns.heatmap(confusion_matrix(y_true,y_pred_binary),annot = True,fmt='d')"
   ]
  },
  {
   "cell_type": "code",
   "execution_count": 13,
   "metadata": {},
   "outputs": [
    {
     "name": "stderr",
     "output_type": "stream",
     "text": [
      "WARNING:absl:Found untraced functions such as _jit_compiled_convolution_op, _jit_compiled_convolution_op, _jit_compiled_convolution_op, _jit_compiled_convolution_op while saving (showing 4 of 4). These functions will not be directly callable after loading.\n"
     ]
    },
    {
     "name": "stdout",
     "output_type": "stream",
     "text": [
      "INFO:tensorflow:Assets written to: frac_atlas_model\\assets\n"
     ]
    },
    {
     "name": "stderr",
     "output_type": "stream",
     "text": [
      "INFO:tensorflow:Assets written to: frac_atlas_model\\assets\n"
     ]
    }
   ],
   "source": [
    "model2.save('frac_atlas_model')"
   ]
  }
 ],
 "metadata": {
  "kernelspec": {
   "display_name": "ML_development",
   "language": "python",
   "name": "python3"
  },
  "language_info": {
   "codemirror_mode": {
    "name": "ipython",
    "version": 3
   },
   "file_extension": ".py",
   "mimetype": "text/x-python",
   "name": "python",
   "nbconvert_exporter": "python",
   "pygments_lexer": "ipython3",
   "version": "3.10.13"
  }
 },
 "nbformat": 4,
 "nbformat_minor": 2
}
